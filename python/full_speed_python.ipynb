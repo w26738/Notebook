{
 "cells": [
  {
   "cell_type": "markdown",
   "metadata": {},
   "source": [
    "Exercises of https://github.com/joaoventura/full-speed-python/releases/"
   ]
  },
  {
   "cell_type": "markdown",
   "metadata": {},
   "source": [
    "### Numbers and strings"
   ]
  },
  {
   "cell_type": "markdown",
   "metadata": {},
   "source": [
    "#### Try the following mathematical calculations and guess what is happening: ((3 / 2)), ((3 // 2)), ((3 % 2)), ((3\\**2))."
   ]
  },
  {
   "cell_type": "code",
   "execution_count": 1,
   "metadata": {},
   "outputs": [
    {
     "name": "stdout",
     "output_type": "stream",
     "text": [
      "1.5\n",
      "1\n",
      "1\n",
      "9\n"
     ]
    }
   ],
   "source": [
    "print(3 / 2)\n",
    "print(3 // 2)\n",
    "print(3 % 2)\n",
    "print(3 ** 2)"
   ]
  },
  {
   "cell_type": "markdown",
   "metadata": {},
   "source": [
    "#### Calculate the average of the following sequences of numbers: (2, 4), (4, 8, 9), (12, 14/6, 15)"
   ]
  },
  {
   "cell_type": "code",
   "execution_count": 2,
   "metadata": {},
   "outputs": [
    {
     "name": "stdout",
     "output_type": "stream",
     "text": [
      "[3.0, 7.0, 9.777777777777779]\n"
     ]
    }
   ],
   "source": [
    "print(list(map(lambda x: sum(x)/len(x), ([2,4], [4,8,9], [12,14/6,15]))))"
   ]
  },
  {
   "cell_type": "markdown",
   "metadata": {},
   "source": [
    "#### The volume of a sphere is given by (4/3 * pi * rˆ3). Calculate the volume of a sphere of radius 5. Suggestion: create a variable named “pi” with the value of 3.1415."
   ]
  },
  {
   "cell_type": "code",
   "execution_count": 3,
   "metadata": {},
   "outputs": [
    {
     "name": "stdout",
     "output_type": "stream",
     "text": [
      "523.5833333333333\n"
     ]
    }
   ],
   "source": [
    "pi = 3.1415\n",
    "r = 5\n",
    "v = 4/3 * pi * r*r*r\n",
    "print(v)"
   ]
  },
  {
   "cell_type": "markdown",
   "metadata": {},
   "source": [
    "#### Use the module operator (%) to check which of the following numbers is even or odd: (1, 5, 20, 60/7)."
   ]
  },
  {
   "cell_type": "code",
   "execution_count": 4,
   "metadata": {},
   "outputs": [
    {
     "name": "stdout",
     "output_type": "stream",
     "text": [
      "[True, True, False, True]\n"
     ]
    }
   ],
   "source": [
    "print(list(map(lambda x: x%2!=0, [1, 5, 20, 60/7])))"
   ]
  },
  {
   "cell_type": "markdown",
   "metadata": {},
   "source": [
    "#### Find some values for (x) and (y) such that (x < 1/3 < y) returns “True” on the Python REPL. Suggestion: try (0 < 1/3 < 1) on the REPL"
   ]
  },
  {
   "cell_type": "code",
   "execution_count": 5,
   "metadata": {},
   "outputs": [
    {
     "data": {
      "text/plain": [
       "True"
      ]
     },
     "execution_count": 5,
     "metadata": {},
     "output_type": "execute_result"
    }
   ],
   "source": [
    "0 < 1/3 <1"
   ]
  },
  {
   "cell_type": "markdown",
   "metadata": {},
   "source": [
    "#### Initialize the string “abc” on a variable named “s”:  1. Use a function to get the length of the string. 2. Write the necessary sequence of operations to transform the string “abc” in “aaabbbccc”. Suggestion: Use string concatenation and string indexes."
   ]
  },
  {
   "cell_type": "code",
   "execution_count": 6,
   "metadata": {},
   "outputs": [
    {
     "name": "stdout",
     "output_type": "stream",
     "text": [
      "3\n",
      "aaabbbccc\n",
      "aaabbbccc\n"
     ]
    }
   ],
   "source": [
    "s = 'abc'\n",
    "print(len(s))\n",
    "print(s[0]*3 + s[1]*3 + s[2]*3)\n",
    "print(\"%s%s%s\" %(s[0]*3, s[1]*3, s[2]*3))"
   ]
  },
  {
   "cell_type": "markdown",
   "metadata": {},
   "source": [
    "#### Initialize the string “aaabbbccc” on a variable named “s”: 1. Use a function that allows you to find the first occurence of “b” in the string, and the first occurence of “ccc”. 2. Use a function that allows you to replace all occurences of “a” to “X”, and then use the same function to change only the first occurence of “a” to “X”."
   ]
  },
  {
   "cell_type": "code",
   "execution_count": 7,
   "metadata": {},
   "outputs": [
    {
     "name": "stdout",
     "output_type": "stream",
     "text": [
      "3\n",
      "6\n",
      "XXXbbbccc\n"
     ]
    }
   ],
   "source": [
    "s = 'aaabbbccc'\n",
    "print(s.find('b'))\n",
    "print(s.find('ccc'))\n",
    "print(s.replace('a', 'X'))"
   ]
  },
  {
   "cell_type": "markdown",
   "metadata": {},
   "source": [
    "#### 3. Starting from the string “aaa bbb ccc”, what sequences of operations do you need to arrive at the following strings? You can use the “replace” function. 1. “AAA BBB CCC” 2. “AAA bbb CCC”"
   ]
  },
  {
   "cell_type": "code",
   "execution_count": 8,
   "metadata": {},
   "outputs": [
    {
     "name": "stdout",
     "output_type": "stream",
     "text": [
      "AAA BBB CCC\n",
      "AAA bbb CCC\n"
     ]
    }
   ],
   "source": [
    "s = 'aaa bbb ccc'\n",
    "print(s.upper())\n",
    "print(s.upper().replace('BBB', 'bbb'))"
   ]
  },
  {
   "cell_type": "markdown",
   "metadata": {},
   "source": [
    "### Lists"
   ]
  },
  {
   "cell_type": "markdown",
   "metadata": {},
   "source": [
    "#### Create a list named “l” with the following values ([1, 4, 9, 10, 23])."
   ]
  },
  {
   "cell_type": "code",
   "execution_count": 9,
   "metadata": {
    "collapsed": true
   },
   "outputs": [],
   "source": [
    "l = [1, 4, 9, 10, 23]"
   ]
  },
  {
   "cell_type": "markdown",
   "metadata": {},
   "source": [
    "#### Using list slicing get the sublists [4, 9] and [10, 23]"
   ]
  },
  {
   "cell_type": "code",
   "execution_count": 10,
   "metadata": {},
   "outputs": [
    {
     "name": "stdout",
     "output_type": "stream",
     "text": [
      "[4, 9]\n",
      "[10, 23]\n"
     ]
    }
   ],
   "source": [
    "print(l[1:3])\n",
    "print(l[3:])"
   ]
  },
  {
   "cell_type": "markdown",
   "metadata": {},
   "source": [
    "#### Append the value 90 to the end of the list “l”. Check the difference between list concatenation and the “append” method."
   ]
  },
  {
   "cell_type": "code",
   "execution_count": 11,
   "metadata": {},
   "outputs": [
    {
     "name": "stdout",
     "output_type": "stream",
     "text": [
      "None\n",
      "[1, 4, 9, 10, 23, 90]\n"
     ]
    }
   ],
   "source": [
    "print(l.append(90))\n",
    "print(l)"
   ]
  },
  {
   "cell_type": "markdown",
   "metadata": {},
   "source": [
    "#### Calculate the average value of all values on the list. You can use the “sum” and “len” functions."
   ]
  },
  {
   "cell_type": "code",
   "execution_count": 12,
   "metadata": {},
   "outputs": [
    {
     "name": "stdout",
     "output_type": "stream",
     "text": [
      "22.833333333333332\n"
     ]
    }
   ],
   "source": [
    "print(sum(l)/len(l))"
   ]
  },
  {
   "cell_type": "markdown",
   "metadata": {},
   "source": [
    "#### Remove the sublist [4, 9]"
   ]
  },
  {
   "cell_type": "code",
   "execution_count": 13,
   "metadata": {},
   "outputs": [
    {
     "name": "stdout",
     "output_type": "stream",
     "text": [
      "[1, 10, 23, 90]\n"
     ]
    }
   ],
   "source": [
    "del l[1:3]\n",
    "print(l)"
   ]
  },
  {
   "cell_type": "markdown",
   "metadata": {},
   "source": [
    "#### Using list comprehensions, create a list with the squares of the first 10 numbers."
   ]
  },
  {
   "cell_type": "code",
   "execution_count": 14,
   "metadata": {},
   "outputs": [
    {
     "name": "stdout",
     "output_type": "stream",
     "text": [
      "[0, 1, 4, 9, 16, 25, 36, 49, 64, 81]\n"
     ]
    }
   ],
   "source": [
    "print([x*x for x in range(10)])"
   ]
  },
  {
   "cell_type": "markdown",
   "metadata": {},
   "source": [
    "#### Using list comprehensions, create a list with the cubes of the first 20 numbers."
   ]
  },
  {
   "cell_type": "code",
   "execution_count": 15,
   "metadata": {},
   "outputs": [
    {
     "name": "stdout",
     "output_type": "stream",
     "text": [
      "[0, 1, 8, 27, 64, 125, 216, 343, 512, 729, 1000, 1331, 1728, 2197, 2744, 3375, 4096, 4913, 5832, 6859]\n"
     ]
    }
   ],
   "source": [
    "print([x*x*x for x in range(20)])"
   ]
  },
  {
   "cell_type": "markdown",
   "metadata": {},
   "source": [
    "#### Create a list comprehension with all the even numbers from 0 to 20, and another one with all the odd numbers."
   ]
  },
  {
   "cell_type": "code",
   "execution_count": 16,
   "metadata": {},
   "outputs": [
    {
     "name": "stdout",
     "output_type": "stream",
     "text": [
      "[0, 2, 4, 6, 8, 10, 12, 14, 16, 18]\n",
      "[1, 3, 5, 7, 9, 11, 13, 15, 17, 19]\n"
     ]
    }
   ],
   "source": [
    "print([x for x in range(20) if x%2==0])\n",
    "print([x for x in range(20) if x%2==1])"
   ]
  },
  {
   "cell_type": "markdown",
   "metadata": {},
   "source": [
    "#### Create a list with the squares of the even numbers from 0 to 20, and sum the list using the “sum” function. The result should be 1140. First create the list using list comprehensions, check the result, then apply the sum to the list comprehension."
   ]
  },
  {
   "cell_type": "code",
   "execution_count": 17,
   "metadata": {},
   "outputs": [
    {
     "name": "stdout",
     "output_type": "stream",
     "text": [
      "1140\n"
     ]
    }
   ],
   "source": [
    "print(sum([x*x for x in range(20) if x%2==0]))"
   ]
  },
  {
   "cell_type": "markdown",
   "metadata": {},
   "source": [
    "#### Make a list comprehension that returns a list with the squares of all even numbers from 0 to 20, but ignore those numbers that are divisible by 3. In other words, each number should be divisible by 2 and not divisible by 3. Search for the “and” keyword in the Python documentation."
   ]
  },
  {
   "cell_type": "code",
   "execution_count": 18,
   "metadata": {},
   "outputs": [
    {
     "name": "stdout",
     "output_type": "stream",
     "text": [
      "[4, 16, 64, 100, 196, 256]\n"
     ]
    }
   ],
   "source": [
    "print([x*x for x in range(20) if x%2==0 and x%3!=0])"
   ]
  },
  {
   "cell_type": "markdown",
   "metadata": {},
   "source": [
    "### Modules and functions"
   ]
  },
  {
   "cell_type": "markdown",
   "metadata": {},
   "source": [
    "#### Find the greatest common divisor of the following pairs of numbers: (15, 21), (152, 200), (1988, 9765)."
   ]
  },
  {
   "cell_type": "code",
   "execution_count": 19,
   "metadata": {},
   "outputs": [
    {
     "name": "stdout",
     "output_type": "stream",
     "text": [
      "[3, 8, 7]\n"
     ]
    }
   ],
   "source": [
    "import math\n",
    "\n",
    "print(list(map(math.gcd, [15,152,1988], [21,200,9765])))"
   ]
  },
  {
   "cell_type": "markdown",
   "metadata": {},
   "source": [
    "#### Compute the base-2 logarithm of the following numbers: 0, 1, 2, 6, 9, 15"
   ]
  },
  {
   "cell_type": "code",
   "execution_count": 20,
   "metadata": {},
   "outputs": [
    {
     "name": "stdout",
     "output_type": "stream",
     "text": [
      "[0.0, 1.0, 2.584962500721156, 3.169925001442312, 3.9068905956085187]\n"
     ]
    }
   ],
   "source": [
    "print(list(map(math.log2, [1, 2, 6, 9, 15])))"
   ]
  },
  {
   "cell_type": "markdown",
   "metadata": {},
   "source": [
    "#### Use the “input” function to ask the user for a number and show the result of the sine, cosine and tangent of the number. Make sure that you convert the user input from string to a number (use the int() or the float() function)."
   ]
  },
  {
   "cell_type": "code",
   "execution_count": 21,
   "metadata": {},
   "outputs": [
    {
     "name": "stdout",
     "output_type": "stream",
     "text": [
      "0.8660254037844386 0.5000000000000001 1.7320508075688767\n"
     ]
    }
   ],
   "source": [
    "x = 60/180*math.pi # input by user\n",
    "print(math.sin(x), math.cos(x), math.tan(x))"
   ]
  },
  {
   "cell_type": "markdown",
   "metadata": {},
   "source": [
    "#### Implement the “add2” function that receives two numbers as arguments and returns the sum of the numbers. Then implement the “add3” function that receives and sums 3 parameters."
   ]
  },
  {
   "cell_type": "code",
   "execution_count": 22,
   "metadata": {},
   "outputs": [
    {
     "name": "stdout",
     "output_type": "stream",
     "text": [
      "3 12.0\n"
     ]
    }
   ],
   "source": [
    "def add2(x, y):\n",
    "    return x + y\n",
    "\n",
    "def add3(x, y, z):\n",
    "    return x + y + z\n",
    "\n",
    "print(add2(1, 2), add3(3, 4.0, 5))"
   ]
  },
  {
   "cell_type": "markdown",
   "metadata": {},
   "source": [
    "#### Implement a function that returns the greatest of two numbers given as parameters. "
   ]
  },
  {
   "cell_type": "code",
   "execution_count": 23,
   "metadata": {},
   "outputs": [
    {
     "name": "stdout",
     "output_type": "stream",
     "text": [
      "4.9\n"
     ]
    }
   ],
   "source": [
    "def max2(x, y):\n",
    "    return x if x>y else y\n",
    "\n",
    "print(max2(3, 4.9))"
   ]
  },
  {
   "cell_type": "markdown",
   "metadata": {},
   "source": [
    "#### Implement a function named “is_divisible” that receives two parameters (named “a” and “b”) and returns true if “a” can be divided by “b” or false otherwise. A number is divisible by another when the remainder of the division is zero."
   ]
  },
  {
   "cell_type": "code",
   "execution_count": 24,
   "metadata": {},
   "outputs": [
    {
     "name": "stdout",
     "output_type": "stream",
     "text": [
      "False\n",
      "True\n"
     ]
    }
   ],
   "source": [
    "def is_divisible(x, y):\n",
    "    return True if x%y == 0 else False\n",
    "\n",
    "print(is_divisible(6, 4))\n",
    "print(is_divisible(8, 4.0))"
   ]
  },
  {
   "cell_type": "markdown",
   "metadata": {},
   "source": [
    "#### Create a function named “average” that computes the average value of a list passed as parameter to the function. Use the “sum” and “len” functions."
   ]
  },
  {
   "cell_type": "code",
   "execution_count": 25,
   "metadata": {},
   "outputs": [
    {
     "name": "stdout",
     "output_type": "stream",
     "text": [
      "3.5\n"
     ]
    }
   ],
   "source": [
    "def average(l):\n",
    "    return sum(l) / len(l)\n",
    "\n",
    "l = [1, 2, 3.0, 8]\n",
    "print(average(l))"
   ]
  },
  {
   "cell_type": "markdown",
   "metadata": {},
   "source": [
    "#### Implement the factorial function and test it with several different values. Cross-check with a calculator"
   ]
  },
  {
   "cell_type": "code",
   "execution_count": 26,
   "metadata": {},
   "outputs": [
    {
     "name": "stdout",
     "output_type": "stream",
     "text": [
      "3628800\n"
     ]
    }
   ],
   "source": [
    "def fact(n):\n",
    "    return 1 if n==0 or n==1 else n*fact(n-1)\n",
    "\n",
    "print(fact(10))"
   ]
  },
  {
   "cell_type": "markdown",
   "metadata": {},
   "source": [
    "#### Implement a recursive function to compute the sum of the (n) first integer numbers (where (n) is a function parameter). "
   ]
  },
  {
   "cell_type": "code",
   "execution_count": 27,
   "metadata": {},
   "outputs": [
    {
     "name": "stdout",
     "output_type": "stream",
     "text": [
      "55\n"
     ]
    }
   ],
   "source": [
    "def sum_n(n):\n",
    "    return 0 if n==0 else n+sum_n(n-1)\n",
    "\n",
    "print(sum_n(10))"
   ]
  },
  {
   "cell_type": "markdown",
   "metadata": {},
   "source": [
    "#### The Fibonnaci sequence is a sequence of numbers in which each number of the sequence matches the sum of the previous two terms."
   ]
  },
  {
   "cell_type": "code",
   "execution_count": 28,
   "metadata": {},
   "outputs": [
    {
     "name": "stdout",
     "output_type": "stream",
     "text": [
      "[0, 1, 1, 2, 3, 5, 8, 13, 21, 34]\n"
     ]
    }
   ],
   "source": [
    "def fibo(n):\n",
    "    return n if n==0 or n==1 else fibo(n-1)+fibo(n-2)\n",
    "\n",
    "print(list(map(fibo, range(10))))"
   ]
  },
  {
   "cell_type": "markdown",
   "metadata": {},
   "source": [
    "### Iteration and loops"
   ]
  },
  {
   "cell_type": "markdown",
   "metadata": {},
   "source": [
    "#### Create a function “add” that receives a list as parameter and returns the sum of all elements in the list. Use the “for” loop to iterate over the elements of the list."
   ]
  },
  {
   "cell_type": "code",
   "execution_count": 29,
   "metadata": {},
   "outputs": [
    {
     "name": "stdout",
     "output_type": "stream",
     "text": [
      "15.0\n"
     ]
    }
   ],
   "source": [
    "def add(l):\n",
    "    s = 0\n",
    "    for i in l:\n",
    "        s += i\n",
    "    return s\n",
    "\n",
    "print(add([1, 2, 3, 4.0, 5]))"
   ]
  },
  {
   "cell_type": "markdown",
   "metadata": {},
   "source": [
    "#### Create a function that receives a list as parameter and returns the maximum value in the list. As you iterate over the list you may want to keep the maximum value found so far in order to keep comparing it with the next elements of the list."
   ]
  },
  {
   "cell_type": "code",
   "execution_count": 30,
   "metadata": {},
   "outputs": [
    {
     "name": "stdout",
     "output_type": "stream",
     "text": [
      "9\n"
     ]
    }
   ],
   "source": [
    "def max(l):\n",
    "    t = l[0]\n",
    "    for i in range(1,len(l)-1):\n",
    "        if t>l[i]:\n",
    "            continue\n",
    "        else:\n",
    "            t = l[i]\n",
    "    return t\n",
    "\n",
    "print(max([3, 8.0, 7.0, 9, 4, 9.0]))"
   ]
  },
  {
   "cell_type": "markdown",
   "metadata": {},
   "source": [
    "#### Modify the previous function such that it returns a list with the first element being the maximum value and the second being the index of the maximum value in the list."
   ]
  },
  {
   "cell_type": "code",
   "execution_count": 31,
   "metadata": {},
   "outputs": [
    {
     "name": "stdout",
     "output_type": "stream",
     "text": [
      "[9, 3]\n"
     ]
    }
   ],
   "source": [
    "def max2(l):\n",
    "    t = l[0]\n",
    "    j = 0\n",
    "    for i in range(1,len(l)-1):\n",
    "        if t > l[i]:\n",
    "            continue\n",
    "        else:\n",
    "            t = l[i]\n",
    "            j = i\n",
    "    return [t, j]\n",
    "\n",
    "print(max2([2, 8.0, 7.0, 9, 4, 9.0]))"
   ]
  },
  {
   "cell_type": "markdown",
   "metadata": {},
   "source": [
    "#### Implement a function that returns the reverse of a list received as parameter. You may create an empty list and keep adding the values in reversed order as they come from the original list. "
   ]
  },
  {
   "cell_type": "code",
   "execution_count": 32,
   "metadata": {},
   "outputs": [
    {
     "name": "stdout",
     "output_type": "stream",
     "text": [
      "[9.0, 4, 9, 7.0, 8.0, 2]\n"
     ]
    }
   ],
   "source": [
    "def reverse(l):\n",
    "    return l[::-1]\n",
    "\n",
    "print(reverse([2, 8.0, 7.0, 9, 4, 9.0]))"
   ]
  },
  {
   "cell_type": "markdown",
   "metadata": {},
   "source": [
    "#### Make the function “is_sorted” that receives a list as parameter and returns True if the list is sorted in ascending order. For instance [1, 2, 2, 3] is ordered while [1, 2, 3, 2] is not."
   ]
  },
  {
   "cell_type": "code",
   "execution_count": 33,
   "metadata": {},
   "outputs": [
    {
     "name": "stdout",
     "output_type": "stream",
     "text": [
      "False\n",
      "True\n"
     ]
    }
   ],
   "source": [
    "def is_sorted(l):\n",
    "    return sorted(l) == l\n",
    "\n",
    "def is_sorted2(l):\n",
    "    t = l[0]\n",
    "    flag = True\n",
    "    for i in range(1,len(l)-1):\n",
    "        if t < l[i]:\n",
    "            t = l[i]\n",
    "            continue\n",
    "        else:\n",
    "            flag = False\n",
    "            break\n",
    "    return flag\n",
    "    \n",
    "\n",
    "print(is_sorted2([9.0, 4, 9, 7.0, 8.0, 2]))\n",
    "print(is_sorted2([1, 2.0, 3, 4, 8, 10.0]))    "
   ]
  },
  {
   "cell_type": "code",
   "execution_count": 34,
   "metadata": {},
   "outputs": [
    {
     "name": "stdout",
     "output_type": "stream",
     "text": [
      "False\n",
      "True\n"
     ]
    }
   ],
   "source": [
    "def is_sorted_dec(l):\n",
    "    t = l[0]\n",
    "    flag = True\n",
    "    for i in range(1,len(l)-1):\n",
    "        if t > l[i]:\n",
    "            t = l[i]\n",
    "            continue\n",
    "        else:\n",
    "            flag = False\n",
    "            break\n",
    "    return flag\n",
    "\n",
    "print(is_sorted_dec([1, 2.0, 3, 4, 8, 10.0])) \n",
    "print(is_sorted_dec(reverse([1, 2.0, 3, 4, 8, 10.0])))"
   ]
  },
  {
   "cell_type": "markdown",
   "metadata": {},
   "source": [
    "#### Implement the “has_duplicates” function which verifies if a list has duplicate values"
   ]
  },
  {
   "cell_type": "code",
   "execution_count": 35,
   "metadata": {},
   "outputs": [
    {
     "name": "stdout",
     "output_type": "stream",
     "text": [
      "True\n",
      "False\n"
     ]
    }
   ],
   "source": [
    "def has_duplicates(l):\n",
    "    for i in range(len(l)):\n",
    "        for j in range(i+1, len(l)):\n",
    "            if l[i] != l[j]:\n",
    "                continue\n",
    "            else:\n",
    "                return True\n",
    "    return False\n",
    "\n",
    "def has_duplicates2(l):\n",
    "    l = sorted(l)\n",
    "    for i in range(len(l)-1):\n",
    "        if l[i] == l[i+1]:\n",
    "            return True\n",
    "        else:\n",
    "            continue\n",
    "    return False\n",
    "\n",
    "print(has_duplicates([1, 2.0, 3, 4, 2.99999, 2.0])) \n",
    "print(has_duplicates2([1, 2.0, 3, 4, 2.99999, 5.0])) "
   ]
  },
  {
   "cell_type": "markdown",
   "metadata": {},
   "source": [
    "#### Implement a function that receives a number as parameter and prints, in decreasing order, which numbers are even and which are odd, until it reaches 0"
   ]
  },
  {
   "cell_type": "code",
   "execution_count": 36,
   "metadata": {},
   "outputs": [
    {
     "name": "stdout",
     "output_type": "stream",
     "text": [
      "Even number: 0\n",
      "Odd number: 1\n",
      "Even number: 0\n",
      "Odd number: 7\n",
      "Even number: 6\n",
      "Odd number: 5\n",
      "Even number: 4\n",
      "Odd number: 3\n",
      "Even number: 2\n",
      "Odd number: 1\n",
      "Even number: 0\n"
     ]
    }
   ],
   "source": [
    "def even_odd(n):\n",
    "    while n >= 0:\n",
    "        if n % 2 == 0:\n",
    "            print('Even number:', n)\n",
    "        else:\n",
    "            print('Odd number:', n)\n",
    "        n = n - 1\n",
    "\n",
    "even_odd(0)\n",
    "even_odd(1)\n",
    "even_odd(7)"
   ]
  },
  {
   "cell_type": "markdown",
   "metadata": {},
   "source": [
    "### Dictonaries"
   ]
  },
  {
   "cell_type": "markdown",
   "metadata": {},
   "source": [
    "#### How many students are in the dictionary? Search for the “len” function."
   ]
  },
  {
   "cell_type": "code",
   "execution_count": 37,
   "metadata": {},
   "outputs": [
    {
     "name": "stdout",
     "output_type": "stream",
     "text": [
      "8\n"
     ]
    }
   ],
   "source": [
    "ages = {\n",
    "\"Peter\": 10,\n",
    "\"Isabel\": 11,\n",
    "\"Anna\": 9,\n",
    "\"Thomas\": 10,\n",
    "\"Bob\": 10,\n",
    "\"Joseph\": 11,\n",
    "\"Maria\": 12,\n",
    "\"Gabriel\": 10,\n",
    "}\n",
    "\n",
    "print(len(ages))"
   ]
  },
  {
   "cell_type": "markdown",
   "metadata": {},
   "source": [
    "#### Implement a function that receives the “ages” dictionary as parameter and returns the average age of the students."
   ]
  },
  {
   "cell_type": "code",
   "execution_count": 38,
   "metadata": {},
   "outputs": [
    {
     "name": "stdout",
     "output_type": "stream",
     "text": [
      "10.375\n"
     ]
    }
   ],
   "source": [
    "def age_average(ages):\n",
    "    s = 0\n",
    "    for name, age in ages.items():\n",
    "        s += age\n",
    "    return s/len(ages)\n",
    "\n",
    "print(age_average(ages))"
   ]
  },
  {
   "cell_type": "markdown",
   "metadata": {},
   "source": [
    "#### Implement a function that receives the “ages” dictionary as parameter and returns the name of the oldest student."
   ]
  },
  {
   "cell_type": "code",
   "execution_count": 39,
   "metadata": {},
   "outputs": [
    {
     "name": "stdout",
     "output_type": "stream",
     "text": [
      "('Maria', 12)\n"
     ]
    }
   ],
   "source": [
    "def age_max(ages):\n",
    "    max_age = 0\n",
    "    max_age_name = ''\n",
    "    for name, age in ages.items():\n",
    "        if max_age < age:\n",
    "            max_age = age\n",
    "            max_age_name = name\n",
    "\n",
    "    return max_age_name, max_age\n",
    "\n",
    "print(age_max(ages))   "
   ]
  },
  {
   "cell_type": "markdown",
   "metadata": {},
   "source": [
    "#### Implement a function that receives the “ages” dictionary and a number “n” and returns a new dict where each student is (n) years older."
   ]
  },
  {
   "cell_type": "code",
   "execution_count": null,
   "metadata": {
    "collapsed": true
   },
   "outputs": [],
   "source": []
  }
 ],
 "metadata": {
  "kernelspec": {
   "display_name": "Python 3",
   "language": "python",
   "name": "python3"
  },
  "language_info": {
   "codemirror_mode": {
    "name": "ipython",
    "version": 3
   },
   "file_extension": ".py",
   "mimetype": "text/x-python",
   "name": "python",
   "nbconvert_exporter": "python",
   "pygments_lexer": "ipython3",
   "version": "3.6.3"
  },
  "toc": {
   "nav_menu": {},
   "number_sections": true,
   "sideBar": true,
   "skip_h1_title": false,
   "title_cell": "Table of Contents",
   "title_sidebar": "Contents",
   "toc_cell": false,
   "toc_position": {},
   "toc_section_display": true,
   "toc_window_display": true
  }
 },
 "nbformat": 4,
 "nbformat_minor": 2
}
