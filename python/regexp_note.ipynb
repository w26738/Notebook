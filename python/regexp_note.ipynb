{
 "cells": [
  {
   "cell_type": "markdown",
   "metadata": {},
   "source": [
    "** Exercises of https://www.w3resource.com/python-exercises/re/ **   \n",
    "** Reference: https://regex101.com/ **"
   ]
  },
  {
   "cell_type": "markdown",
   "metadata": {},
   "source": [
    "#### check that a string contains only a certain set of characters (in this case a-z, A-Z and 0-9)"
   ]
  },
  {
   "cell_type": "code",
   "execution_count": 1,
   "metadata": {},
   "outputs": [
    {
     "name": "stdout",
     "output_type": "stream",
     "text": [
      "True\n",
      "False\n"
     ]
    }
   ],
   "source": [
    "import re\n",
    "\n",
    "s = 'adsfasAdANKJK10Anksdjf'\n",
    "ss = '^#&&#&'\n",
    "\n",
    "def match(s):\n",
    "    p = re.compile(r'[a-zA-Z0-9]') \n",
    "    x = p.search(s)\n",
    "    return True if x else False\n",
    "\n",
    "print(match(s))\n",
    "print(match(ss))"
   ]
  },
  {
   "cell_type": "markdown",
   "metadata": {},
   "source": [
    "####  match a string that has an a followed by zero or more b's"
   ]
  },
  {
   "cell_type": "code",
   "execution_count": 2,
   "metadata": {},
   "outputs": [
    {
     "name": "stdout",
     "output_type": "stream",
     "text": [
      "<_sre.SRE_Match object; span=(0, 0), match=''>\n",
      "<_sre.SRE_Match object; span=(0, 3), match='vbb'>\n",
      "['vbb', 'j', 'd', 'f', 'k', 'jbbbb']\n"
     ]
    }
   ],
   "source": [
    "s = 'acdfbd'\n",
    "ss = 'vbbjdfkjbbbb'\n",
    "\n",
    "# re.search 扫描整个字符串并返回第一个成功的匹配\n",
    "# ? 匹配前面的子表达式零次或一次，或指明一个非贪婪限定符。\n",
    "# . 匹配除 \"\\n\" 之外的任何单个字符\n",
    "print(re.search(r'b*', s))\n",
    "print(re.search(r'.b*', ss))\n",
    "print(re.findall(r'.b*', ss))"
   ]
  },
  {
   "cell_type": "markdown",
   "metadata": {},
   "source": [
    "#### match a string that has an a followed by one or more b's"
   ]
  },
  {
   "cell_type": "code",
   "execution_count": 3,
   "metadata": {},
   "outputs": [
    {
     "name": "stdout",
     "output_type": "stream",
     "text": [
      "None\n",
      "<_sre.SRE_Match object; span=(1, 3), match='bb'>\n",
      "<_sre.SRE_Match object; span=(1, 2), match='b'>\n"
     ]
    }
   ],
   "source": [
    "s = 'acdfd'\n",
    "ss = 'jbbjdfkjbbbb'\n",
    "\n",
    "print(re.search(r'b+?', s))\n",
    "print(re.search(r'b+', ss))\n",
    "print(re.search(r'b+?', ss))"
   ]
  },
  {
   "cell_type": "markdown",
   "metadata": {},
   "source": [
    "#### match a string that has an a followed by zero or one 'b'."
   ]
  },
  {
   "cell_type": "code",
   "execution_count": 4,
   "metadata": {},
   "outputs": [
    {
     "name": "stdout",
     "output_type": "stream",
     "text": [
      "<_sre.SRE_Match object; span=(0, 0), match=''>\n",
      "<_sre.SRE_Match object; span=(0, 1), match='b'>\n",
      "['bb', 'jbbbb']\n"
     ]
    }
   ],
   "source": [
    "s = 'acdfd'\n",
    "ss = 'bbjdfkjbbbbx'\n",
    "\n",
    "print(re.search(r'b?', s))\n",
    "print(re.search(r'b?', ss))\n",
    "print(re.findall(r'.b+', ss))"
   ]
  },
  {
   "cell_type": "markdown",
   "metadata": {},
   "source": [
    "#### match a string that has an a followed by three 'b'."
   ]
  },
  {
   "cell_type": "code",
   "execution_count": 5,
   "metadata": {},
   "outputs": [
    {
     "name": "stdout",
     "output_type": "stream",
     "text": [
      "None\n",
      "<_sre.SRE_Match object; span=(6, 10), match='jbbb'>\n",
      "None\n",
      "<_sre.SRE_Match object; span=(6, 11), match='jbbbb'>\n"
     ]
    }
   ],
   "source": [
    "s = 'acdfd'\n",
    "ss = 'bbjdfkjbbbb'\n",
    "\n",
    "# {n}, 精确匹配n个前面表达式。\n",
    "print(re.search(r'.b{3}', s))\n",
    "print(re.search(r'.b{3}', ss))\n",
    "# [^...] 不在[]中的字符：[^abc] 匹配除了a,b,c之外的字符。\n",
    "print(re.search(r'.b{3}[^b]', ss))\n",
    "print(re.search(r'.b{3,}', ss))"
   ]
  },
  {
   "cell_type": "markdown",
   "metadata": {},
   "source": [
    "#### match a string that has an a followed by two to three 'b'"
   ]
  },
  {
   "cell_type": "code",
   "execution_count": 6,
   "metadata": {},
   "outputs": [
    {
     "name": "stdout",
     "output_type": "stream",
     "text": [
      "None\n",
      "<_sre.SRE_Match object; span=(0, 2), match='bb'>\n",
      "['bb', 'bbb']\n"
     ]
    }
   ],
   "source": [
    "s = 'acdfd'\n",
    "ss = 'bbjdfkjbbbb'\n",
    "\n",
    "print(re.search(r'b{2,3}', s))\n",
    "print(re.search(r'b{2,3}', ss))\n",
    "print(re.findall(r'b{2,3}', ss))"
   ]
  },
  {
   "cell_type": "markdown",
   "metadata": {},
   "source": [
    "#### find sequences of lowercase letters joined with a underscore"
   ]
  },
  {
   "cell_type": "code",
   "execution_count": 7,
   "metadata": {},
   "outputs": [
    {
     "name": "stdout",
     "output_type": "stream",
     "text": [
      "<_sre.SRE_Match object; span=(9, 13), match='jbb_'>\n",
      "['jbb_', 'b_']\n"
     ]
    }
   ],
   "source": [
    "s = 'bbjUEIRU_jbb_bAb_'\n",
    "\n",
    "print(re.search(r'[a-z]+_', s))\n",
    "print(re.findall(r'[a-z]+_', s))"
   ]
  },
  {
   "cell_type": "markdown",
   "metadata": {},
   "source": [
    "#### find sequences of one upper case letter followed by lower case letters"
   ]
  },
  {
   "cell_type": "code",
   "execution_count": 8,
   "metadata": {},
   "outputs": [
    {
     "name": "stdout",
     "output_type": "stream",
     "text": [
      "<_sre.SRE_Match object; span=(7, 9), match='Uc'>\n",
      "['Uc', 'Abbb']\n"
     ]
    }
   ],
   "source": [
    "s = 'bbjUEIRUc_jbb_bAbbb_'\n",
    "\n",
    "print(re.search(r'[A-Z]{1}[a-z]+', s))\n",
    "print(re.findall(r'[A-Z]{1}[a-z]+', s))"
   ]
  },
  {
   "cell_type": "markdown",
   "metadata": {},
   "source": [
    "#### match a string that has an 'a' followed by anything, ending in 'b'"
   ]
  },
  {
   "cell_type": "code",
   "execution_count": 9,
   "metadata": {},
   "outputs": [
    {
     "name": "stdout",
     "output_type": "stream",
     "text": [
      "[]\n",
      "['aIRUc_jbb_bAbbb']\n"
     ]
    }
   ],
   "source": [
    "s = 'bbjUEIRUc_jbb_bAbbb_'\n",
    "ss = 'vbjUEaIRUc_jbb_bAbbb'\n",
    "\n",
    "# $ 匹配字符串的末尾\n",
    "print(re.findall(r'a.*b$', s))\n",
    "print(re.findall(r'a.*b$', ss))"
   ]
  },
  {
   "cell_type": "markdown",
   "metadata": {},
   "source": [
    "#### match a word at the beginning of a string."
   ]
  },
  {
   "cell_type": "code",
   "execution_count": 10,
   "metadata": {},
   "outputs": [
    {
     "name": "stdout",
     "output_type": "stream",
     "text": [
      "[]\n",
      "['abjUEaIRUc_jbb_bAbbb']\n"
     ]
    }
   ],
   "source": [
    "s = ' bbjUEIRUc_jbb_bAbbb_'\n",
    "ss = 'abjUEaIRUc_jbb_bAbbb'\n",
    "\n",
    "# $ 匹配字符串的末尾\n",
    "print(re.findall(r'^\\w.*', s))\n",
    "print(re.findall(r'^\\w.*', ss))"
   ]
  },
  {
   "cell_type": "markdown",
   "metadata": {},
   "source": [
    "#### match a word at end of string, with optional punctuation. "
   ]
  },
  {
   "cell_type": "code",
   "execution_count": 11,
   "metadata": {},
   "outputs": [
    {
     "name": "stdout",
     "output_type": "stream",
     "text": [
      "['weter']\n",
      "[]\n"
     ]
    }
   ],
   "source": [
    "s = ' bbjUEIRUc_jbb_bAbbb_ weter'\n",
    "ss = 'abjUEaIRUc_jbb_bAbbb8'\n",
    "\n",
    "# \\S 匹配任意非空字符\n",
    "# \\w 匹配包括下划线的任何单词字符\n",
    "print(re.findall(r'\\w+\\S[^0-9]$', s))\n",
    "print(re.findall(r'\\w+\\S[^0-9]$', ss))"
   ]
  },
  {
   "cell_type": "markdown",
   "metadata": {},
   "source": [
    "#### match a word containing 'z'."
   ]
  },
  {
   "cell_type": "code",
   "execution_count": 12,
   "metadata": {},
   "outputs": [
    {
     "name": "stdout",
     "output_type": "stream",
     "text": [
      "['sdfjkz']\n",
      "[]\n"
     ]
    }
   ],
   "source": [
    "s = ' bbjUEIRUc_jbb_bAbbb_ weter sdfjkz'\n",
    "ss = 'abjUEaIRUc_jbb_bAbbb8'\n",
    "\n",
    "print(re.findall(r'\\w*z.*\\w*', s))\n",
    "print(re.findall(r'\\w*z.*\\w*', ss))"
   ]
  },
  {
   "cell_type": "markdown",
   "metadata": {},
   "source": [
    "#### matcha word containing 'z', not start or end of the word"
   ]
  },
  {
   "cell_type": "code",
   "execution_count": 13,
   "metadata": {},
   "outputs": [
    {
     "name": "stdout",
     "output_type": "stream",
     "text": [
      "['bbjUEzIRUc_jbb_bAbbb_']\n",
      "['sdfzjk', 'lzzl']\n"
     ]
    }
   ],
   "source": [
    "s = ' bbjUEzIRUc_jbb_bAbbb_ sdfjkz'\n",
    "ss = 'abjUEaIRUc_jbb_bAbbb8 sdfzjk zjzdk lzzl'\n",
    "\n",
    "# \\b 匹配一个单词边界，也就是指单词和空格间的位置\n",
    "# \\B 匹配非单词边界。'er\\B' 能匹配 \"verb\" 中的 'er'，但不能匹配 \"never\" 中的 'er'\n",
    "# \\S 匹配任意非空字符\n",
    "print(re.findall(r'[^z\\s]\\w+z+[^z\\s]+', s))\n",
    "print(re.findall(r'[^z\\s]\\w+z+[^z\\s]+', ss)) # 非z和空格开头和结尾，包含z的单词"
   ]
  },
  {
   "cell_type": "markdown",
   "metadata": {},
   "source": [
    "#### match a string that contains only upper and lowercase letters, numbers, and underscores"
   ]
  },
  {
   "cell_type": "code",
   "execution_count": 14,
   "metadata": {},
   "outputs": [
    {
     "name": "stdout",
     "output_type": "stream",
     "text": [
      "['bbjUEzIRUc_jbb_bAbbb_', 'sdfjkz']\n",
      "['abjUEaIRUc_jbb_bAbbb8', 'sdfz', 'jk', 'zjzdk', 'lzzl']\n"
     ]
    }
   ],
   "source": [
    "s = ' bbjUEzIRUc_jbb_bAbbb_ sdfjkz'\n",
    "ss = 'abjUEaIRUc_jbb_bAbbb8 sdfz.jk zjzdk lzzl'\n",
    "\n",
    "# \\w 匹配包括下划线的任何单词字符。等价于'[A-Za-z0-9_]'。\n",
    "print(re.findall(r'[0-9A-Za-z_]+', s))\n",
    "print(re.findall(r'\\w+', ss)) "
   ]
  },
  {
   "cell_type": "markdown",
   "metadata": {
    "collapsed": true
   },
   "source": [
    "#### match a string which starts with a specific number"
   ]
  },
  {
   "cell_type": "code",
   "execution_count": 15,
   "metadata": {},
   "outputs": [
    {
     "name": "stdout",
     "output_type": "stream",
     "text": [
      "['3bbjUEzIRUc_jbb_bAbbb_']\n",
      "[]\n"
     ]
    }
   ],
   "source": [
    "s = '3bbjUEzIRUc_jbb_bAbbb_ sdfjkz'\n",
    "ss = 'abjUEaIRUc_jbb_bAbbb8 sdfz.jk zjzdk lzzl'\n",
    "\n",
    "print(re.findall(r'^[0-9]+\\w+', s))\n",
    "print(re.findall(r'^[0-9]+\\w+', ss))"
   ]
  },
  {
   "cell_type": "markdown",
   "metadata": {},
   "source": [
    "#### remove leading zeros from an IP address"
   ]
  },
  {
   "cell_type": "code",
   "execution_count": 16,
   "metadata": {},
   "outputs": [
    {
     "data": {
      "text/plain": [
       "'192.1.2.3'"
      ]
     },
     "execution_count": 16,
     "metadata": {},
     "output_type": "execute_result"
    }
   ],
   "source": [
    "ip = '192.001.02.3'\n",
    "\n",
    "re.sub('\\.[0]*', '.', ip)"
   ]
  },
  {
   "cell_type": "markdown",
   "metadata": {},
   "source": [
    "#### check for a number at the end of a string"
   ]
  },
  {
   "cell_type": "code",
   "execution_count": 17,
   "metadata": {},
   "outputs": [
    {
     "name": "stdout",
     "output_type": "stream",
     "text": [
      "['3bbjU3 984jfd3']\n",
      "[]\n"
     ]
    }
   ],
   "source": [
    "s = '3bbjU3 984jfd3'\n",
    "ss = 'abjUEaIRUc_jbb_bAbbb8 sdfz.jk zjzdk lzzl'\n",
    "\n",
    "print(re.findall(r'.*\\d+$', s))\n",
    "print(re.findall(r'.*\\d+$', ss))"
   ]
  },
  {
   "cell_type": "markdown",
   "metadata": {},
   "source": [
    "#### search the numbers (0-9) of length between 1 to 3 in a given string."
   ]
  },
  {
   "cell_type": "code",
   "execution_count": 18,
   "metadata": {},
   "outputs": [
    {
     "name": "stdout",
     "output_type": "stream",
     "text": [
      "['388', '4']\n"
     ]
    }
   ],
   "source": [
    "s = 'bbjU3884'\n",
    "\n",
    "print(re.findall(r'\\d{1,3}', s))"
   ]
  },
  {
   "cell_type": "markdown",
   "metadata": {},
   "source": [
    "#### search some literals strings in a string"
   ]
  },
  {
   "cell_type": "code",
   "execution_count": 19,
   "metadata": {},
   "outputs": [
    {
     "name": "stdout",
     "output_type": "stream",
     "text": [
      "['dog']\n",
      "['fox']\n"
     ]
    }
   ],
   "source": [
    "s = 'The quick brown fox jumps over the lazy dog'\n",
    "\n",
    "lists = ['dog', 'fox']\n",
    "for l in lists:\n",
    "    print(re.findall(l, s))"
   ]
  },
  {
   "cell_type": "markdown",
   "metadata": {},
   "source": [
    "#### search a literals string in a string and also find the location within the original string where the pattern occurs."
   ]
  },
  {
   "cell_type": "code",
   "execution_count": 20,
   "metadata": {},
   "outputs": [
    {
     "name": "stdout",
     "output_type": "stream",
     "text": [
      "['dog']\n",
      "(40, 43)\n",
      "['fox']\n",
      "(16, 19)\n"
     ]
    }
   ],
   "source": [
    "s = 'The quick brown fox jumps over the lazy dog'\n",
    "\n",
    "lists = ['dog', 'fox']\n",
    "for l in lists:\n",
    "    print(re.findall(l, s))\n",
    "    print(re.search(l, s).span())"
   ]
  },
  {
   "cell_type": "markdown",
   "metadata": {},
   "source": [
    "#### find the substrings within a string."
   ]
  },
  {
   "cell_type": "code",
   "execution_count": 21,
   "metadata": {},
   "outputs": [
    {
     "name": "stdout",
     "output_type": "stream",
     "text": [
      "['ab', 'ab']\n"
     ]
    }
   ],
   "source": [
    "s = 'abjUEaIRUc_jbb_babbb8 sdfz.jk zjzdk lzzl'\n",
    "p = 'ab'\n",
    "\n",
    "print(re.findall(p, s))"
   ]
  },
  {
   "cell_type": "markdown",
   "metadata": {},
   "source": [
    "#### find the occurrence and position of the substrings within a string"
   ]
  },
  {
   "cell_type": "code",
   "execution_count": 22,
   "metadata": {},
   "outputs": [
    {
     "name": "stdout",
     "output_type": "stream",
     "text": [
      "0:2\n",
      "16:18\n"
     ]
    }
   ],
   "source": [
    "s = 'abjUEaIRUc_jbb_babbb8 sdfz.jk zjzdk lzzl'\n",
    "p = 'ab'\n",
    "\n",
    "# re.finditer: 在字符串中找到正则表达式所匹配的所有子串，并把它们作为一个迭代器返回\n",
    "\n",
    "matches = re.finditer(r'ab', s)\n",
    "for match in matches:\n",
    "    print('{0}:{1}'.format(match.start(), match.end()))"
   ]
  },
  {
   "cell_type": "markdown",
   "metadata": {},
   "source": [
    "#### replace whitespaces with an underscore and vice versa"
   ]
  },
  {
   "cell_type": "code",
   "execution_count": 23,
   "metadata": {},
   "outputs": [
    {
     "name": "stdout",
     "output_type": "stream",
     "text": [
      "abjUEaIRUc_jbb_babbb8_sdfz.jk_zjzdk_lzzl\n",
      "abjUEaIRUc jbb babbb8 sdfz.jk zjzdk lzzl\n"
     ]
    }
   ],
   "source": [
    "s = 'abjUEaIRUc_jbb_babbb8 sdfz.jk zjzdk lzzl'\n",
    "\n",
    "# re.sub(pattern, repl, string, count=0)\n",
    "print(re.sub(r'\\s', '_', s))\n",
    "print(re.sub(r'_', ' ', s))"
   ]
  },
  {
   "cell_type": "markdown",
   "metadata": {},
   "source": [
    "#### extract year, month and date from a an url"
   ]
  },
  {
   "cell_type": "code",
   "execution_count": 24,
   "metadata": {},
   "outputs": [
    {
     "data": {
      "text/plain": [
       "'2016/09/02'"
      ]
     },
     "execution_count": 24,
     "metadata": {},
     "output_type": "execute_result"
    }
   ],
   "source": [
    "url= \"https://www.washingtonpost.com/news/football-insider/wp/2016/09/02/odell-beckhams-fame-rests-little-ball-josh-norman-tells-author/\" \n",
    "\n",
    "re.search(r'\\d{4}/\\d{2}/\\d{2}', url).group()"
   ]
  },
  {
   "cell_type": "markdown",
   "metadata": {},
   "source": [
    "#### convert a date of yyyy-mm-dd format to dd-mm-yyyy format"
   ]
  },
  {
   "cell_type": "code",
   "execution_count": 25,
   "metadata": {},
   "outputs": [
    {
     "data": {
      "text/plain": [
       "'02-09-2016'"
      ]
     },
     "execution_count": 25,
     "metadata": {},
     "output_type": "execute_result"
    }
   ],
   "source": [
    "d = '2016-09-02'\n",
    "\n",
    "# re.sub(pattern, repl, string, count=0)\n",
    "# 当repl是一个字符串时，可以使用\\id引用分组，但不能使用编号0\n",
    "re.sub(r'(\\d{4})-(\\d{2})-(\\d{2})', r'\\3-\\2-\\1', d)"
   ]
  },
  {
   "cell_type": "markdown",
   "metadata": {},
   "source": [
    "#### match if two words from a list of words starting with letter 'P'."
   ]
  },
  {
   "cell_type": "code",
   "execution_count": 26,
   "metadata": {},
   "outputs": [
    {
     "name": "stdout",
     "output_type": "stream",
     "text": [
      "['Python PHP']\n",
      "[]\n",
      "[]\n"
     ]
    }
   ],
   "source": [
    "words = [\"Python PHP\", \"Java JavaScript\", \"c c++\"]\n",
    "\n",
    "for w in words:\n",
    "    print(re.findall(r'^P\\w+\\sP\\w+', w))"
   ]
  },
  {
   "cell_type": "code",
   "execution_count": null,
   "metadata": {
    "collapsed": true
   },
   "outputs": [],
   "source": []
  }
 ],
 "metadata": {
  "kernelspec": {
   "display_name": "Python 3",
   "language": "python",
   "name": "python3"
  },
  "language_info": {
   "codemirror_mode": {
    "name": "ipython",
    "version": 3
   },
   "file_extension": ".py",
   "mimetype": "text/x-python",
   "name": "python",
   "nbconvert_exporter": "python",
   "pygments_lexer": "ipython3",
   "version": "3.6.3"
  },
  "toc": {
   "nav_menu": {},
   "number_sections": true,
   "sideBar": true,
   "skip_h1_title": false,
   "title_cell": "Table of Contents",
   "title_sidebar": "Contents",
   "toc_cell": false,
   "toc_position": {},
   "toc_section_display": true,
   "toc_window_display": true
  }
 },
 "nbformat": 4,
 "nbformat_minor": 2
}
