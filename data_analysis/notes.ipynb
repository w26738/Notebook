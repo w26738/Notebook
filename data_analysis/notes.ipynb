{
 "cells": [
  {
   "cell_type": "markdown",
   "metadata": {},
   "source": [
    "### Python"
   ]
  },
  {
   "cell_type": "markdown",
   "metadata": {},
   "source": [
    "#### 星号用法"
   ]
  },
  {
   "cell_type": "code",
   "execution_count": 1,
   "metadata": {},
   "outputs": [
    {
     "name": "stdout",
     "output_type": "stream",
     "text": [
      "3\n",
      "3\n",
      "28\n"
     ]
    }
   ],
   "source": [
    "# The single star * unpacks the sequence/collection into positional arguments\n",
    "# https://stackoverflow.com/questions/2921847/what-does-the-star-operator-mean\n",
    "def sum(a, b):\n",
    "    return a + b\n",
    "\n",
    "values = (1, 2)\n",
    "s = sum(*values) # ==> sum(1, 2)\n",
    "print(s)\n",
    "\n",
    "# The double star ** does the same, only using a dictionary and thus named arguments:\n",
    "values = { 'a': 1, 'b': 2 }\n",
    "ss = sum(**values) \n",
    "print(ss)\n",
    "\n",
    "def sum(a, b, c, d):\n",
    "    return a + b + c + d\n",
    "\n",
    "values1 = (1, 2)\n",
    "values2 = { 'c': 10, 'd': 15 }\n",
    "sss = sum(*values1, **values2)\n",
    "print(sss)"
   ]
  },
  {
   "cell_type": "markdown",
   "metadata": {},
   "source": [
    "#### 多个list的合并"
   ]
  },
  {
   "cell_type": "code",
   "execution_count": 2,
   "metadata": {},
   "outputs": [
    {
     "name": "stdout",
     "output_type": "stream",
     "text": [
      "[1, 2, 3, 4, 5, 6, 7, 8, 9]\n",
      "[1, 2, 3, 4, 5, 6, 7, 8, 9]\n"
     ]
    }
   ],
   "source": [
    "L=[[1,2,3],[4,5,6],[7,8,9]]\n",
    "list1 = [ll for l in L for ll in l]\n",
    "print(list1)\n",
    "\n",
    "from itertools import chain\n",
    "list2 = list(chain(*L))\n",
    "print(list2)"
   ]
  },
  {
   "cell_type": "markdown",
   "metadata": {},
   "source": [
    "### Pandas"
   ]
  },
  {
   "cell_type": "code",
   "execution_count": 3,
   "metadata": {
    "collapsed": true
   },
   "outputs": [],
   "source": [
    "import pandas as pd\n",
    "import numpy as np"
   ]
  },
  {
   "cell_type": "markdown",
   "metadata": {},
   "source": [
    "#### 改变dataframe中列的名字"
   ]
  },
  {
   "cell_type": "code",
   "execution_count": 4,
   "metadata": {},
   "outputs": [
    {
     "name": "stdout",
     "output_type": "stream",
     "text": [
      "   one  new_name three\n",
      "0    1         9     a\n",
      "1    2         8     b\n",
      "2    3         7     c\n",
      "3    4         6     d\n",
      "4    5         5     e\n"
     ]
    }
   ],
   "source": [
    "d = {\n",
    "        'one': [1, 2, 3, 4, 5],\n",
    "        'two': [9, 8, 7, 6, 5],\n",
    "        'three': ['a', 'b', 'c', 'd', 'e']\n",
    "    }\n",
    "df = pd.DataFrame(d)\n",
    "\n",
    "names = df.columns.tolist()\n",
    "names[names.index('two')] = 'new_name'\n",
    "df.columns = names\n",
    "\n",
    "print(df)"
   ]
  },
  {
   "cell_type": "markdown",
   "metadata": {},
   "source": [
    "#### dataframe的赋值和copy"
   ]
  },
  {
   "cell_type": "code",
   "execution_count": 5,
   "metadata": {},
   "outputs": [
    {
     "name": "stdout",
     "output_type": "stream",
     "text": [
      "   one  new_name three\n",
      "0    1         9     a\n",
      "1    2         8     b\n",
      "2    3         7     c\n",
      "3    4         6     d\n",
      "4    5         5     e\n",
      "   new_name three\n",
      "0         9     a\n",
      "1         8     b\n",
      "2         7     c\n",
      "3         6     d\n",
      "4         5     e\n",
      "   one  new_name three\n",
      "0    1         9     a\n",
      "1    2         8     b\n",
      "2    3         7     c\n",
      "3    4         6     d\n",
      "4    5         5     e\n",
      "   new_name three\n",
      "0         9     a\n",
      "1         8     b\n",
      "2         7     c\n",
      "3         6     d\n",
      "4         5     e\n"
     ]
    }
   ],
   "source": [
    "print(df)\n",
    "df1 = df\n",
    "df2 = df.copy()\n",
    "df1.drop('one', axis=1, inplace=True)\n",
    "print(df1)\n",
    "print(df2)\n",
    "print(df)"
   ]
  },
  {
   "cell_type": "markdown",
   "metadata": {},
   "source": [
    "#### 对axis=0和axis=1的理解"
   ]
  },
  {
   "cell_type": "code",
   "execution_count": 6,
   "metadata": {},
   "outputs": [
    {
     "name": "stdout",
     "output_type": "stream",
     "text": [
      "   col1  col2  col3  col4\n",
      "0     1     5     1     1\n",
      "1     2     6     2     2\n",
      "2     3     7     3     3\n",
      "0    2.0\n",
      "1    3.0\n",
      "2    4.0\n",
      "dtype: float64\n",
      "   col1  col2  col3\n",
      "0     1     5     1\n",
      "1     2     6     2\n",
      "2     3     7     3\n"
     ]
    }
   ],
   "source": [
    "df = pd.DataFrame([[1, 5, 1, 1], [2, 6, 2, 2], [3, 7, 3, 3]], columns=[\"col1\", \"col2\", \"col3\", \"col4\"])\n",
    "print(df)\n",
    "print(df.mean(axis=1))\n",
    "print(df.drop('col4', axis=1))\n",
    "\n",
    "# 理解axis有问题，df.mean其实是在每一行上取所有列的均值，而不是保留每一列的均值。\n",
    "# 也许简单的来记就是axis=0代表往跨行（down)，而axis=1代表跨列（across)\n",
    "\n",
    "# 换句话说:\n",
    "# 使用0值表示沿着每一列或行标签\\索引值向下执行方法\n",
    "# 使用1值表示沿着每一行或者列标签模向执行对应的方法"
   ]
  },
  {
   "cell_type": "code",
   "execution_count": 7,
   "metadata": {},
   "outputs": [
    {
     "name": "stdout",
     "output_type": "stream",
     "text": [
      "StandardScaler(copy=True, with_mean=True, with_std=True)\n",
      "[2. 6. 2. 2.]\n",
      "[[-1.22474487 -1.22474487 -1.22474487 -1.22474487]\n",
      " [ 0.          0.          0.          0.        ]\n",
      " [ 1.22474487  1.22474487  1.22474487  1.22474487]]\n"
     ]
    }
   ],
   "source": [
    "from sklearn.preprocessing import StandardScaler\n",
    "from sklearn.preprocessing import scale\n",
    "\n",
    "scaler1 = StandardScaler()\n",
    "print(scaler1.fit(df))\n",
    "print(scaler1.mean_)\n",
    "print(scaler1.transform(df))"
   ]
  },
  {
   "cell_type": "code",
   "execution_count": 8,
   "metadata": {},
   "outputs": [
    {
     "name": "stdout",
     "output_type": "stream",
     "text": [
      "[[-1.22474487 -1.22474487 -1.22474487 -1.22474487]\n",
      " [ 0.          0.          0.          0.        ]\n",
      " [ 1.22474487  1.22474487  1.22474487  1.22474487]]\n",
      "[[-0.57735027  1.73205081 -0.57735027 -0.57735027]\n",
      " [-0.57735027  1.73205081 -0.57735027 -0.57735027]\n",
      " [-0.57735027  1.73205081 -0.57735027 -0.57735027]]\n"
     ]
    }
   ],
   "source": [
    "scaler2 = scale(df, axis=0)  # axis=0 by default\n",
    "print(scaler2)\n",
    "scaler2 = scale(df, axis=1)\n",
    "print(scaler2)"
   ]
  },
  {
   "cell_type": "markdown",
   "metadata": {},
   "source": [
    "#### 改变dataframe中column的顺序"
   ]
  },
  {
   "cell_type": "code",
   "execution_count": 9,
   "metadata": {},
   "outputs": [
    {
     "data": {
      "text/html": [
       "<div>\n",
       "<style scoped>\n",
       "    .dataframe tbody tr th:only-of-type {\n",
       "        vertical-align: middle;\n",
       "    }\n",
       "\n",
       "    .dataframe tbody tr th {\n",
       "        vertical-align: top;\n",
       "    }\n",
       "\n",
       "    .dataframe thead th {\n",
       "        text-align: right;\n",
       "    }\n",
       "</style>\n",
       "<table border=\"1\" class=\"dataframe\">\n",
       "  <thead>\n",
       "    <tr style=\"text-align: right;\">\n",
       "      <th></th>\n",
       "      <th>col1</th>\n",
       "      <th>col2</th>\n",
       "      <th>col3</th>\n",
       "      <th>col4</th>\n",
       "    </tr>\n",
       "  </thead>\n",
       "  <tbody>\n",
       "    <tr>\n",
       "      <th>0</th>\n",
       "      <td>1</td>\n",
       "      <td>5</td>\n",
       "      <td>1</td>\n",
       "      <td>1</td>\n",
       "    </tr>\n",
       "    <tr>\n",
       "      <th>1</th>\n",
       "      <td>2</td>\n",
       "      <td>6</td>\n",
       "      <td>2</td>\n",
       "      <td>2</td>\n",
       "    </tr>\n",
       "    <tr>\n",
       "      <th>2</th>\n",
       "      <td>3</td>\n",
       "      <td>7</td>\n",
       "      <td>3</td>\n",
       "      <td>3</td>\n",
       "    </tr>\n",
       "  </tbody>\n",
       "</table>\n",
       "</div>"
      ],
      "text/plain": [
       "   col1  col2  col3  col4\n",
       "0     1     5     1     1\n",
       "1     2     6     2     2\n",
       "2     3     7     3     3"
      ]
     },
     "execution_count": 9,
     "metadata": {},
     "output_type": "execute_result"
    }
   ],
   "source": [
    "df = pd.DataFrame([[1, 5, 1, 1], [2, 6, 2, 2], [3, 7, 3, 3]], columns=[\"col1\", \"col2\", \"col3\", \"col4\"])\n",
    "df"
   ]
  },
  {
   "cell_type": "code",
   "execution_count": 10,
   "metadata": {
    "collapsed": true
   },
   "outputs": [],
   "source": [
    "cols = df.columns.tolist()\n",
    "cols = cols[-1:] + cols[:-1]"
   ]
  },
  {
   "cell_type": "code",
   "execution_count": 11,
   "metadata": {},
   "outputs": [
    {
     "data": {
      "text/html": [
       "<div>\n",
       "<style scoped>\n",
       "    .dataframe tbody tr th:only-of-type {\n",
       "        vertical-align: middle;\n",
       "    }\n",
       "\n",
       "    .dataframe tbody tr th {\n",
       "        vertical-align: top;\n",
       "    }\n",
       "\n",
       "    .dataframe thead th {\n",
       "        text-align: right;\n",
       "    }\n",
       "</style>\n",
       "<table border=\"1\" class=\"dataframe\">\n",
       "  <thead>\n",
       "    <tr style=\"text-align: right;\">\n",
       "      <th></th>\n",
       "      <th>col4</th>\n",
       "      <th>col1</th>\n",
       "      <th>col2</th>\n",
       "      <th>col3</th>\n",
       "    </tr>\n",
       "  </thead>\n",
       "  <tbody>\n",
       "    <tr>\n",
       "      <th>0</th>\n",
       "      <td>1</td>\n",
       "      <td>1</td>\n",
       "      <td>5</td>\n",
       "      <td>1</td>\n",
       "    </tr>\n",
       "    <tr>\n",
       "      <th>1</th>\n",
       "      <td>2</td>\n",
       "      <td>2</td>\n",
       "      <td>6</td>\n",
       "      <td>2</td>\n",
       "    </tr>\n",
       "    <tr>\n",
       "      <th>2</th>\n",
       "      <td>3</td>\n",
       "      <td>3</td>\n",
       "      <td>7</td>\n",
       "      <td>3</td>\n",
       "    </tr>\n",
       "  </tbody>\n",
       "</table>\n",
       "</div>"
      ],
      "text/plain": [
       "   col4  col1  col2  col3\n",
       "0     1     1     5     1\n",
       "1     2     2     6     2\n",
       "2     3     3     7     3"
      ]
     },
     "execution_count": 11,
     "metadata": {},
     "output_type": "execute_result"
    }
   ],
   "source": [
    "df = df[cols]\n",
    "df"
   ]
  },
  {
   "cell_type": "markdown",
   "metadata": {},
   "source": [
    "#### 选择dataframe的不连续列"
   ]
  },
  {
   "cell_type": "code",
   "execution_count": 12,
   "metadata": {},
   "outputs": [
    {
     "data": {
      "text/html": [
       "<div>\n",
       "<style scoped>\n",
       "    .dataframe tbody tr th:only-of-type {\n",
       "        vertical-align: middle;\n",
       "    }\n",
       "\n",
       "    .dataframe tbody tr th {\n",
       "        vertical-align: top;\n",
       "    }\n",
       "\n",
       "    .dataframe thead th {\n",
       "        text-align: right;\n",
       "    }\n",
       "</style>\n",
       "<table border=\"1\" class=\"dataframe\">\n",
       "  <thead>\n",
       "    <tr style=\"text-align: right;\">\n",
       "      <th></th>\n",
       "      <th>col1</th>\n",
       "      <th>col2</th>\n",
       "      <th>col4</th>\n",
       "    </tr>\n",
       "  </thead>\n",
       "  <tbody>\n",
       "    <tr>\n",
       "      <th>0</th>\n",
       "      <td>1</td>\n",
       "      <td>5</td>\n",
       "      <td>1</td>\n",
       "    </tr>\n",
       "    <tr>\n",
       "      <th>1</th>\n",
       "      <td>2</td>\n",
       "      <td>6</td>\n",
       "      <td>2</td>\n",
       "    </tr>\n",
       "    <tr>\n",
       "      <th>2</th>\n",
       "      <td>3</td>\n",
       "      <td>7</td>\n",
       "      <td>3</td>\n",
       "    </tr>\n",
       "  </tbody>\n",
       "</table>\n",
       "</div>"
      ],
      "text/plain": [
       "   col1  col2  col4\n",
       "0     1     5     1\n",
       "1     2     6     2\n",
       "2     3     7     3"
      ]
     },
     "execution_count": 12,
     "metadata": {},
     "output_type": "execute_result"
    }
   ],
   "source": [
    "# https://stackoverflow.com/questions/50143469/pandas-dataframe-select-multiple-discontinuous-columns-slices?noredirect=1&lq=1\n",
    "df = pd.DataFrame([[1, 5, 1, 1], [2, 6, 2, 2], [3, 7, 3, 3]], columns=[\"col1\", \"col2\", \"col3\", \"col4\"])\n",
    "\n",
    "df.iloc[:, np.r_[0:2, 3]]"
   ]
  },
  {
   "cell_type": "markdown",
   "metadata": {},
   "source": [
    "#### 计算dataframe某列和其他列的相关系数"
   ]
  },
  {
   "cell_type": "code",
   "execution_count": 13,
   "metadata": {},
   "outputs": [
    {
     "name": "stdout",
     "output_type": "stream",
     "text": [
      "          col1      col2      col3      col4\n",
      "col1  1.000000  1.000000  0.802955 -1.000000\n",
      "col2  1.000000  1.000000  0.802955 -1.000000\n",
      "col3  0.802955  0.802955  1.000000 -0.802955\n",
      "col4 -1.000000 -1.000000 -0.802955  1.000000\n"
     ]
    },
    {
     "data": {
      "text/plain": [
       "col1    1.000000\n",
       "col2    1.000000\n",
       "col3    0.802955\n",
       "col4   -1.000000\n",
       "Name: col1, dtype: float64"
      ]
     },
     "execution_count": 13,
     "metadata": {},
     "output_type": "execute_result"
    }
   ],
   "source": [
    "df = pd.DataFrame([[1, 4, 3, 8], [2, 5, 2, 7], [3, 6, 10, 6]], columns=[\"col1\", \"col2\", \"col3\", \"col4\"])\n",
    "print(df.corr())\n",
    "corr = df.corr()['col1']\n",
    "corr"
   ]
  },
  {
   "cell_type": "markdown",
   "metadata": {},
   "source": [
    "#### 删除满足条件的行"
   ]
  },
  {
   "cell_type": "code",
   "execution_count": 14,
   "metadata": {},
   "outputs": [
    {
     "name": "stdout",
     "output_type": "stream",
     "text": [
      "   col1  col2  col3  col4\n",
      "0     1     5     1     1\n",
      "1     2     6     2     2\n",
      "2     3     7     3     3\n"
     ]
    },
    {
     "data": {
      "text/html": [
       "<div>\n",
       "<style scoped>\n",
       "    .dataframe tbody tr th:only-of-type {\n",
       "        vertical-align: middle;\n",
       "    }\n",
       "\n",
       "    .dataframe tbody tr th {\n",
       "        vertical-align: top;\n",
       "    }\n",
       "\n",
       "    .dataframe thead th {\n",
       "        text-align: right;\n",
       "    }\n",
       "</style>\n",
       "<table border=\"1\" class=\"dataframe\">\n",
       "  <thead>\n",
       "    <tr style=\"text-align: right;\">\n",
       "      <th></th>\n",
       "      <th>col1</th>\n",
       "      <th>col2</th>\n",
       "      <th>col3</th>\n",
       "      <th>col4</th>\n",
       "    </tr>\n",
       "  </thead>\n",
       "  <tbody>\n",
       "    <tr>\n",
       "      <th>0</th>\n",
       "      <td>1</td>\n",
       "      <td>5</td>\n",
       "      <td>1</td>\n",
       "      <td>1</td>\n",
       "    </tr>\n",
       "    <tr>\n",
       "      <th>1</th>\n",
       "      <td>2</td>\n",
       "      <td>6</td>\n",
       "      <td>2</td>\n",
       "      <td>2</td>\n",
       "    </tr>\n",
       "  </tbody>\n",
       "</table>\n",
       "</div>"
      ],
      "text/plain": [
       "   col1  col2  col3  col4\n",
       "0     1     5     1     1\n",
       "1     2     6     2     2"
      ]
     },
     "execution_count": 14,
     "metadata": {},
     "output_type": "execute_result"
    }
   ],
   "source": [
    "df = pd.DataFrame([[1, 5, 1, 1], [2, 6, 2, 2], [3, 7, 3, 3]], columns=[\"col1\", \"col2\", \"col3\", \"col4\"])\n",
    "c = [1, 2]\n",
    "print(df)\n",
    "df[df['col1'].isin(c)]"
   ]
  },
  {
   "cell_type": "markdown",
   "metadata": {},
   "source": [
    "#### 按列合并两个dataframe"
   ]
  },
  {
   "cell_type": "code",
   "execution_count": 15,
   "metadata": {},
   "outputs": [
    {
     "name": "stdout",
     "output_type": "stream",
     "text": [
      "   a  b  c  d\n",
      "0  1  1  8  9\n",
      "1  1  2  8  9\n",
      "2  1  3  8  9\n",
      "3  2  1  8  9\n",
      "4  2  2  8  9\n",
      "5  2  3  8  9\n",
      "   a  b  e  f\n",
      "0  1  1  8  9\n",
      "1  1  2  8  9\n",
      "2  1  3  8  9\n",
      "3  1  4  8  9\n",
      "4  2  1  8  9\n",
      "5  2  2  8  9\n",
      "6  2  3  8  9\n",
      "   a  b    c    d  e  f\n",
      "0  1  1  8.0  9.0  8  9\n",
      "1  1  2  8.0  9.0  8  9\n",
      "2  1  3  8.0  9.0  8  9\n",
      "3  2  1  8.0  9.0  8  9\n",
      "4  2  2  8.0  9.0  8  9\n",
      "5  2  3  8.0  9.0  8  9\n",
      "6  1  4  NaN  NaN  8  9\n"
     ]
    }
   ],
   "source": [
    "df1 = pd.DataFrame({'a': [1, 1, 1, 2, 2, 2],\n",
    "                    'b': [1, 2, 3, 1, 2, 3],\n",
    "                    'c': [8, 8, 8, 8, 8, 8],\n",
    "                    'd': [9, 9, 9, 9, 9, 9]})\n",
    "print(df1)\n",
    "df2 = pd.DataFrame({'a': [1, 1, 1, 1, 2, 2, 2],\n",
    "                    'b': [1, 2, 3, 4, 1, 2, 3],\n",
    "                    'e': [8, 8, 8, 8, 8, 8, 8],\n",
    "                    'f': [9, 9, 9, 9, 9, 9, 9]})\n",
    "print(df2)\n",
    "\n",
    "t = pd.merge(df1, df2, on=['a', 'b'], how='outer')\n",
    "print(t)"
   ]
  },
  {
   "cell_type": "code",
   "execution_count": null,
   "metadata": {
    "collapsed": true
   },
   "outputs": [],
   "source": []
  },
  {
   "cell_type": "markdown",
   "metadata": {
    "collapsed": true
   },
   "source": [
    "### Numpy"
   ]
  },
  {
   "cell_type": "markdown",
   "metadata": {},
   "source": [
    "#### 找出值为NA的位置"
   ]
  },
  {
   "cell_type": "code",
   "execution_count": 16,
   "metadata": {},
   "outputs": [
    {
     "name": "stdout",
     "output_type": "stream",
     "text": [
      "[[0.15542912        nan 0.50654312]\n",
      " [0.63508231 0.68601154 0.12920556]\n",
      " [0.02636353 0.53063566 0.51646592]\n",
      " [0.69764116 0.58714407 0.02450646]\n",
      " [0.10740189 0.42796334        nan]]\n"
     ]
    },
    {
     "data": {
      "text/plain": [
       "array([nan, nan])"
      ]
     },
     "execution_count": 16,
     "metadata": {},
     "output_type": "execute_result"
    }
   ],
   "source": [
    "x = np.random.random((5,3))\n",
    "x[0,1] = np.nan\n",
    "x[4,2] = np.nan\n",
    "print(x)\n",
    "\n",
    "y = np.where(np.isnan(x))\n",
    "x[y]"
   ]
  },
  {
   "cell_type": "markdown",
   "metadata": {},
   "source": [
    "#### np.newaxis使用"
   ]
  },
  {
   "cell_type": "code",
   "execution_count": 17,
   "metadata": {},
   "outputs": [
    {
     "name": "stdout",
     "output_type": "stream",
     "text": [
      "[0 1 2 3 4 5 6 7 8]\n",
      "(9,)\n",
      "(9, 1)\n",
      "[[0]\n",
      " [1]\n",
      " [2]\n",
      " [3]\n",
      " [4]\n",
      " [5]\n",
      " [6]\n",
      " [7]\n",
      " [8]]\n",
      "(9, 1)\n",
      "[[0 1 2 3 4 5 6 7 8]]\n"
     ]
    }
   ],
   "source": [
    "# np.newaxis 在使用和功能上等价于 None，为numpy.ndarray（多维数组）增加一个轴\n",
    "x = np.arange(9)\n",
    "print(x)\n",
    "print(x.shape)\n",
    "y = x[:, np.newaxis]\n",
    "print(y.shape)\n",
    "print(y)\n",
    "z = x[:, None]\n",
    "print(z.shape)\n",
    "zz = x[np.newaxis, :]\n",
    "print(zz)"
   ]
  },
  {
   "cell_type": "code",
   "execution_count": null,
   "metadata": {
    "collapsed": true
   },
   "outputs": [],
   "source": []
  }
 ],
 "metadata": {
  "kernelspec": {
   "display_name": "Python 3",
   "language": "python",
   "name": "python3"
  },
  "language_info": {
   "codemirror_mode": {
    "name": "ipython",
    "version": 3
   },
   "file_extension": ".py",
   "mimetype": "text/x-python",
   "name": "python",
   "nbconvert_exporter": "python",
   "pygments_lexer": "ipython3",
   "version": "3.6.3"
  },
  "toc": {
   "nav_menu": {},
   "number_sections": true,
   "sideBar": true,
   "skip_h1_title": false,
   "title_cell": "Table of Contents",
   "title_sidebar": "Contents",
   "toc_cell": false,
   "toc_position": {
    "height": "calc(100% - 180px)",
    "left": "10px",
    "top": "150px",
    "width": "244px"
   },
   "toc_section_display": true,
   "toc_window_display": true
  }
 },
 "nbformat": 4,
 "nbformat_minor": 2
}
