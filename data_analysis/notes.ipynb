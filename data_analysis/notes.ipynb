{
 "cells": [
  {
   "cell_type": "markdown",
   "metadata": {},
   "source": [
    "### Pandas"
   ]
  },
  {
   "cell_type": "code",
   "execution_count": 1,
   "metadata": {
    "collapsed": true
   },
   "outputs": [],
   "source": [
    "import pandas as pd\n",
    "import numpy as np"
   ]
  },
  {
   "cell_type": "markdown",
   "metadata": {},
   "source": [
    "#### 改变dataframe中列的名字"
   ]
  },
  {
   "cell_type": "code",
   "execution_count": 2,
   "metadata": {},
   "outputs": [
    {
     "name": "stdout",
     "output_type": "stream",
     "text": [
      "   one  new_name three\n",
      "0    1         9     a\n",
      "1    2         8     b\n",
      "2    3         7     c\n",
      "3    4         6     d\n",
      "4    5         5     e\n"
     ]
    }
   ],
   "source": [
    "d = {\n",
    "        'one': [1, 2, 3, 4, 5],\n",
    "        'two': [9, 8, 7, 6, 5],\n",
    "        'three': ['a', 'b', 'c', 'd', 'e']\n",
    "    }\n",
    "df = pd.DataFrame(d)\n",
    "\n",
    "names = df.columns.tolist()\n",
    "names[names.index('two')] = 'new_name'\n",
    "df.columns = names\n",
    "\n",
    "print(df)"
   ]
  },
  {
   "cell_type": "markdown",
   "metadata": {},
   "source": [
    "#### 对axis=0和axis=1的理解"
   ]
  },
  {
   "cell_type": "code",
   "execution_count": 3,
   "metadata": {},
   "outputs": [
    {
     "name": "stdout",
     "output_type": "stream",
     "text": [
      "   col1  col2  col3  col4\n",
      "0     1     5     1     1\n",
      "1     2     6     2     2\n",
      "2     3     7     3     3\n",
      "0    2.0\n",
      "1    3.0\n",
      "2    4.0\n",
      "dtype: float64\n",
      "   col1  col2  col3\n",
      "0     1     5     1\n",
      "1     2     6     2\n",
      "2     3     7     3\n"
     ]
    }
   ],
   "source": [
    "df = pd.DataFrame([[1, 5, 1, 1], [2, 6, 2, 2], [3, 7, 3, 3]], columns=[\"col1\", \"col2\", \"col3\", \"col4\"])\n",
    "print(df)\n",
    "print(df.mean(axis=1))\n",
    "print(df.drop('col4', axis=1))\n",
    "\n",
    "# 理解axis有问题，df.mean其实是在每一行上取所有列的均值，而不是保留每一列的均值。\n",
    "# 也许简单的来记就是axis=0代表往跨行（down)，而axis=1代表跨列（across)\n",
    "\n",
    "# 换句话说:\n",
    "# 使用0值表示沿着每一列或行标签\\索引值向下执行方法\n",
    "# 使用1值表示沿着每一行或者列标签模向执行对应的方法"
   ]
  },
  {
   "cell_type": "code",
   "execution_count": 4,
   "metadata": {},
   "outputs": [
    {
     "name": "stdout",
     "output_type": "stream",
     "text": [
      "StandardScaler(copy=True, with_mean=True, with_std=True)\n",
      "[2. 6. 2. 2.]\n",
      "[[-1.22474487 -1.22474487 -1.22474487 -1.22474487]\n",
      " [ 0.          0.          0.          0.        ]\n",
      " [ 1.22474487  1.22474487  1.22474487  1.22474487]]\n"
     ]
    }
   ],
   "source": [
    "from sklearn.preprocessing import StandardScaler\n",
    "from sklearn.preprocessing import scale\n",
    "\n",
    "scaler1 = StandardScaler()\n",
    "print(scaler1.fit(df))\n",
    "print(scaler1.mean_)\n",
    "print(scaler1.transform(df))"
   ]
  },
  {
   "cell_type": "code",
   "execution_count": 5,
   "metadata": {},
   "outputs": [
    {
     "name": "stdout",
     "output_type": "stream",
     "text": [
      "[[-1.22474487 -1.22474487 -1.22474487 -1.22474487]\n",
      " [ 0.          0.          0.          0.        ]\n",
      " [ 1.22474487  1.22474487  1.22474487  1.22474487]]\n",
      "[[-0.57735027  1.73205081 -0.57735027 -0.57735027]\n",
      " [-0.57735027  1.73205081 -0.57735027 -0.57735027]\n",
      " [-0.57735027  1.73205081 -0.57735027 -0.57735027]]\n"
     ]
    }
   ],
   "source": [
    "scaler2 = scale(df, axis=0)  # axis=0 by default\n",
    "print(scaler2)\n",
    "scaler2 = scale(df, axis=1)\n",
    "print(scaler2)"
   ]
  },
  {
   "cell_type": "markdown",
   "metadata": {
    "collapsed": true
   },
   "source": [
    "### Numpy"
   ]
  },
  {
   "cell_type": "markdown",
   "metadata": {},
   "source": [
    "#### 找出值为NA的位置"
   ]
  },
  {
   "cell_type": "code",
   "execution_count": 6,
   "metadata": {},
   "outputs": [
    {
     "name": "stdout",
     "output_type": "stream",
     "text": [
      "[[0.24951758        nan 0.16429865]\n",
      " [0.84203533 0.21122092 0.31908049]\n",
      " [0.90498805 0.9921118  0.79555363]\n",
      " [0.2750694  0.08656978 0.55364398]\n",
      " [0.98072927 0.79598424        nan]]\n"
     ]
    },
    {
     "data": {
      "text/plain": [
       "array([nan, nan])"
      ]
     },
     "execution_count": 6,
     "metadata": {},
     "output_type": "execute_result"
    }
   ],
   "source": [
    "x = np.random.random((5,3))\n",
    "x[0,1] = np.nan\n",
    "x[4,2] = np.nan\n",
    "print(x)\n",
    "\n",
    "y = np.where(np.isnan(x))\n",
    "x[y]"
   ]
  }
 ],
 "metadata": {
  "kernelspec": {
   "display_name": "Python 3",
   "language": "python",
   "name": "python3"
  },
  "language_info": {
   "codemirror_mode": {
    "name": "ipython",
    "version": 3
   },
   "file_extension": ".py",
   "mimetype": "text/x-python",
   "name": "python",
   "nbconvert_exporter": "python",
   "pygments_lexer": "ipython3",
   "version": "3.6.3"
  },
  "toc": {
   "nav_menu": {},
   "number_sections": true,
   "sideBar": true,
   "skip_h1_title": false,
   "title_cell": "Table of Contents",
   "title_sidebar": "Contents",
   "toc_cell": false,
   "toc_position": {
    "height": "calc(100% - 180px)",
    "left": "10px",
    "top": "150px",
    "width": "244px"
   },
   "toc_section_display": true,
   "toc_window_display": true
  }
 },
 "nbformat": 4,
 "nbformat_minor": 2
}
