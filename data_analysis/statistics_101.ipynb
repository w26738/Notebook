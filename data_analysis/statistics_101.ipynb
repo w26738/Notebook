{
 "cells": [
  {
   "cell_type": "markdown",
   "metadata": {},
   "source": [
    "** References:   **   \n",
    "** 1. Thomas Haslwanter, An Introduction to Statistics with Python, 2016 **   \n",
    "** 2. https://docs.scipy.org/doc/scipy/reference/tutorial/stats.html **    \n",
    "** 3. 冈和幸/堀玄, 程序员的数学2-概率统计，2015 **    \n",
    "** 4. 统计学基本概念入门，网易云课堂 **    \n",
    "** 5. Allen B. Downey, Think Stats, 2014**  "
   ]
  },
  {
   "cell_type": "markdown",
   "metadata": {},
   "source": [
    "### 统计学基本概念 ###"
   ]
  },
  {
   "cell_type": "markdown",
   "metadata": {},
   "source": [
    "#### 个体、变量和差异"
   ]
  },
  {
   "cell_type": "markdown",
   "metadata": {},
   "source": [
    "**个体**：是统计分析根据研究母的所确定的最基本的研究对象单位  \n",
    "**变量**：根据研究目的确定研究对象，然后对研究对象的某项目或指标进行观察或测量，这种研究项目或指标成为变量  \n",
    "*变量类型*：\n",
    " - 连续变量：取值范围是一个区间，它可以在改区间中连续取值，一些特殊的变量并不能取到任意值，但仍然按连续变量处理（比如年龄）\n",
    " - 离散变量：取值范围是有限个值或者一个数列构成，表示分类情况的离散型变量又称为分类离散变量。根据类别的有序性，分类变量又分为有序分类和无序分类（比如二分类）。\n",
    " - 连续变量、有序变量、无序变量间的信息越来越少，在丢弃一部分信息量的前提下，可以将变量向信息量减少的方向变化  \n",
    "\n",
    "**变异**：同质个体的某指标（变量）值的差异\n",
    "\n"
   ]
  },
  {
   "cell_type": "markdown",
   "metadata": {},
   "source": [
    "#### 总体、样本与随机抽样"
   ]
  },
  {
   "cell_type": "markdown",
   "metadata": {},
   "source": [
    "**总体**：population，是根据研究目的确定的同质所有个体某指标观察值（测量值）的集合。可以分为有限总体和无限总体。  \n",
    "\n",
    "**样本**：从一个较大范围的研究对象中抽出的供观察（测量）的部分个体。  \n",
    "\n",
    "**随机抽样**：在抽样研究中，随机抽出部分进行观察或测量的过程。每个个体最终是否入选在抽样进行前是不可知的，但是其入选可能性是确切可知的。  "
   ]
  },
  {
   "cell_type": "markdown",
   "metadata": {},
   "source": [
    "#### 统计量、总体参数与抽样误差"
   ]
  },
  {
   "cell_type": "markdown",
   "metadata": {},
   "source": [
    "**统计量**：statistic，刻画样本特征的统计指标。  \n",
    "\n",
    "**总体参数**：parameter，刻画总体特征的指标，例如总体中某个指标的所有个体变量值的平均数成为总体平均数。  \n",
    "\n",
    "**抽样误差**：sampling error，由随机抽样造成的样本统计量与总体指标的差异。 \n",
    "\n",
    "**抽样分布**：虽然在一次抽样研究中的抽样误差大小随机，但是抽样误差在概率意义下有律可循，这种规律成为抽样分布。  "
   ]
  },
  {
   "cell_type": "markdown",
   "metadata": {},
   "source": [
    "#### 概率、频率和小概率事件"
   ]
  },
  {
   "cell_type": "markdown",
   "metadata": {},
   "source": [
    "**随机事件**：随机现象的某个可能的观察结果。  \n",
    "\n",
    "**频率**：观察到的随机事件某个结局的出现频次或比例，可以被直接观察到。  \n",
    "\n",
    "**概率**：刻画随机事件发生可能性的大小，取值介于0和1之间。它不能被直接观察到，但可以通过频率估计，实验次数越多，估计越精确。  \n",
    "\n",
    "**小概率事件**：如果随机事件发生的概率小于等于0.05，则认为是一个小概率事件。   "
   ]
  },
  {
   "cell_type": "markdown",
   "metadata": {},
   "source": [
    "** Note **\n",
    "\n",
    "** 概率是一种面积，矩阵是一种映射 **  \n",
    "\n",
    "*Monty Hall问题*  \n",
    "参赛者会看见三扇关闭了的门，其中一扇的后面有一辆汽车或者是奖品，选中后面有车的那扇门就可以赢得该汽车或奖品，而另外两扇门后面则各藏有一只山羊或者是后面没有任何东西。当参赛者选定了一扇门，但未去开启它的时候，知道门后情形的节目主持人会开启剩下两扇门的其中一扇，露出其中一只山羊。主持人其后会问参赛者要不要换另一扇仍然关上的门。问题是：换另一扇门会否增加参赛者赢得汽车的机会率？"
   ]
  },
  {
   "cell_type": "code",
   "execution_count": 1,
   "metadata": {},
   "outputs": [
    {
     "name": "stdout",
     "output_type": "stream",
     "text": [
      "win rate is: 0.6678\n"
     ]
    }
   ],
   "source": [
    "import random\n",
    "\n",
    "class monty_hall:\n",
    "    # 初始化变量\n",
    "    def __init__(self):\n",
    "        self.car_door = None\n",
    "        self.opened_door = None\n",
    "        self.selected_door = None\n",
    "    \n",
    "    # 用户随机选择一个门\n",
    "    def select_door(self):\n",
    "        self.selected_door = random.randint(1,3)\n",
    "\n",
    "    # 主持人选择打开的门\n",
    "    def open_door(self):\n",
    "        self.opened_door = random.randint(1,3)\n",
    "        while (self.opened_door ==  self.selected_door) or (self.opened_door ==  self.car_door):\n",
    "            self.opened_door = random.randint(1,3)\n",
    "    \n",
    "    # 用户转换选择\n",
    "    def change_door(self):\n",
    "        self.selected_door = 6 - self.opened_door - self.selected_door\n",
    "    \n",
    "    # 判断用户选择的门后是否有汽车\n",
    "    def is_win(self):\n",
    "        if self.selected_door == self.car_door:\n",
    "            return True\n",
    "        else:\n",
    "            return False\n",
    "    \n",
    "    def run(self, change_flag=True):\n",
    "        self.car_door = random.randint(1,3)\n",
    "        self.select_door()\n",
    "        self.open_door()\n",
    "        if change_flag:\n",
    "            self.change_door()\n",
    "        \n",
    "        return self.is_win()\n",
    "    \n",
    "win_num, lose_num = 0, 0\n",
    "total_num = 10000\n",
    "mh = monty_hall()\n",
    "\n",
    "for i in range(total_num):\n",
    "    if mh.run(change_flag=True):\n",
    "        win_num += 1\n",
    "    else:\n",
    "        lose_num += 1\n",
    "\n",
    "print(\"win rate is:\", win_num/total_num)"
   ]
  },
  {
   "cell_type": "markdown",
   "metadata": {},
   "source": [
    "#### 统计研究步骤"
   ]
  },
  {
   "cell_type": "markdown",
   "metadata": {},
   "source": [
    "**设计**：\n",
    "选题->明确研究目的->提出假设->明确总体范围->确定观察目标->控制研究中的偏倚->给出具体的研究方案  \n",
    "\n",
    "**收集**：  \n",
    "质量控制极其重要，garbage in, garbage out  \n",
    "\n",
    "**整理**：  \n",
    "越来越倾向于半自动化\n",
    "\n",
    "**分析**：   \n",
    "**统计描述**：尽量精确、直观而全面的对获得的样本进行呈现，比如使用统计图、统计报表。  \n",
    "**统计推断**：从样本信息外推到总体，以最终获得对所感兴趣问题的解答。   \n",
    "- 参数估计：样本->总体特征   \n",
    "- 假设检验：指标可能的影响因素分析   "
   ]
  },
  {
   "cell_type": "markdown",
   "metadata": {},
   "source": [
    "### 连续随机变量的统计描述"
   ]
  },
  {
   "cell_type": "markdown",
   "metadata": {},
   "source": [
    "#### 均数"
   ]
  },
  {
   "cell_type": "markdown",
   "metadata": {},
   "source": [
    "**优点**：  \n",
    "- 使大量观测数据转换为一个代表性数值\n",
    "- 直观便于理解传播\n",
    "\n",
    "**缺点**：   \n",
    "- 掩盖了各个观测数据之间的差异性  \n",
    "- 对个别极端值反应比较灵敏  \n",
    "\n",
    "**使用范围**：  \n",
    "- 对称分布，特别是正态分布"
   ]
  },
  {
   "cell_type": "code",
   "execution_count": 2,
   "metadata": {},
   "outputs": [
    {
     "name": "stdout",
     "output_type": "stream",
     "text": [
      "1016.0\n",
      "nan\n",
      "1016.0\n",
      "[10, 20, 30, 20, 5000, 10, 20, 30, 20, 5000, 10, 20, 30, 20, 5000]\n",
      "1016.0\n",
      "[   30    60    90    60 15000]\n",
      "3048.0\n",
      "1020.0\n"
     ]
    }
   ],
   "source": [
    "import numpy as np\n",
    "\n",
    "x = [10, 20, 30, 20, 5000]\n",
    "print(np.mean(x))\n",
    "\n",
    "xWithNan = np.r_[x, np.nan]\n",
    "print(np.mean(xWithNan))\n",
    "print(np.nanmean(xWithNan))\n",
    "\n",
    "a = 3\n",
    "y1 = a * x\n",
    "print(y1)\n",
    "print(np.mean(y1))\n",
    "\n",
    "y2 = np.array(a) * x\n",
    "print(y2)\n",
    "print(np.mean(y2))\n",
    "\n",
    "z = np.array(x) + 4\n",
    "print(np.mean(z))"
   ]
  },
  {
   "cell_type": "markdown",
   "metadata": {},
   "source": [
    "#### 中位数"
   ]
  },
  {
   "cell_type": "markdown",
   "metadata": {},
   "source": [
    "中位数：将全体数据按大小顺序排列，在这个数列中处于中间位置的那个值。  \n",
    "\n",
    "**优点**：  \n",
    "- 它是位置平均数，不受极端值的影响。在具有个别极端值的数列中，中位数比算数平均数更具代表性。\n",
    "\n",
    "**缺点**：    \n",
    "- 相对均数难以理解\n",
    "- 当样本数比较小的时候，中位数不稳定"
   ]
  },
  {
   "cell_type": "code",
   "execution_count": 3,
   "metadata": {},
   "outputs": [
    {
     "name": "stdout",
     "output_type": "stream",
     "text": [
      "20.0\n"
     ]
    }
   ],
   "source": [
    "x = [10, 20, 30, 20, 5000]\n",
    "\n",
    "print(np.median(x))"
   ]
  },
  {
   "cell_type": "markdown",
   "metadata": {},
   "source": [
    "#### 其他"
   ]
  },
  {
   "cell_type": "markdown",
   "metadata": {},
   "source": [
    "**几何均数**：  \n",
    "- 对各变量值的连乘积开项数次方根\n",
    "- 适用于具有等比或近似等比关系的数据\n",
    "\n",
    "**众数**：   \n",
    "- 是一组数据中出现次数最多的数值\n",
    "- 对非数值统计比较有用，由于非数值数据无法良好定义算术平均数和中位数\n",
    "\n",
    "**截尾均数**：  \n",
    "- 数据进行行排序后，按照一定比例去掉最两端的数据，只使用中部的数据来计算出得均数"
   ]
  },
  {
   "cell_type": "code",
   "execution_count": 4,
   "metadata": {},
   "outputs": [
    {
     "name": "stdout",
     "output_type": "stream",
     "text": [
      "ModeResult(mode=array([20]), count=array([2]))\n",
      "0    20\n",
      "1    30\n",
      "dtype: int64\n",
      "28.0\n",
      "735.7142857142857\n"
     ]
    }
   ],
   "source": [
    "from scipy import stats\n",
    "\n",
    "x = [10, 20, 30, 20, 30, 40, 5000]\n",
    "\n",
    "print(stats.mode(x))\n",
    "\n",
    "import pandas as pd\n",
    "\n",
    "print(pd.Series(x).mode())\n",
    "\n",
    "import warnings\n",
    "warnings.filterwarnings('ignore')\n",
    "\n",
    "print(stats.trim_mean(x, 0.25))\n",
    "print(stats.trim_mean(x, 0.05))"
   ]
  },
  {
   "cell_type": "markdown",
   "metadata": {},
   "source": [
    "#### 全距"
   ]
  },
  {
   "cell_type": "markdown",
   "metadata": {},
   "source": [
    "全距：序列中最大值与最小值之间的差距"
   ]
  },
  {
   "cell_type": "code",
   "execution_count": 5,
   "metadata": {},
   "outputs": [
    {
     "name": "stdout",
     "output_type": "stream",
     "text": [
      "4990\n"
     ]
    }
   ],
   "source": [
    "x = [10, 20, 30, 20, 30, 40, 5000]\n",
    "\n",
    "# ptp stands for “peak-to-peak.”\n",
    "print(np.ptp(x))"
   ]
  },
  {
   "cell_type": "markdown",
   "metadata": {},
   "source": [
    "#### 方差和标准差"
   ]
  },
  {
   "cell_type": "markdown",
   "metadata": {},
   "source": [
    "**离均差**：\n",
    "个体对群体平均值的距离\n",
    "\n",
    "**方差**：  \n",
    "每个样本值与样本值的平均数之差的平方值的平均数（无偏估计）：   \n",
    "$\\sigma ^ { 2 } = \\sum ( X - \\mu ) ^ { 2 } / n$   \n",
    "实际工作中，总体均数难以得到时，应用样本统计量代替总体参数，经校正后，样本方差计算公式（有偏估计）：   \n",
    "$s ^ { 2 } = \\frac { 1 } { n - 1 } \\sum _ { i = 1 } ^ { n } ( X - \\overline { X } ) ^ { 2 }$\n",
    "\n",
    "**标准差**：\n",
    "又常称均方差（无偏估计），是离均差平方的算术平均数的平方根：  \n",
    "$\\sigma = \\sqrt { \\sum ( X - \\mu ) ^ { 2 } / n }$   \n",
    "实际工作中，总体均数难以得到时，应用样本统计量代替总体参数，经校正后，样本标准差计算公式（有偏估计）：    \n",
    "$S = \\sqrt { \\sum ( X - \\overline { X } ) ^ { 2 } / ( n - 1 ) }$   \n",
    "\n",
    "**变异系数**：   \n",
    "原始数据标准差与原始数据平均数的比，它消除测量尺度和量纲的影响：   \n",
    "$c _ { v } = { \\sigma } / { \\mu }$   \n",
    "\n",
    "方差-标准差-变异系数适用于对称分布，本质上只适用于正态分布的数据。"
   ]
  },
  {
   "cell_type": "code",
   "execution_count": 6,
   "metadata": {},
   "outputs": [
    {
     "name": "stdout",
     "output_type": "stream",
     "text": [
      "3030767.3469387754\n",
      "1740.9099192487747\n",
      "1740.9099192487747\n",
      "1880.3976276562462\n",
      "2.366285327134257\n"
     ]
    }
   ],
   "source": [
    "x = [10, 20, 30, 20, 30, 40, 5000]\n",
    "\n",
    "print(np.var(x))\n",
    "print(np.std(x))\n",
    "# ddof : 自由度。The divisor used in calculations is N - ddof, where N represents the number of elements. By default ddof is zero.\n",
    "print(np.std(x, ddof=0))\n",
    "print(np.std(x, ddof=1))\n",
    "print(np.std(x)/np.mean(x))"
   ]
  },
  {
   "cell_type": "markdown",
   "metadata": {},
   "source": [
    "#### 百分位数"
   ]
  },
  {
   "cell_type": "markdown",
   "metadata": {},
   "source": [
    "**百分位数**：\n",
    "如果将一组数据从小到大排序，并计算相应的累计百分位，则某一百分位所对应数据的值就称为这一百分位的百分位数。它适用于各种分布。   \n",
    "\n",
    "**四分位数**：\n",
    "把所有数值由小到大排列并分成四等份，处于三个分割点位置的数值：P25，P50，P75。   "
   ]
  },
  {
   "cell_type": "code",
   "execution_count": 7,
   "metadata": {},
   "outputs": [
    {
     "name": "stdout",
     "output_type": "stream",
     "text": [
      "[  10.   20.   30.   35. 3512.]\n"
     ]
    }
   ],
   "source": [
    "x = [10, 20, 30, 20, 30, 40, 5000]\n",
    "\n",
    "print(np.percentile(x, [0, 25, 50, 75, 95]))"
   ]
  },
  {
   "cell_type": "markdown",
   "metadata": {},
   "source": [
    "#### 分布"
   ]
  },
  {
   "cell_type": "markdown",
   "metadata": {},
   "source": [
    "**偏度(skewness)系数**：描述分布偏离对称性程度的一个特征数。当分布左右对称时，偏度系数为0。当偏度系数大于0时，即重尾在右侧时，该分布为右偏。当偏度系数小于0时，即重尾在左侧时，该分布左偏。   \n",
    "**峰度(kurtosis)系数**：描述概率密度分布曲线在平均值处峰值高低的特征数。"
   ]
  },
  {
   "cell_type": "markdown",
   "metadata": {},
   "source": [
    "### 分类变量的统计描述"
   ]
  },
  {
   "cell_type": "markdown",
   "metadata": {},
   "source": [
    "#### 基本的描述方式"
   ]
  },
  {
   "cell_type": "markdown",
   "metadata": {},
   "source": [
    "- 频数列表  \n",
    "- 百分比  \n",
    "- 累计频数  \n",
    "- 累计百分比  \n",
    "- 众数  "
   ]
  },
  {
   "cell_type": "code",
   "execution_count": 8,
   "metadata": {},
   "outputs": [
    {
     "name": "stdout",
     "output_type": "stream",
     "text": [
      "10 1 0.14285714285714285\n",
      "20 2 0.2857142857142857\n",
      "30 2 0.2857142857142857\n",
      "40 1 0.14285714285714285\n",
      "5000 1 0.14285714285714285\n",
      "[1 3 5 6 7]\n",
      "[0.14285714 0.42857143 0.71428571 0.85714286 1.        ]\n",
      "0    20\n",
      "1    30\n",
      "dtype: int64\n"
     ]
    }
   ],
   "source": [
    "x = [10, 20, 30, 20, 30, 40, 5000]\n",
    "\n",
    "unique_elements, counts_elements = np.unique(x, return_counts=True)\n",
    "for u, c in zip(unique_elements, counts_elements):\n",
    "    print(u, c, c/sum(counts_elements))\n",
    "    \n",
    "print(np.cumsum(counts_elements))\n",
    "print(np.cumsum(counts_elements)/sum(counts_elements))\n",
    "print(pd.Series(x).mode())"
   ]
  },
  {
   "cell_type": "markdown",
   "metadata": {},
   "source": [
    "#### 比（ratio）和率（rate）"
   ]
  },
  {
   "cell_type": "markdown",
   "metadata": {},
   "source": [
    "**比（ratio）**：任意两个变量之比，这两个变量可以是性质相同的也可以是性质不同的，一般这两个变量的比值必须有专业意义。   \n",
    "**构成比（proportion）**：部分占总体的比例，各部分构成比之和为1。   \n",
    "**率（rate）**：某个时期内某个事件发生的频率或强度，比如发病率，成功率。"
   ]
  },
  {
   "cell_type": "code",
   "execution_count": 9,
   "metadata": {},
   "outputs": [
    {
     "name": "stdout",
     "output_type": "stream",
     "text": [
      "[0.66666667 0.66666667 0.6        1.         0.75       0.4\n",
      " 0.83333333]\n"
     ]
    }
   ],
   "source": [
    "x = [10, 20, 30, 20, 30, 40, 5000]\n",
    "y = [15, 30, 50, 20, 40, 100, 6000]\n",
    "\n",
    "print(np.array(x)/np.array(y))"
   ]
  },
  {
   "cell_type": "markdown",
   "metadata": {},
   "source": [
    "### 正态分布"
   ]
  },
  {
   "cell_type": "markdown",
   "metadata": {},
   "source": [
    "#### 概率即面积"
   ]
  },
  {
   "cell_type": "markdown",
   "metadata": {},
   "source": [
    "**概率密度函数（probability density function）**：连续型随机变量的概率密度函数（在不至于混淆时可以简称为密度函数）是一个描述这个随机变量的输出值，在某个确定的取值点附近的可能性的函数。本身不是概率，取值积分后才是概率。    \n",
    "\n",
    "**累计概率**：概率密度曲线下的面积。   \n",
    "\n",
    "**概率质量函数（probability mass function)**：概率质量函数是离散随机变量在各特定取值上的概率。   \n",
    "\n",
    "- PDF是连续变量特有的，PMF是离散随机变量特有的；\n",
    "- PDF的取值本身不是概率，它是一种趋势（密度）只有对连续随机变量的取值进行积分后才是概率，也就是说对于连续值确定它在某一点的概率是没有意义的；\n",
    "- PMF的取值本身代表该值的概率。\n",
    "\n",
    "** 其他相关函数 **    \n",
    "- **Probability density function (PDF)**:    \n",
    "Note that to obtain the probability for the variable appearing in a certain interval, you have to integrate the PDF over that range.    \n",
    "Example: What is the chance that a man is between 160 and 165 cm tall?      \n",
    "\n",
    "- **Cumulative distribution function (CDF)**:    \n",
    "Gives the probability of obtaining a value smaller than the given value.    \n",
    "Example: What is the chance that a man is less than 165 cm tall?    \n",
    "\n",
    "- **Survival Function SF = 1-CDF**:    \n",
    "Gives the probability of obtaining a value larger than the given value. It can also be interpreted as the proportion of data “surviving” above a certain value.    \n",
    "Example: What is the chance that a man is larger than 165 cm?    \n",
    "\n",
    "- **Percentile Point Function (PPF)**:    \n",
    "The inverse of the CDF. The PPF answers the question “Given a certain probability, what is the corresponding input value for the CDF?”      \n",
    "Example: Given that I am looking for a man who is smaller than 95% of all other men, what size does the subject have to be?     \n",
    "\n",
    "- **Inverse Survival Function (ISF)**:    \n",
    "The name says it all.      \n",
    "Example: Given that I am looking for a man who is larger than 95% of all other\n",
    "men, what size does the subject have to be?    \n",
    "\n",
    "- **Random Variate Sample (RVS)**:     \n",
    "Random variates from a given distribution. (A variable is the general type, a variate is a specific number.)\n",
    "\n"
   ]
  },
  {
   "cell_type": "code",
   "execution_count": 10,
   "metadata": {},
   "outputs": [
    {
     "name": "stdout",
     "output_type": "stream",
     "text": [
      "0.9750021048517795\n",
      "0.024997895148220435\n",
      "1.959963984540054\n",
      "-1.959963984540054\n",
      "0.024997895148220435\n",
      "0.9750021048517795\n",
      "-1.9599639845400545\n",
      "1.9599639845400545\n"
     ]
    },
    {
     "data": {
      "image/png": "[encoded data removed]",
      "text/plain": [
       "<Figure size 864x288 with 1 Axes>"
      ]
     },
     "metadata": {},
     "output_type": "display_data"
    }
   ],
   "source": [
    "import matplotlib.pyplot as plt\n",
    "% matplotlib inline\n",
    "\n",
    "rv = stats.norm(0, 1)\n",
    "y = stats.norm.rvs(0, 1, 10000)\n",
    "\n",
    "fig = plt.figure(figsize=(12, 4))\n",
    "ax = fig.add_subplot(111)\n",
    "n, bins, ignored = ax.hist(y, 50, normed=True, edgecolor='k')\n",
    "ax.plot(bins, 1/(np.sqrt(2*np.pi))*np.exp(-(bins)**2/(2)), lw=2.0);\n",
    "plt.vlines(0.5, 0, rv.pdf(0.5), colors='red', lw=4.0);\n",
    "\n",
    "print(rv.cdf(1.96))\n",
    "print(rv.sf(1.96))\n",
    "print(rv.ppf(0.975))\n",
    "print(rv.isf(0.975))\n",
    "\n",
    "print(rv.cdf(-1.96))\n",
    "print(rv.sf(-1.96))\n",
    "print(rv.ppf(0.025))\n",
    "print(rv.isf(0.025))"
   ]
  },
  {
   "cell_type": "markdown",
   "metadata": {},
   "source": [
    "#### 正态分布"
   ]
  },
  {
   "cell_type": "markdown",
   "metadata": {},
   "source": [
    "**正态分布**：   \n",
    "- 记为$X \\sim N \\left( \\mu , \\sigma ^ { 2 } \\right)$\n",
    "- 概率密度函数：$f ( x ) = \\frac { 1 } { \\sigma \\sqrt { 2 \\pi } } e ^ { - \\frac { ( x - \\mu ) ^ { 2 } } { 2 \\sigma ^ { 2 } } }$\n",
    "- $\\mu$是分布缺陷的峰位置，又称为位置参数   \n",
    "- $\\sigma$越大离散程度越大，又称为形状参数   \n",
    "\n",
    "**标准正态分布**   \n",
    "均值为0，标准差为1的正态分布N(0,1)。   \n",
    "- 如果$X \\sim N \\left( \\mu , \\sigma ^ { 2 } \\right)$，则$y = \\frac { X - \\mu } { \\sigma } \\sim N ( 0,1 )$\n"
   ]
  },
  {
   "cell_type": "code",
   "execution_count": 11,
   "metadata": {},
   "outputs": [
    {
     "name": "stdout",
     "output_type": "stream",
     "text": [
      "5.0 3.0 9.0\n"
     ]
    },
    {
     "data": {
      "image/png": "[encoded data removed]",
      "text/plain": [
       "<Figure size 864x288 with 2 Axes>"
      ]
     },
     "metadata": {},
     "output_type": "display_data"
    }
   ],
   "source": [
    "n_d = stats.norm(5,3)\n",
    "print(n_d.mean(), n_d.std(), n_d.var())\n",
    "x = np.linspace(-5, 10, 101)\n",
    "y = n_d.cdf(x)\n",
    "\n",
    "fig = plt.figure(figsize=(12,4))\n",
    "ax1 = fig.add_subplot(121)\n",
    "ax1.plot(x, y);\n",
    "\n",
    "ax2 = fig.add_subplot(122)\n",
    "fx = stats.norm.rvs(5, 3, 10000)\n",
    "# edgecolor指定bin的边框： https://stackoverflow.com/questions/43080259/no-outlines-on-bins-of-matplotlib-histograms-or-seaborn-distplots\n",
    "# bins返回的是x轴bin的坐标列表\n",
    "n, bins, ignored = ax2.hist(fx, 50, normed=True, edgecolor='k')\n",
    "ax2.plot(bins, 1/(3*np.sqrt(2*np.pi))*np.exp(-(bins-5)**2/(2*3**2)), lw=2.0);"
   ]
  },
  {
   "cell_type": "markdown",
   "metadata": {},
   "source": [
    "### 二项分布"
   ]
  },
  {
   "attachments": {},
   "cell_type": "markdown",
   "metadata": {},
   "source": [
    "**伯努利试验**：是在**同样的条件下**重复地、**相互独立地**进行的一种随机试验，其特点是该随机试验只有两种可能结果：发生或者不发生。单个伯努利试验是没有多大意义的，然而，当我们反复进行伯努利试验，去观察这些试验有多少是成功的，多少是失败的，事情就变得有意义了。   \n",
    "\n",
    "**二项分布**：是指n个独立的是/非试验中成功的次数的离散概率分布，其中每次试验的成功概率为p。当n=1时，二项分布就是伯努利分布。   \n",
    "- 二项分布是离散分布   \n",
    "- 概率分布：$b ( x , n , p ) = C _ { n } ^ { x } p ^ { x } q ^ { n - x }$，b表示二项分布的概率，n表示试验次数，x表示出现某个结果的次数，p是事件出现的概率。   \n",
    "- 均值为np，方差为np(1-p)"
   ]
  },
  {
   "cell_type": "code",
   "execution_count": 12,
   "metadata": {},
   "outputs": [
    {
     "name": "stdout",
     "output_type": "stream",
     "text": [
      "0.7\n",
      "0.3\n",
      "[0 1 1 0 1 0 0 1 1 0 0 0 1 0 0 1 0 0 0 1 1 0 0 0 1 0 1 0 0 0 1 0 0 0 1 0 0\n",
      " 0 0 1 0 1 0 0 0 0 0 0 0 0 0 1 0 0 1 1 0 0 0 0 1 1 0 0 0 1 1 1 0 0 1 1 0 0\n",
      " 0 0 0 0 0 0 0 0 1 0 0 0 1 0 0 0 1 1 1 0 0 0 1 0 1 0]\n",
      "6.0\n",
      "4.199999999999999\n"
     ]
    },
    {
     "data": {
      "image/png": "[encoded data removed]",
      "text/plain": [
       "<Figure size 864x288 with 2 Axes>"
      ]
     },
     "metadata": {},
     "output_type": "display_data"
    }
   ],
   "source": [
    "# 伯努利试验\n",
    "p = 0.3\n",
    "bernoulli_dist = stats.bernoulli(p)\n",
    "print(bernoulli_dist.pmf(0))\n",
    "print(bernoulli_dist.pmf(1))\n",
    "print(bernoulli_dist.rvs(100))\n",
    "\n",
    "\n",
    "## 二项分布\n",
    "p, num = 0.3, 20\n",
    "binomal_dist = stats.binom(num, p)\n",
    "binomal_pmf = binomal_dist.pmf(np.arange(0, num+1))\n",
    "binomal_cdf = binomal_dist.cdf(np.arange(0, num+1))\n",
    "\n",
    "fig = plt.figure(figsize=(12,4))\n",
    "ax1 = fig.add_subplot(121)\n",
    "ax1.plot(binomal_pmf, ls='--', marker='o')\n",
    "ax2 = fig.add_subplot(122)\n",
    "ax2.plot(binomal_cdf);\n",
    "\n",
    "print(binomal_dist.mean())\n",
    "print(binomal_dist.var())"
   ]
  },
  {
   "cell_type": "markdown",
   "metadata": {},
   "source": [
    "### 参数估计和置信区间"
   ]
  },
  {
   "cell_type": "markdown",
   "metadata": {},
   "source": [
    "**统计推断(statistical inference)**：根据带随机性的观测数据（样本）以及问题的条件和假定（模型），而对未知事物作出的，以概率形式表述的推断。统计推断的基本问题可以分为两大类：一类是参数估计问题；另一类是假设检验问题。"
   ]
  },
  {
   "cell_type": "markdown",
   "metadata": {},
   "source": [
    "#### 大数定律和中心极限定理"
   ]
  },
  {
   "cell_type": "markdown",
   "metadata": {},
   "source": [
    "**大数定律**：  \n",
    "对于服从独立同分布的随机变量，其均值（是个随机变量）收敛于这个分布的期望。  \n",
    "\n",
    "**中心极限定理**：   \n",
    "对于大量相互独立的随机变量，其均值（是个随机变量）的**分布**逼近于某个正态分布（这个正态分布的期望和上面那个期望是相同的）。\n",
    "\n",
    "假设有n个独立随机变量，它们的和为：  \n",
    "$$S _ { n } = \\sum _ { i = 1 } ^ { n } X _ { i }$$   \n",
    "大数定律；    \n",
    "$$\\frac { 1 } { n } S _ { n } - E ( X ) \\stackrel { P } { \\rightarrow } 0$$\n",
    "中心极限定理：    \n",
    "$$\\sqrt { n } \\left( \\frac { S _ { n } } { n } - E ( X ) \\right) \\stackrel { D } { \\rightarrow } N ( 0 , \\Sigma )$$"
   ]
  },
  {
   "cell_type": "code",
   "execution_count": 13,
   "metadata": {},
   "outputs": [
    {
     "data": {
      "image/png": "[encoded data removed]",
      "text/plain": [
       "<Figure size 1008x432 with 1 Axes>"
      ]
     },
     "metadata": {},
     "output_type": "display_data"
    }
   ],
   "source": [
    "# 掷骰子模拟大数定律\n",
    "results = []\n",
    "for n_throws in range(1,1000):\n",
    "    throws = np.random.randint(low=1, high=7, size=n_throws)\n",
    "    mean_of_throws = throws.mean()\n",
    "    results.append(mean_of_throws)\n",
    "\n",
    "df = pd.DataFrame({ 'throws' : results})\n",
    "\n",
    "ax = df.plot(title='Law of Large Numbers', figsize=(14,6))\n",
    "ax.set_xlabel(\"Number of throws in sample\")\n",
    "ax.set_ylabel(\"Average Of Sample\");"
   ]
  },
  {
   "cell_type": "code",
   "execution_count": 14,
   "metadata": {},
   "outputs": [
    {
     "name": "stdout",
     "output_type": "stream",
     "text": [
      "0.10036815495387118 0.009883611146628413\n"
     ]
    },
    {
     "data": {
      "image/png": "[encoded data removed]",
      "text/plain": [
       "<Figure size 432x288 with 1 Axes>"
      ]
     },
     "metadata": {},
     "output_type": "display_data"
    }
   ],
   "source": [
    "# 使用指数分布模拟中心极限定理\n",
    "lam = 0.1\n",
    "data = np.random.exponential(lam, 5000)\n",
    "print(data.mean(), data.var())\n",
    "plt.hist(data, bins=100);"
   ]
  },
  {
   "cell_type": "code",
   "execution_count": 15,
   "metadata": {},
   "outputs": [
    {
     "data": {
      "image/png": "[encoded data removed]",
      "text/plain": [
       "<Figure size 1152x288 with 3 Axes>"
      ]
     },
     "metadata": {},
     "output_type": "display_data"
    }
   ],
   "source": [
    "sample10_mean = []\n",
    "sample20_mean = []\n",
    "sample1000_mean = []\n",
    "\n",
    "for _ in range(10000):\n",
    "    sample10 = np.random.choice(data, 10)\n",
    "    sample10_mean.append(sample10.mean())\n",
    "    sample20 = np.random.choice(data, 20)\n",
    "    sample20_mean.append(sample20.mean())\n",
    "    sample1000 = np.random.choice(data, 1000)\n",
    "    sample1000_mean.append(sample1000.mean())\n",
    "\n",
    "fig, axes = plt.subplots(nrows=1, ncols=3, figsize=(16,4))\n",
    "axes[0].hist(sample10_mean, bins=200)\n",
    "axes[1].hist(sample20_mean, bins=200)\n",
    "axes[2].hist(sample1000_mean, bins=200);"
   ]
  },
  {
   "cell_type": "markdown",
   "metadata": {},
   "source": [
    "#### 抽样误差与标准误差"
   ]
  },
  {
   "attachments": {},
   "cell_type": "markdown",
   "metadata": {},
   "source": [
    "**抽样误差**：在具体的抽样调查中，由于随机因素引起的样本指标与总体指标之间的离差。由于总体指标无法取得，所以抽样误差无法直接计算。  \n",
    "\n",
    "**标准误差**：对一个总体多次抽样，每次样本大小都为n，那么每个样本都有自己的平均值，这些平均值的标准差叫做标准误差。 \n",
    "$$S E M = \\frac { \\sigma } { \\sqrt { n } } = \\sqrt { \\frac { \\sum _ { i = 1 } ^ { n } \\left( x _ { i } - \\overline { x } \\right) ^ { 2 } } { n - 1 } } \\cdot \\frac { 1 } { \\sqrt { n } }$$   \n",
    "\n",
    "**标准差(SD)**是一次抽样中个体间的离散程度，反映了个体对样本均值的代表性，衡量的是该随机变量的离散度，用于描述统计。     \n",
    "\n",
    "**标准误差(SEM)**是多次抽样中样本均值间的离散程度，反映了样本均值对总体均值的代表性，衡量的是抽样分布的离散度，用于推论统计。  \n",
    "\n",
    "**t分布**：\n",
    "现实情况下，总体标准差往往是无法获取的，一般是通过样本标准差s估计，于是标准误的估计公式变为：   \n",
    "$$\\frac { S } { \\sqrt { n } }$$   \n",
    "如果使用总体标准差进行计算，则：$\\frac { \\overline { X } - \\mu } { \\sigma / \\sqrt { n } }$服从正态分布。    \n",
    "但是由于一般只能使用样本标准差进行估计，则：$\\frac { \\overline { X } - \\mu } { S / \\sqrt { n } }$服从的是t分布。"
   ]
  },
  {
   "cell_type": "code",
   "execution_count": 16,
   "metadata": {},
   "outputs": [
    {
     "name": "stdout",
     "output_type": "stream",
     "text": [
      "3.11\n",
      "0.10\n",
      "0.10\n"
     ]
    }
   ],
   "source": [
    "x = np.random.normal(5, 3, 1000)\n",
    "print('%.2f' % np.std(x))\n",
    "print('%.2f' % (np.std(x)/np.sqrt(1000)))\n",
    "print('%.2f' % stats.sem(x))"
   ]
  },
  {
   "cell_type": "markdown",
   "metadata": {},
   "source": [
    "#### 置信区间"
   ]
  },
  {
   "cell_type": "markdown",
   "metadata": {},
   "source": [
    "**大样本**：  \n",
    "样本大小（n>=30）时，抽样分布近似正态分布。\n",
    "\n",
    "**小样本**：  \n",
    "样本大小（n<30）时，抽样分布符合t分布。\n",
    "\n",
    "**点估计**：   \n",
    "用一个数据的函数（通常称为估计统计量）来给出一个未知参数的估计值   \n",
    "\n",
    "**区间估计**：  \n",
    "在点估计的基础上，给出总体参数估计的一个区间范围，该区间通常由样本统计量加减估计误差得到。    \n",
    "\n",
    "**置信区间**：\n",
    "对样本的总体的参数分布中的某一个未知参数值，以区间形式给出的估计。  \n",
    "\n",
    "在置信区间中，总体参数虽未知，但却是固定的值，而不是随机变量值，其大小与抽样无关。因此，95%置信区间不能理解为：总体参数有95%的可能落在该区间内，因为相应的总体参数只有一个。正确的理解是：**样本数目不变的情况下，做一百次试验，有95个置信区间包含了总体真值。置信度为95%**\n",
    "\n",
    "**置信区间计算方法**：   \n",
    "https://zhuanlan.zhihu.com/p/35389951"
   ]
  },
  {
   "cell_type": "code",
   "execution_count": 17,
   "metadata": {},
   "outputs": [
    {
     "name": "stdout",
     "output_type": "stream",
     "text": [
      "0.9750021048517795\n",
      "0.024997895148220435\n",
      "1.959963984540054\n",
      "-1.959963984540054\n",
      "0.024997895148220435\n",
      "0.9750021048517795\n",
      "-1.9599639845400545\n",
      "1.9599639845400545\n",
      "(-1.959963984540054, 1.959963984540054)\n"
     ]
    }
   ],
   "source": [
    "rv = stats.norm(0, 1)\n",
    "y = stats.norm.rvs(0, 1, 10000)\n",
    "\n",
    "print(rv.cdf(1.96))\n",
    "print(rv.sf(1.96))\n",
    "print(rv.ppf(0.975))\n",
    "print(rv.isf(0.975))\n",
    "\n",
    "print(rv.cdf(-1.96))\n",
    "print(rv.sf(-1.96))\n",
    "print(rv.ppf(0.025))\n",
    "print(rv.isf(0.025))\n",
    "\n",
    "# 置信区间\n",
    "print(rv.interval(0.95))"
   ]
  },
  {
   "cell_type": "markdown",
   "metadata": {},
   "source": [
    "### 假设检验"
   ]
  },
  {
   "cell_type": "markdown",
   "metadata": {},
   "source": [
    "#### 假设检验的基本原理"
   ]
  },
  {
   "cell_type": "markdown",
   "metadata": {},
   "source": [
    "**前提条件**：\n",
    "- 运用统计知识根据研究设计和资料性质正确选择分析过程    \n",
    "- 初步统计分析和统计描述：    \n",
    "  -- 集中趋势、离散趋势、分布特征、异常值和其他\n",
    "  \n",
    "**假设检验**：  \n",
    "推论统计中用于检验统计假设的一种方法\n",
    "\n",
    "**基本原理**：  \n",
    "- 小概率事件在一次随机抽样中不会发生。   \n",
    "- 先对总体做出某种假设，然后对总体进行抽样得到样本，通过检验样本是否是在总体假设下的小概率事件，如果是小概率事件就可以推翻原来的假设了，如果不是小概率事件，暂时不能推翻这个假设，可以做进一步的检验，或者接受假设。   "
   ]
  },
  {
   "cell_type": "markdown",
   "metadata": {},
   "source": [
    "#### 假设检验的基本步骤"
   ]
  },
  {
   "cell_type": "markdown",
   "metadata": {},
   "source": [
    "**1. 建立假设检验，确定检验水准**     \n",
    "H0和H1假设都是对总体特征的检验假设，相互联系且对立。    \n",
    "- *无效/零假设H0*：总是假设样本差别来自抽样误差。  \n",
    "- *备择假设H1*：是来自非抽样误差，有单双侧之分。   \n",
    "- *检验水准*$\\alpha$：指假设H0本来成立，却根据样本信息拒绝了H0的可能性的大小，即拒绝了H0实际上成立的概率。一般$\\alpha$取值为0.05。    \n",
    "\n",
    "**2. 计算检验统计量和P值**：   \n",
    "- 统计量一般服从某种一直分布，从而可以计算出概率P值（P是从H0假设的总体中抽出现有样本以及更极端情况的概率）。   \n",
    "- 各种检验方法所利用的分布及计算原理不同，从而检验统计量也不同。常用的统计量分布包括：t分布，卡方分布，F分布等等。  \n",
    "\n",
    "**3. 得出推断结论**：   \n",
    "- 如果P≤$\\alpha$，拒绝H0，接受H1，可以认为样本与总体的差别不仅仅是抽样误差造成的，而是可能存在本质上的差别，因此可以认为两者的差别有统计学意义或是显著性的。   \n",
    "- 如果P>$\\alpha$，按$\\alpha$＝0.05水准，不拒绝H0，可以认为样本和总体间的差别態排除纯粹由抽样误差造成的，即无统计学意义或显著性差异。注意，这里不拒绝H0不等于接受H0。   "
   ]
  },
  {
   "cell_type": "code",
   "execution_count": 18,
   "metadata": {},
   "outputs": [
    {
     "name": "stdout",
     "output_type": "stream",
     "text": [
      "掷骰子100次，大于60次为正面的概率为 0.02\n"
     ]
    }
   ],
   "source": [
    "# 掷硬币模拟假设假设检验\n",
    "# 假设掷硬币100次，其中60次为正面，40次为反面\n",
    "# H0：硬币没有问题，即正反面次数分别为50次；H1：硬币有问题\n",
    "# 掷硬币的分布为二项分布B（100,0.5）\n",
    "distr = stats.binom(100, 0.5)\n",
    "print('掷骰子100次，大于60次为正面的概率为 {:.2f}'.format(distr.sf(60)))\n",
    "# 掷硬币100次，大于等于60次为正面的概率为0.02小于0.05，拒绝H0，接受H1，说明骰子有问题。"
   ]
  },
  {
   "cell_type": "markdown",
   "metadata": {},
   "source": [
    "#### 一类错误和二类错误"
   ]
  },
  {
   "cell_type": "markdown",
   "metadata": {},
   "source": [
    "|          | 拒绝H0，接受H1 | 不拒绝H0 |\n",
    "|:---------------:|:---------:|:---------:|\n",
    "| H0真实      |$\\alpha$（一类错误）       |$1-\\alpha$ |\n",
    "| H0不真实      | $1-\\beta$       |    $\\beta$（二类错误）      |\n",
    "\n",
    "\n",
    "更多细节： https://www.zhihu.com/question/60368894/answer/175474713    \n",
    "\n",
    "**检验效能**：H1为真，实际拒绝H0的概率，$1-\\beta$。   \n",
    "- 样本量太小，会导致检验效能不足，从而可能无法检出可能存在的差异。    \n",
    "- 样本量太大，得出的有统计学意义的结论可能根本没有实际意义。   \n",
    "\n",
    "**控制两种错误的方法**：   \n",
    "- $\\alpha$可以通过事先认为设定，希望拒绝结论更可信，可以减小$\\alpha$的值。    \n",
    "- $\\beta$只能间接控制：   \n",
    "-- 增大样本量以减小标准误   \n",
    "-- 放大$\\alpha$来减小$\\beta$   "
   ]
  },
  {
   "cell_type": "markdown",
   "metadata": {},
   "source": [
    "#### 常用的假设检验方法"
   ]
  },
  {
   "cell_type": "markdown",
   "metadata": {},
   "source": [
    "**单侧检验**：   \n",
    "当要检验的是样本所取自的总体的参数值大于或小于某个特定值时，所采用的一种单方面的统计检验方法。\n",
    "\n",
    "**双侧检验**：  \n",
    "当要检验的是样本所取自的总体的参数值有没有显著差异，而不管差异是正还是负时，所采用的一种统计检验方法。\n",
    "\n"
   ]
  },
  {
   "cell_type": "markdown",
   "metadata": {},
   "source": [
    "##### 单样本t检验"
   ]
  },
  {
   "cell_type": "markdown",
   "metadata": {},
   "source": [
    "**单样本t检验**：  \n",
    "检验一个正态分布的总体的均值是否在满足零假设的值之内。只要数据分布不存在强烈的偏态，一般而言，单样本t检验都是适用的。\n",
    "\n",
    "统计量：\n",
    "$$t = \\frac { \\overline { x } - \\mu _ { 0 } } { s / \\sqrt { n } }$$     \n",
    "其中$i = 1 \\ldots n , \\overline { x } = \\frac { \\sum _ { i = 1 } ^ { n } x _ { i } } { n }$为样本平均数，$s = \\sqrt { \\frac { \\sum _ { i = 1 } ^ { n } \\left( x _ { i } - \\overline { x } \\right) ^ { 2 } } { n - 1 } }$为样本标准偏差，n为样本数。该统计量t在零假说：$\\mu = \\mu _ { 0 }$为真的条件下服从自由度为n−1的t分布。   \n",
    "\n",
    "H0: 样本均数与（假定的）总体均数的差异完全是由抽样误差造成的。   \n",
    "H1：样本均数与总体均数的差异反映了两个总体均数确实存在误差。  \n",
    "检验水准：$\\alpha=0.05$     \n",
    "如果统计量计算出来的P值小于等于$\\alpha$，则拒绝H0，接受H1，否则不拒绝H0。   "
   ]
  },
  {
   "cell_type": "code",
   "execution_count": 19,
   "metadata": {},
   "outputs": [
    {
     "name": "stdout",
     "output_type": "stream",
     "text": [
      "0.6810004356008288 2.9291627860623533\n",
      "0.49746099844105407 0.004218683146020625\n"
     ]
    }
   ],
   "source": [
    "np.random.seed(1) \n",
    "rvs = stats.norm.rvs(loc=5, scale=10, size=100)\n",
    "t_statistics_1, p_value_1 = stats.ttest_1samp(rvs, 5.0)\n",
    "t_statistics_2, p_value_2 = stats.ttest_1samp(rvs, 3.0)\n",
    "\n",
    "print(t_statistics_1, t_statistics_2)\n",
    "print(p_value_1, p_value_2)  # p2<0.05，拒绝H0"
   ]
  },
  {
   "cell_type": "markdown",
   "metadata": {},
   "source": [
    "##### 两样本t检验"
   ]
  },
  {
   "cell_type": "markdown",
   "metadata": {},
   "source": [
    "**两样本t检验**：   \n",
    "来自两个总体的独立样本，推断两个总体的均值是否存在显著差异。 \n",
    "\n",
    "统计量：\n",
    "$$t = \\frac { \\overline { x } _ { 1 } - \\overline { x } _ { 2 } } { s _ { \\overline { x } _ { 1 } - \\overline { x } _ { 2 } } }$$\n",
    "\n",
    "H0：$\\mu _ { 1 } = \\mu _ { 2 }$    \n",
    "H1：$\\mu _ { 1 } \\neq \\mu _ { 2 }$    \n",
    "检验水准：$\\alpha=0.05$   \n",
    "\n",
    "**适用条件**：   \n",
    "独立性、正态性和方差齐性   "
   ]
  },
  {
   "cell_type": "code",
   "execution_count": 20,
   "metadata": {},
   "outputs": [
    {
     "name": "stdout",
     "output_type": "stream",
     "text": [
      "0.26833823296238857 -5.043401345858523\n",
      "0.788494433695651 5.43029794754431e-07\n"
     ]
    }
   ],
   "source": [
    "np.random.seed(12345678)\n",
    "\n",
    "rvs1 = stats.norm.rvs(loc=5, scale=10, size=500)\n",
    "rvs2 = stats.norm.rvs(loc=5, scale=10, size=500)\n",
    "# rvs3 = stats.norm.rvs(loc=5, scale=20, size=500)\n",
    "# rvs4 = stats.norm.rvs(loc=5, scale=20, size=100)\n",
    "# rvs5 = stats.norm.rvs(loc=8, scale=20, size=100)\n",
    "rvs5 = stats.norm.rvs(loc=8, scale=10, size=500)\n",
    "\n",
    "t_statistics_12, p_value_12 = stats.ttest_ind(rvs1, rvs2)\n",
    "# t_statistics_13, p_value_13 = stats.ttest_ind(rvs1, rvs3)\n",
    "# t_statistics_14, p_value_14 = stats.ttest_ind(rvs1, rvs4)\n",
    "t_statistics_15, p_value_15 = stats.ttest_ind(rvs1, rvs5)\n",
    "\n",
    "print(t_statistics_12, t_statistics_15)\n",
    "print(p_value_12, p_value_15)"
   ]
  },
  {
   "cell_type": "markdown",
   "metadata": {},
   "source": [
    "##### 卡方检验"
   ]
  },
  {
   "cell_type": "markdown",
   "metadata": {},
   "source": [
    "**卡方检验**：   \n",
    "一种分类统计推断方法，统计量的分布在零/无效假设成立时近似服从卡方分布（$X ^ { 2 }$分布）的假设检验。在没有其他的限定条件或说明时，卡方检验一般指代的是皮尔森卡方检验。   \n",
    "\n",
    "假设实验中从总体中随机取样得到的n个观察值被划分为k个互斥的分类，这样每个分类都有一个对应的实际观察次数$x _ { i } ( i = 1,2 , \\dots , k )$。研究人员会对实验中各个观察值落入第i个分类的概率$\\boldsymbol { p } _ { i }$的分布提出无效假设，从而获得了对应所有第i分类的理论期望次数$m _ { i } = n p _ { i }$以及限制条件：   \n",
    "$\\sum _ { i = 1 } ^ { k } p _ { i } = 1 以及\\sum _ { i = 1 } ^ { k } m _ { i } = \\sum _ { i = 1 } ^ { k } x _ { i } = n$    \n",
    "在上述无效假设成立以及n趋向$\\infty$的时候，以下统计量的极限分布趋向$X ^ { 2 }$分布（统计量）：    \n",
    "$X ^ { 2 } = \\sum _ { i = 1 } ^ { k } \\frac { \\left( x _ { i } - m _ { i } \\right) ^ { 2 } } { m _ { i } } = \\sum _ { i = 1 } ^ { k } \\frac { x _ { i } ^ { 2 } } { m _ { i } } - n$\n",
    "\n",
    "H0：观察频数与期望频数没有区别    \n",
    "H1：观察频数与期望频数有区别    \n",
    "检验水准：$\\alpha=0.05$   \n",
    "\n",
    "更多参考： https://towardsdatascience.com/running-chi-square-tests-in-python-with-die-roll-data-b9903817c51b"
   ]
  },
  {
   "cell_type": "code",
   "execution_count": 21,
   "metadata": {},
   "outputs": [
    {
     "name": "stdout",
     "output_type": "stream",
     "text": [
      "Power_divergenceResult(statistic=0.8620689655172413, pvalue=0.9729066489231879)\n",
      "(7.142857142857142, 0.028115659748972056, 2, array([[42., 24., 24.],\n",
      "       [28., 16., 16.]]))\n"
     ]
    }
   ],
   "source": [
    "# scipy.stats.chisquare(f_obs, f_exp=None, ddof=0, axis=0), Calculate a one-way chi square test.\n",
    "# f_exp : Expected frequencies in each category. By default the categories are assumed to be equally likely.\n",
    "obs1 = np.array([25,25,25,25,20,25])\n",
    "chi1 = stats.chisquare(obs1)\n",
    "print(chi1)\n",
    "\n",
    "# scipy.stats.chi2_contingency(observed, correction=True, lambda_=None), Chi-square test of independence of variables in a contingency table.\n",
    "obs2 = np.array([[50, 20, 20], [20, 20, 20]])\n",
    "chi2 = stats.chi2_contingency(obs2)\n",
    "print(chi2)"
   ]
  }
 ],
 "metadata": {
  "kernelspec": {
   "display_name": "Python 3",
   "language": "python",
   "name": "python3"
  },
  "language_info": {
   "codemirror_mode": {
    "name": "ipython",
    "version": 3
   },
   "file_extension": ".py",
   "mimetype": "text/x-python",
   "name": "python",
   "nbconvert_exporter": "python",
   "pygments_lexer": "ipython3",
   "version": "3.6.3"
  },
  "toc": {
   "nav_menu": {},
   "number_sections": true,
   "sideBar": true,
   "skip_h1_title": false,
   "title_cell": "Table of Contents",
   "title_sidebar": "Contents",
   "toc_cell": false,
   "toc_position": {},
   "toc_section_display": true,
   "toc_window_display": false
  }
 },
 "nbformat": 4,
 "nbformat_minor": 2
}
