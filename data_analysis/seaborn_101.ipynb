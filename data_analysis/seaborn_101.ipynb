{
 "cells": [
  {
   "cell_type": "markdown",
   "metadata": {},
   "source": [
    "** Seaborn 101 **"
   ]
  },
  {
   "cell_type": "markdown",
   "metadata": {},
   "source": [
    "### Basics"
   ]
  },
  {
   "cell_type": "markdown",
   "metadata": {},
   "source": [
    "#### import seaborn and see the version"
   ]
  },
  {
   "cell_type": "code",
   "execution_count": null,
   "metadata": {},
   "outputs": [],
   "source": [
    "import seaborn\n",
    "import numpy as np\n",
    "import pandas as pd\n",
    "import matplotlib.pyplot as plt\n",
    "import seaborn as sns\n",
    "% matplotlib inline\n",
    "\n",
    "import warnings\n",
    "warnings.filterwarnings('ignore')\n",
    "\n",
    "print(seaborn.__version__)"
   ]
  },
  {
   "cell_type": "markdown",
   "metadata": {},
   "source": [
    "#### lineplot"
   ]
  },
  {
   "cell_type": "code",
   "execution_count": null,
   "metadata": {},
   "outputs": [],
   "source": [
    "# Draw a line plot with possibility of several semantic groupings\n",
    "x = np.arange(100)\n",
    "y = x * x\n",
    "sns.lineplot(x=x, y=y)\n",
    "# remove spine of the figure\n",
    "sns.despine(left=False, right=True, top=True, bottom=False)\n",
    "plt.xticks(rotation=-45)"
   ]
  },
  {
   "cell_type": "markdown",
   "metadata": {},
   "source": [
    "#### scatter plot"
   ]
  },
  {
   "cell_type": "code",
   "execution_count": null,
   "metadata": {},
   "outputs": [],
   "source": [
    "tips = sns.load_dataset(\"tips\")\n",
    "print(tips.head())\n",
    "\n",
    "fig = plt.figure(figsize=(8,4))\n",
    "\n",
    "ax = sns.scatterplot(x=\"total_bill\", y=\"tip\", data=tips, color='blue');"
   ]
  },
  {
   "cell_type": "markdown",
   "metadata": {},
   "source": [
    "#### boxplot"
   ]
  },
  {
   "cell_type": "code",
   "execution_count": null,
   "metadata": {},
   "outputs": [],
   "source": [
    "# Draw a box plot to show distributions with respect to categories\n",
    "# boxplot的统计学意义\n",
    "# sns.boxplot(x='time', y='total_bill', hue='sex', data=tips);\n",
    "sns.boxplot(x=\"day\", y=\"total_bill\", hue=\"smoker\", data=tips, palette=\"Set3\");"
   ]
  },
  {
   "cell_type": "markdown",
   "metadata": {},
   "source": [
    "#### violinplot"
   ]
  },
  {
   "cell_type": "code",
   "execution_count": null,
   "metadata": {},
   "outputs": [],
   "source": [
    "# Draw a combination of boxplot and kernel density estimate\n",
    "fig = plt.figure(figsize=(12, 4))\n",
    "with sns.axes_style(\"white\"):\n",
    "    ax = fig.add_subplot(1, 2, 1)\n",
    "    sns.violinplot(x=\"day\", y=\"total_bill\", hue=\"smoker\", data=tips, palette=\"muted\", split=True, ax=ax)\n",
    "ax = fig.add_subplot(1, 2, 2)\n",
    "sns.violinplot(x=\"day\", y=\"total_bill\", hue=\"smoker\", data=tips, palette=\"muted\", split=True, ax=ax);"
   ]
  },
  {
   "cell_type": "markdown",
   "metadata": {},
   "source": [
    "#### swarmplot"
   ]
  },
  {
   "cell_type": "code",
   "execution_count": null,
   "metadata": {},
   "outputs": [],
   "source": [
    "# Draw a categorical scatterplot with non-overlapping points\n",
    "sns.swarmplot(x=\"day\", y=\"total_bill\", data=tips, palette='Greens', edgecolor=\"gray\");"
   ]
  },
  {
   "cell_type": "markdown",
   "metadata": {},
   "source": [
    "#### barplot"
   ]
  },
  {
   "cell_type": "code",
   "execution_count": null,
   "metadata": {},
   "outputs": [],
   "source": [
    "sns.barplot(x=\"day\", y=\"total_bill\", hue=\"sex\", data=tips, ci=95);"
   ]
  },
  {
   "cell_type": "markdown",
   "metadata": {},
   "source": [
    "#### pointplot"
   ]
  },
  {
   "cell_type": "code",
   "execution_count": null,
   "metadata": {},
   "outputs": [],
   "source": [
    "# Show point estimates and confidence intervals using scatter plot glyphs\n",
    "sns.pointplot(x=\"time\", y=\"total_bill\", hue=\"smoker\", data=tips, markers=[\"o\", \"x\"], linestyles=[\"-\", \"--\"]);"
   ]
  },
  {
   "cell_type": "markdown",
   "metadata": {},
   "source": [
    "#### relplot (introduced in 0.9.0)"
   ]
  },
  {
   "cell_type": "code",
   "execution_count": null,
   "metadata": {},
   "outputs": [],
   "source": [
    "# Figure-level interface for drawing relational plots onto a FacetGrid\n",
    "sns.relplot(x=\"total_bill\", y=\"tip\", hue=\"time\", size='size', palette=[\"b\", \"r\"], sizes=(10, 100), col=\"time\", data=tips);"
   ]
  },
  {
   "cell_type": "code",
   "execution_count": null,
   "metadata": {
    "collapsed": true
   },
   "outputs": [],
   "source": []
  },
  {
   "cell_type": "markdown",
   "metadata": {},
   "source": [
    "#### countplot"
   ]
  },
  {
   "cell_type": "code",
   "execution_count": null,
   "metadata": {},
   "outputs": [],
   "source": [
    "sns.countplot(x=\"time\", hue=\"day\", data=tips);"
   ]
  },
  {
   "cell_type": "markdown",
   "metadata": {},
   "source": [
    "#### catplot"
   ]
  },
  {
   "cell_type": "code",
   "execution_count": null,
   "metadata": {},
   "outputs": [],
   "source": [
    "# Figure-level interface for drawing categorical plots onto a FacetGrid\n",
    "sns.catplot(x=\"sex\", y='total_bill', hue=\"time\", data=tips, height=4, aspect=1.8);"
   ]
  },
  {
   "cell_type": "code",
   "execution_count": null,
   "metadata": {},
   "outputs": [],
   "source": [
    "sns.catplot(x=\"time\", y=\"total_bill\", col='sex', data=tips, kind='box', height=4, aspect=1.2);"
   ]
  },
  {
   "cell_type": "code",
   "execution_count": null,
   "metadata": {},
   "outputs": [],
   "source": [
    "sns.catplot(x=\"time\", y=\"total_bill\", col='day', col_wrap=3, data=tips, kind='box', height=4, aspect=1.0);"
   ]
  },
  {
   "cell_type": "markdown",
   "metadata": {},
   "source": [
    "#### stripplot"
   ]
  },
  {
   "cell_type": "code",
   "execution_count": null,
   "metadata": {},
   "outputs": [],
   "source": [
    "# Draw a scatterplot where one variable is categorical.\n",
    "sns.stripplot(x=\"day\", y=\"total_bill\", size=4, data=tips);"
   ]
  },
  {
   "cell_type": "markdown",
   "metadata": {},
   "source": [
    "#### plot heatmap"
   ]
  },
  {
   "cell_type": "code",
   "execution_count": null,
   "metadata": {},
   "outputs": [],
   "source": [
    "data = np.random.rand(3,3)\n",
    "print(data)\n",
    "\n",
    "sns.heatmap(data, annot=True, square=True, vmax=1.0, cmap=\"RdBu\", center=0.5);"
   ]
  },
  {
   "cell_type": "markdown",
   "metadata": {},
   "source": [
    "### Intermediate"
   ]
  },
  {
   "cell_type": "markdown",
   "metadata": {},
   "source": [
    "#### jointsplot"
   ]
  },
  {
   "cell_type": "code",
   "execution_count": null,
   "metadata": {},
   "outputs": [],
   "source": [
    "# Draw a plot of two variables with bivariate and univariate graphs\n",
    "sns.jointplot(x=\"total_bill\", y=\"tip\", data=tips, height=6, kind=\"hex\", color='red');"
   ]
  },
  {
   "cell_type": "markdown",
   "metadata": {},
   "source": [
    "#### pairplot"
   ]
  },
  {
   "cell_type": "code",
   "execution_count": null,
   "metadata": {},
   "outputs": [],
   "source": [
    "# Plot pairwise relationships in a dataset\n",
    "sns.pairplot(tips, height=3);\n",
    "sns.pairplot(tips, vars=[\"tip\", \"total_bill\"], height=3);"
   ]
  },
  {
   "cell_type": "markdown",
   "metadata": {
    "collapsed": true
   },
   "source": [
    "#### distplot"
   ]
  },
  {
   "cell_type": "code",
   "execution_count": null,
   "metadata": {},
   "outputs": [],
   "source": [
    "sns.distplot(tips['tip'], kde=False);"
   ]
  },
  {
   "cell_type": "markdown",
   "metadata": {
    "collapsed": true
   },
   "source": [
    "#### kdeplot"
   ]
  },
  {
   "cell_type": "code",
   "execution_count": null,
   "metadata": {},
   "outputs": [],
   "source": [
    "sns.kdeplot(tips.tip, shade=True, color=\"r\");"
   ]
  },
  {
   "cell_type": "markdown",
   "metadata": {
    "collapsed": true
   },
   "source": [
    "#### regplot"
   ]
  },
  {
   "cell_type": "code",
   "execution_count": null,
   "metadata": {},
   "outputs": [],
   "source": [
    "# Plot data and a linear regression model fit\n",
    "\n",
    "sns.regplot(x=\"total_bill\", y=\"tip\", data=tips, color='g', ci=95);"
   ]
  },
  {
   "cell_type": "markdown",
   "metadata": {
    "collapsed": true
   },
   "source": [
    "#### Facetplot"
   ]
  },
  {
   "cell_type": "code",
   "execution_count": null,
   "metadata": {},
   "outputs": [],
   "source": [
    "# Multi-plot grid for plotting conditional relationships\n",
    "print(tips.head(3))\n",
    "\n",
    "g = sns.FacetGrid(tips, col='time', row='smoker', height=3.5, aspect=1.2)\n",
    "# g = g.map(plt.hist, \"total_bill\");\n",
    "g = (g.map(plt.scatter, \"total_bill\", \"tip\", edgecolor=\"w\").add_legend())"
   ]
  },
  {
   "cell_type": "markdown",
   "metadata": {},
   "source": [
    "#### plot multiple columns of pandas dataframe"
   ]
  },
  {
   "cell_type": "code",
   "execution_count": null,
   "metadata": {},
   "outputs": [],
   "source": [
    "# https://stackoverflow.com/questions/44941082/plot-multiple-columns-of-pandas-dataframe-using-seaborn\n",
    "df = pd.DataFrame({'X_Axis':[1,3,5,7,10,20],\n",
    "                   'col_2':[.4,.5,.4,.5,.5,.4],\n",
    "                   'col_3':[.7,.8,.9,.4,.2,.3],\n",
    "                   'col_4':[.1,.3,.5,.7,.1,.0],\n",
    "                   'col_5':[.5,.3,.6,.9,.2,.4],\n",
    "                   'col_6':[.5,.3,.2,.7,.5,.1],\n",
    "                   'col_7':[.2,.6,.6,.8,.4,.3],\n",
    "                   'col_8':[.2,.8,.3,.5,.7,.3],\n",
    "                   'xx':[.4,.5,.2,.8,.6,.3],\n",
    "                  })\n",
    "\n",
    "print (df)\n",
    "# 有点像dataframe的groupby('X_Axis')\n",
    "df = df.melt('X_Axis', var_name='cols',  value_name='vals')\n",
    "print(df)\n",
    "g = sns.factorplot(x=\"X_Axis\", y=\"vals\", hue='cols', data=df, height=4, aspect=1.5);"
   ]
  },
  {
   "cell_type": "code",
   "execution_count": null,
   "metadata": {
    "collapsed": true
   },
   "outputs": [],
   "source": []
  }
 ],
 "metadata": {
  "kernelspec": {
   "display_name": "Python 3",
   "language": "python",
   "name": "python3"
  },
  "language_info": {
   "codemirror_mode": {
    "name": "ipython",
    "version": 3
   },
   "file_extension": ".py",
   "mimetype": "text/x-python",
   "name": "python",
   "nbconvert_exporter": "python",
   "pygments_lexer": "ipython3",
   "version": "3.6.3"
  },
  "toc": {
   "nav_menu": {},
   "number_sections": true,
   "sideBar": true,
   "skip_h1_title": true,
   "title_cell": "Table of Contents",
   "title_sidebar": "Contents",
   "toc_cell": false,
   "toc_position": {
    "height": "calc(100% - 180px)",
    "left": "10px",
    "top": "150px",
    "width": "332px"
   },
   "toc_section_display": true,
   "toc_window_display": true
  }
 },
 "nbformat": 4,
 "nbformat_minor": 2
}
