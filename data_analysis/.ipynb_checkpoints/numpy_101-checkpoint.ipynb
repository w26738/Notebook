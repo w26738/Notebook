{
 "cells": [
  {
   "cell_type": "markdown",
   "metadata": {},
   "source": [
    "### Numpy 101\n",
    "https://www.machinelearningplus.com/101-numpy-exercises-python/"
   ]
  },
  {
   "cell_type": "markdown",
   "metadata": {},
   "source": [
    "#### import numpy and see the version"
   ]
  },
  {
   "cell_type": "code",
   "execution_count": 1,
   "metadata": {},
   "outputs": [
    {
     "name": "stdout",
     "output_type": "stream",
     "text": [
      "1.13.3\n"
     ]
    }
   ],
   "source": [
    "import numpy as np\n",
    "\n",
    "print(np.__version__)"
   ]
  },
  {
   "cell_type": "markdown",
   "metadata": {},
   "source": [
    "#### create 1D array"
   ]
  },
  {
   "cell_type": "code",
   "execution_count": 2,
   "metadata": {},
   "outputs": [
    {
     "data": {
      "text/plain": [
       "array([0, 1, 2, 3, 4, 5, 6, 7, 8, 9])"
      ]
     },
     "execution_count": 2,
     "metadata": {},
     "output_type": "execute_result"
    }
   ],
   "source": [
    "np.arange(10)"
   ]
  },
  {
   "cell_type": "markdown",
   "metadata": {},
   "source": [
    "#### create a boolean array"
   ]
  },
  {
   "cell_type": "code",
   "execution_count": 3,
   "metadata": {},
   "outputs": [
    {
     "data": {
      "text/plain": [
       "array([[ True,  True,  True],\n",
       "       [ True,  True,  True],\n",
       "       [ True,  True,  True]], dtype=bool)"
      ]
     },
     "execution_count": 3,
     "metadata": {},
     "output_type": "execute_result"
    }
   ],
   "source": [
    "np.full((3,3), True)"
   ]
  },
  {
   "cell_type": "markdown",
   "metadata": {},
   "source": [
    "#### extract items that satisfy a given condition from 1D array"
   ]
  },
  {
   "cell_type": "code",
   "execution_count": 4,
   "metadata": {},
   "outputs": [
    {
     "data": {
      "text/plain": [
       "array([1, 3, 5, 7, 9])"
      ]
     },
     "execution_count": 4,
     "metadata": {},
     "output_type": "execute_result"
    }
   ],
   "source": [
    "arr = np.arange(10)\n",
    "arr[arr%2 != 0]"
   ]
  },
  {
   "cell_type": "markdown",
   "metadata": {},
   "source": [
    "#### replace items that satisfy a condition with another value in numpy array"
   ]
  },
  {
   "cell_type": "code",
   "execution_count": 5,
   "metadata": {},
   "outputs": [
    {
     "data": {
      "text/plain": [
       "array([ 0, -1,  2, -1,  4, -1,  6, -1,  8, -1])"
      ]
     },
     "execution_count": 5,
     "metadata": {},
     "output_type": "execute_result"
    }
   ],
   "source": [
    "arr = np.arange(10)\n",
    "arr[arr%2 != 0] = -1\n",
    "arr"
   ]
  },
  {
   "cell_type": "markdown",
   "metadata": {},
   "source": [
    "#### replace items that satisfy a condition without affecting the original array"
   ]
  },
  {
   "cell_type": "code",
   "execution_count": 6,
   "metadata": {},
   "outputs": [
    {
     "name": "stdout",
     "output_type": "stream",
     "text": [
      "[0 1 2 3 4 5 6 7 8 9]\n"
     ]
    },
    {
     "data": {
      "text/plain": [
       "array([ 0, -1,  2, -1,  4, -1,  6, -1,  8, -1])"
      ]
     },
     "execution_count": 6,
     "metadata": {},
     "output_type": "execute_result"
    }
   ],
   "source": [
    "arr = np.arange(10)\n",
    "out = np.where(arr%2 != 0, -1, arr)\n",
    "print(arr)\n",
    "out"
   ]
  },
  {
   "cell_type": "markdown",
   "metadata": {},
   "source": [
    "#### reshape an array"
   ]
  },
  {
   "cell_type": "code",
   "execution_count": 7,
   "metadata": {},
   "outputs": [
    {
     "data": {
      "text/plain": [
       "array([[0, 1, 2, 3, 4],\n",
       "       [5, 6, 7, 8, 9]])"
      ]
     },
     "execution_count": 7,
     "metadata": {},
     "output_type": "execute_result"
    }
   ],
   "source": [
    "arr = np.arange(10)\n",
    "arr.reshape(2,-1)"
   ]
  },
  {
   "cell_type": "markdown",
   "metadata": {},
   "source": [
    "#### stack two arrays vertically"
   ]
  },
  {
   "cell_type": "code",
   "execution_count": 8,
   "metadata": {},
   "outputs": [
    {
     "name": "stdout",
     "output_type": "stream",
     "text": [
      "[[0 1 2 3 4]\n",
      " [5 6 7 8 9]\n",
      " [1 1 1 1 1]\n",
      " [1 1 1 1 1]]\n",
      "[[0 1 2 3 4]\n",
      " [5 6 7 8 9]\n",
      " [1 1 1 1 1]\n",
      " [1 1 1 1 1]]\n",
      "[[0 1 2 3 4]\n",
      " [5 6 7 8 9]\n",
      " [1 1 1 1 1]\n",
      " [1 1 1 1 1]]\n"
     ]
    }
   ],
   "source": [
    "a = np.arange(10).reshape(2,-1)\n",
    "b = np.repeat(1,10).reshape(2,-1)\n",
    "\n",
    "print(np.vstack((a,b)))\n",
    "print(np.concatenate((a,b), axis=0))\n",
    "print(np.r_[a,b])"
   ]
  },
  {
   "cell_type": "markdown",
   "metadata": {},
   "source": [
    "#### stack two arrays horizontally"
   ]
  },
  {
   "cell_type": "code",
   "execution_count": 9,
   "metadata": {},
   "outputs": [
    {
     "name": "stdout",
     "output_type": "stream",
     "text": [
      "[[0 1 2 3 4 1 1 1 1 1]\n",
      " [5 6 7 8 9 1 1 1 1 1]]\n",
      "[[0 1 2 3 4 1 1 1 1 1]\n",
      " [5 6 7 8 9 1 1 1 1 1]]\n",
      "[[0 1 2 3 4 1 1 1 1 1]\n",
      " [5 6 7 8 9 1 1 1 1 1]]\n"
     ]
    }
   ],
   "source": [
    "a = np.arange(10).reshape(2,-1)\n",
    "b = np.repeat(1,10).reshape(2,-1)\n",
    "\n",
    "print(np.hstack((a,b)))\n",
    "print(np.concatenate((a,b), axis=1))\n",
    "print(np.c_[a,b])"
   ]
  },
  {
   "cell_type": "markdown",
   "metadata": {},
   "source": [
    "#### generate custom sequences in numpy without hardcoding"
   ]
  },
  {
   "cell_type": "code",
   "execution_count": 10,
   "metadata": {},
   "outputs": [
    {
     "data": {
      "text/plain": [
       "array([1, 1, 1, 2, 2, 2, 3, 3, 3, 1, 2, 3, 1, 2, 3, 1, 2, 3])"
      ]
     },
     "execution_count": 10,
     "metadata": {},
     "output_type": "execute_result"
    }
   ],
   "source": [
    "a = np.array([1,2,3])\n",
    "\n",
    "np.r_[np.repeat(a,3), np.tile(a,3)]"
   ]
  },
  {
   "cell_type": "markdown",
   "metadata": {},
   "source": [
    "#### get the common items between two python numpy arrays"
   ]
  },
  {
   "cell_type": "code",
   "execution_count": 11,
   "metadata": {},
   "outputs": [
    {
     "data": {
      "text/plain": [
       "array([2, 4])"
      ]
     },
     "execution_count": 11,
     "metadata": {},
     "output_type": "execute_result"
    }
   ],
   "source": [
    "a = np.array([1,2,3,2,3,4,3,4,5,6])\n",
    "b = np.array([7,2,10,2,7,4,9,4,9,8])\n",
    "\n",
    "np.intersect1d(a,b)"
   ]
  },
  {
   "cell_type": "markdown",
   "metadata": {},
   "source": [
    "#### remove from one array those items that exist in another"
   ]
  },
  {
   "cell_type": "code",
   "execution_count": 12,
   "metadata": {},
   "outputs": [
    {
     "name": "stdout",
     "output_type": "stream",
     "text": [
      "[1 2 3 4]\n",
      "[1 2 3 4]\n"
     ]
    }
   ],
   "source": [
    "a = np.array([1,2,3,4,5])\n",
    "b = np.array([5,6,7,8,9])\n",
    "\n",
    "print(np.intersect1d(a,np.setxor1d(a,b)))\n",
    "print(np.setdiff1d(a,b))"
   ]
  },
  {
   "cell_type": "markdown",
   "metadata": {},
   "source": [
    "#### get the positions where elements of two arrays match"
   ]
  },
  {
   "cell_type": "code",
   "execution_count": 13,
   "metadata": {},
   "outputs": [
    {
     "data": {
      "text/plain": [
       "(array([1, 3, 5, 7], dtype=int64),)"
      ]
     },
     "execution_count": 13,
     "metadata": {},
     "output_type": "execute_result"
    }
   ],
   "source": [
    "a = np.array([1,2,3,2,3,4,3,4,5,6])\n",
    "b = np.array([7,2,10,2,7,4,9,4,9,8])\n",
    "\n",
    "np.where(a==b)"
   ]
  },
  {
   "cell_type": "markdown",
   "metadata": {},
   "source": [
    "#### extract all numbers between a given range from a numpy array"
   ]
  },
  {
   "cell_type": "code",
   "execution_count": 14,
   "metadata": {},
   "outputs": [
    {
     "data": {
      "text/plain": [
       "array([ 5,  6,  7,  8,  9, 10])"
      ]
     },
     "execution_count": 14,
     "metadata": {},
     "output_type": "execute_result"
    }
   ],
   "source": [
    "a = np.arange(15)\n",
    "\n",
    "a[(a>=5) & (a<=10)]"
   ]
  },
  {
   "cell_type": "markdown",
   "metadata": {},
   "source": [
    "#### make a python function that handles scalars to work on numpy arrays"
   ]
  },
  {
   "cell_type": "code",
   "execution_count": 15,
   "metadata": {},
   "outputs": [
    {
     "name": "stdout",
     "output_type": "stream",
     "text": [
      "[6, 7, 9, 8, 9, 7, 5]\n"
     ]
    },
    {
     "data": {
      "text/plain": [
       "array([ 6.,  7.,  9.,  8.,  9.,  7.,  5.])"
      ]
     },
     "execution_count": 15,
     "metadata": {},
     "output_type": "execute_result"
    }
   ],
   "source": [
    "def maxx(x, y):\n",
    "    \"\"\"Get the maximum of two items\"\"\"\n",
    "    if x >= y:\n",
    "        return x\n",
    "    else:\n",
    "        return y\n",
    "\n",
    "a = np.array([5, 7, 9, 8, 6, 4, 5])\n",
    "b = np.array([6, 3, 4, 8, 9, 7, 1])\n",
    "\n",
    "print(list(map(maxx,a,b)))\n",
    "np.vectorize(maxx, otypes=[float])(a,b)\n"
   ]
  },
  {
   "cell_type": "markdown",
   "metadata": {},
   "source": [
    "#### swap two columns in a 2d numpy array"
   ]
  },
  {
   "cell_type": "code",
   "execution_count": 16,
   "metadata": {},
   "outputs": [
    {
     "name": "stdout",
     "output_type": "stream",
     "text": [
      "[[0 1 2]\n",
      " [3 4 5]\n",
      " [6 7 8]]\n"
     ]
    },
    {
     "data": {
      "text/plain": [
       "array([[1, 0, 2],\n",
       "       [4, 3, 5],\n",
       "       [7, 6, 8]])"
      ]
     },
     "execution_count": 16,
     "metadata": {},
     "output_type": "execute_result"
    }
   ],
   "source": [
    "arr = np.arange(9).reshape(3,3)\n",
    "print(arr)\n",
    "\n",
    "arr[:, [1,0,2]]"
   ]
  },
  {
   "cell_type": "markdown",
   "metadata": {},
   "source": [
    "#### swap two rows in a 2d numpy array"
   ]
  },
  {
   "cell_type": "code",
   "execution_count": 17,
   "metadata": {},
   "outputs": [
    {
     "name": "stdout",
     "output_type": "stream",
     "text": [
      "[[0 1 2]\n",
      " [3 4 5]\n",
      " [6 7 8]]\n"
     ]
    },
    {
     "data": {
      "text/plain": [
       "array([[3, 4, 5],\n",
       "       [0, 1, 2],\n",
       "       [6, 7, 8]])"
      ]
     },
     "execution_count": 17,
     "metadata": {},
     "output_type": "execute_result"
    }
   ],
   "source": [
    "arr = np.arange(9).reshape(3,3)\n",
    "print(arr)\n",
    "\n",
    "arr[[1,0,2], :]"
   ]
  },
  {
   "cell_type": "markdown",
   "metadata": {},
   "source": [
    "#### reverse the rows of a 2D array"
   ]
  },
  {
   "cell_type": "code",
   "execution_count": 18,
   "metadata": {},
   "outputs": [
    {
     "data": {
      "text/plain": [
       "array([[6, 7, 8],\n",
       "       [3, 4, 5],\n",
       "       [0, 1, 2]])"
      ]
     },
     "execution_count": 18,
     "metadata": {},
     "output_type": "execute_result"
    }
   ],
   "source": [
    "arr = np.arange(9).reshape(3,3)\n",
    "\n",
    "arr[::-1,:]"
   ]
  },
  {
   "cell_type": "markdown",
   "metadata": {},
   "source": [
    "#### reverse the columns of a 2D array"
   ]
  },
  {
   "cell_type": "code",
   "execution_count": 19,
   "metadata": {},
   "outputs": [
    {
     "data": {
      "text/plain": [
       "array([[2, 1, 0],\n",
       "       [5, 4, 3],\n",
       "       [8, 7, 6]])"
      ]
     },
     "execution_count": 19,
     "metadata": {},
     "output_type": "execute_result"
    }
   ],
   "source": [
    "arr = np.arange(9).reshape(3,3)\n",
    "\n",
    "arr[:,::-1]"
   ]
  },
  {
   "cell_type": "markdown",
   "metadata": {},
   "source": [
    "#### create a 2D array containing random floats between 5 and 10"
   ]
  },
  {
   "cell_type": "code",
   "execution_count": 20,
   "metadata": {},
   "outputs": [
    {
     "data": {
      "text/plain": [
       "array([[ 8.48024419,  6.1461809 ,  9.28665464],\n",
       "       [ 7.4036986 ,  8.66272296,  8.68395803],\n",
       "       [ 6.82659655,  8.42415717,  6.23769006],\n",
       "       [ 7.1444372 ,  5.44986867,  8.08754185],\n",
       "       [ 9.25117311,  8.02052598,  8.86475471]])"
      ]
     },
     "execution_count": 20,
     "metadata": {},
     "output_type": "execute_result"
    }
   ],
   "source": [
    "np.random.uniform(5,10,(5,3))"
   ]
  },
  {
   "cell_type": "markdown",
   "metadata": {},
   "source": [
    "#### print only 3 decimal places in python numpy array"
   ]
  },
  {
   "cell_type": "code",
   "execution_count": 21,
   "metadata": {},
   "outputs": [
    {
     "name": "stdout",
     "output_type": "stream",
     "text": [
      "[[ 0.047  0.294  0.887]\n",
      " [ 0.143  0.211  0.048]\n",
      " [ 0.45   0.993  0.18 ]\n",
      " [ 0.455  0.707  0.832]\n",
      " [ 0.373  0.856  0.167]]\n"
     ]
    }
   ],
   "source": [
    "rand_arr = np.random.random((5,3))\n",
    "\n",
    "np.set_printoptions(3)\n",
    "print(rand_arr)"
   ]
  },
  {
   "cell_type": "markdown",
   "metadata": {},
   "source": [
    "#### pretty print a numpy array by suppressing the scientific notation (like 1e10)"
   ]
  },
  {
   "cell_type": "code",
   "execution_count": 22,
   "metadata": {},
   "outputs": [
    {
     "name": "stdout",
     "output_type": "stream",
     "text": [
      "[[  5.434e-04   2.784e-04   4.245e-04]\n",
      " [  8.448e-04   4.719e-06   1.216e-04]\n",
      " [  6.707e-04   8.259e-04   1.367e-04]]\n"
     ]
    }
   ],
   "source": [
    "np.random.seed(100)\n",
    "rand_arr = np.random.random([3,3])/1e3\n",
    "print(rand_arr)\n",
    "\n",
    "np.set_printoptions(suppress=True, precision=6)"
   ]
  },
  {
   "cell_type": "markdown",
   "metadata": {},
   "source": [
    "#### limit the number of items printed in output of numpy array"
   ]
  },
  {
   "cell_type": "code",
   "execution_count": 23,
   "metadata": {},
   "outputs": [
    {
     "name": "stdout",
     "output_type": "stream",
     "text": [
      "[ 0  1  2 ..., 12 13 14]\n"
     ]
    }
   ],
   "source": [
    "a = np.arange(15)\n",
    "\n",
    "np.set_printoptions(threshold=6)\n",
    "print(a)"
   ]
  },
  {
   "cell_type": "markdown",
   "metadata": {},
   "source": [
    "#### print the full numpy array without truncating"
   ]
  },
  {
   "cell_type": "code",
   "execution_count": 24,
   "metadata": {},
   "outputs": [
    {
     "data": {
      "text/plain": [
       "array([ 0,  1,  2,  3,  4,  5,  6,  7,  8,  9, 10, 11, 12, 13, 14])"
      ]
     },
     "execution_count": 24,
     "metadata": {},
     "output_type": "execute_result"
    }
   ],
   "source": [
    "np.set_printoptions(threshold=6)\n",
    "a = np.arange(15)\n",
    "\n",
    "np.set_printoptions(threshold=np.nan)\n",
    "a"
   ]
  },
  {
   "cell_type": "markdown",
   "metadata": {},
   "source": [
    "#### import a dataset with numbers and texts keeping the text intact in python numpy"
   ]
  },
  {
   "cell_type": "code",
   "execution_count": 25,
   "metadata": {},
   "outputs": [
    {
     "data": {
      "text/plain": [
       "array([[b'5.1', b'3.5', b'1.4', b'0.2', b'Iris-setosa'],\n",
       "       [b'4.9', b'3.0', b'1.4', b'0.2', b'Iris-setosa'],\n",
       "       [b'4.7', b'3.2', b'1.3', b'0.2', b'Iris-setosa']], dtype=object)"
      ]
     },
     "execution_count": 25,
     "metadata": {},
     "output_type": "execute_result"
    }
   ],
   "source": [
    "# url = 'https://archive.ics.uci.edu/ml/machine-learning-databases/iris/iris.data'\n",
    "iris = np.genfromtxt('iris.data.txt', delimiter=',', dtype='object')\n",
    "iris[:3]"
   ]
  },
  {
   "cell_type": "markdown",
   "metadata": {},
   "source": [
    "#### extract a particular column from 1D array of tuples"
   ]
  },
  {
   "cell_type": "code",
   "execution_count": 26,
   "metadata": {},
   "outputs": [
    {
     "data": {
      "text/plain": [
       "array([b'Iris-setosa', b'Iris-setosa', b'Iris-setosa', b'Iris-setosa',\n",
       "       b'Iris-setosa'],\n",
       "      dtype='|S18')"
      ]
     },
     "execution_count": 26,
     "metadata": {},
     "output_type": "execute_result"
    }
   ],
   "source": [
    "iris_1d = np.genfromtxt('iris.data.txt', delimiter=',', dtype=None)\n",
    "\n",
    "species = np.array([row[4] for row in iris_1d])\n",
    "species[:5]"
   ]
  },
  {
   "cell_type": "markdown",
   "metadata": {},
   "source": [
    "#### convert a 1d array of tuples to a 2d numpy array"
   ]
  },
  {
   "cell_type": "code",
   "execution_count": 27,
   "metadata": {},
   "outputs": [
    {
     "name": "stdout",
     "output_type": "stream",
     "text": [
      "(150,)\n",
      "1\n",
      "<class 'numpy.ndarray'>\n",
      "[( 5.1,  3.5,  1.4,  0.2, b'Iris-setosa')\n",
      " ( 4.9,  3. ,  1.4,  0.2, b'Iris-setosa')\n",
      " ( 4.7,  3.2,  1.3,  0.2, b'Iris-setosa')\n",
      " ( 4.6,  3.1,  1.5,  0.2, b'Iris-setosa')]\n",
      "<class 'numpy.void'>\n",
      "(150, 4)\n",
      "2\n",
      "<class 'numpy.ndarray'>\n"
     ]
    },
    {
     "data": {
      "text/plain": [
       "array([[ 5.1,  3.5,  1.4,  0.2],\n",
       "       [ 4.9,  3. ,  1.4,  0.2],\n",
       "       [ 4.7,  3.2,  1.3,  0.2],\n",
       "       [ 4.6,  3.1,  1.5,  0.2]])"
      ]
     },
     "execution_count": 27,
     "metadata": {},
     "output_type": "execute_result"
    }
   ],
   "source": [
    "iris_1d = np.genfromtxt('iris.data.txt', delimiter=',', dtype=None)\n",
    "print(iris_1d.shape)\n",
    "print(iris_1d.ndim)\n",
    "print(type(iris_1d))\n",
    "print(iris_1d[:4])\n",
    "print(type(iris_1d[0]))\n",
    "\n",
    "iris_2d = np.array([row.tolist()[:4] for row in iris_1d])\n",
    "print(iris_2d.shape)\n",
    "print(iris_2d.ndim)\n",
    "print(type(iris_2d))\n",
    "iris_2d[:4]"
   ]
  },
  {
   "cell_type": "code",
   "execution_count": 45,
   "metadata": {},
   "outputs": [
    {
     "name": "stdout",
     "output_type": "stream",
     "text": [
      "<class 'numpy.void'>\n",
      "(2,)\n",
      "<class 'numpy.ndarray'>\n",
      "(2, 2)\n",
      "[( 5.1,  3.5,  1.4,  0.2, b'Iris-setosa')\n",
      " ( 4.9,  3. ,  1.4,  0.2, b'Iris-setosa')\n",
      " ( 4.7,  3.2,  1.3,  0.2, b'Iris-setosa')\n",
      " ( 4.6,  3.1,  1.5,  0.2, b'Iris-setosa')\n",
      " ( 5. ,  3.6,  1.4,  0.2, b'Iris-setosa')]\n",
      "(150,)\n",
      "[[b'5.1' b'3.5' b'1.4' b'0.2' b'Iris-setosa']\n",
      " [b'4.9' b'3.0' b'1.4' b'0.2' b'Iris-setosa']\n",
      " [b'4.7' b'3.2' b'1.3' b'0.2' b'Iris-setosa']\n",
      " [b'4.6' b'3.1' b'1.5' b'0.2' b'Iris-setosa']\n",
      " [b'5.0' b'3.6' b'1.4' b'0.2' b'Iris-setosa']]\n",
      "(150, 5)\n"
     ]
    }
   ],
   "source": [
    "# Note: The different processing for different dtype\n",
    "# https://stackoverflow.com/questions/25247190/numpy-void-type-how-to-use-it\n",
    "dt = np.dtype([('num',np.int),('name',np.str)])\n",
    "arr1 = np.array([(1,'4'),(5,'8')], dtype=dt)\n",
    "print(type(arr1[0]))\n",
    "print(arr1.shape)\n",
    "\n",
    "arr2 = np.array([(1,'4'),(5,'8')], dtype=None)\n",
    "print(type(arr2[0]))\n",
    "print(arr2.shape)\n",
    "\n",
    "iris_1d = np.genfromtxt('iris.data.txt', delimiter=',', dtype=None)\n",
    "print(iris_1d[:5])\n",
    "print(iris_1d.shape)\n",
    "iris_2d = np.genfromtxt('iris.data.txt', delimiter=',', dtype='object')\n",
    "print(iris_2d[:5])\n",
    "print(iris_2d.shape)"
   ]
  },
  {
   "cell_type": "markdown",
   "metadata": {},
   "source": [
    "#### compute the mean, median, standard deviation of a numpy array"
   ]
  },
  {
   "cell_type": "code",
   "execution_count": 33,
   "metadata": {},
   "outputs": [
    {
     "name": "stdout",
     "output_type": "stream",
     "text": [
      "5.84333333333 5.8 0.825301291785\n"
     ]
    }
   ],
   "source": [
    "iris = np.genfromtxt('iris.data.txt', delimiter=',', dtype='object')\n",
    "sepallength = np.array([row.tolist()[0] for row in iris], dtype='float')\n",
    "\n",
    "mu, med, sd = np.mean(sepallength), np.median(sepallength), np.std(sepallength)\n",
    "print(mu, med, sd)"
   ]
  },
  {
   "cell_type": "markdown",
   "metadata": {},
   "source": [
    "#### normalize an array so the values range exactly between 0 and 1"
   ]
  },
  {
   "cell_type": "code",
   "execution_count": 37,
   "metadata": {},
   "outputs": [
    {
     "data": {
      "text/plain": [
       "array([ 0.222222,  0.166667,  0.111111,  0.083333,  0.194444,  0.305556,\n",
       "        0.083333,  0.194444,  0.027778,  0.166667,  0.305556,  0.138889,\n",
       "        0.138889,  0.      ,  0.416667,  0.388889,  0.305556,  0.222222,\n",
       "        0.388889,  0.222222,  0.305556,  0.222222,  0.083333,  0.222222,\n",
       "        0.138889,  0.194444,  0.194444,  0.25    ,  0.25    ,  0.111111,\n",
       "        0.138889,  0.305556,  0.25    ,  0.333333,  0.166667,  0.194444,\n",
       "        0.333333,  0.166667,  0.027778,  0.222222,  0.194444,  0.055556,\n",
       "        0.027778,  0.194444,  0.222222,  0.138889,  0.222222,  0.083333,\n",
       "        0.277778,  0.194444,  0.75    ,  0.583333,  0.722222,  0.333333,\n",
       "        0.611111,  0.388889,  0.555556,  0.166667,  0.638889,  0.25    ,\n",
       "        0.194444,  0.444444,  0.472222,  0.5     ,  0.361111,  0.666667,\n",
       "        0.361111,  0.416667,  0.527778,  0.361111,  0.444444,  0.5     ,\n",
       "        0.555556,  0.5     ,  0.583333,  0.638889,  0.694444,  0.666667,\n",
       "        0.472222,  0.388889,  0.333333,  0.333333,  0.416667,  0.472222,\n",
       "        0.305556,  0.472222,  0.666667,  0.555556,  0.361111,  0.333333,\n",
       "        0.333333,  0.5     ,  0.416667,  0.194444,  0.361111,  0.388889,\n",
       "        0.388889,  0.527778,  0.222222,  0.388889,  0.555556,  0.416667,\n",
       "        0.777778,  0.555556,  0.611111,  0.916667,  0.166667,  0.833333,\n",
       "        0.666667,  0.805556,  0.611111,  0.583333,  0.694444,  0.388889,\n",
       "        0.416667,  0.583333,  0.611111,  0.944444,  0.944444,  0.472222,\n",
       "        0.722222,  0.361111,  0.944444,  0.555556,  0.666667,  0.805556,\n",
       "        0.527778,  0.5     ,  0.583333,  0.805556,  0.861111,  1.      ,\n",
       "        0.583333,  0.555556,  0.5     ,  0.944444,  0.555556,  0.583333,\n",
       "        0.472222,  0.722222,  0.666667,  0.722222,  0.416667,  0.694444,\n",
       "        0.666667,  0.666667,  0.555556,  0.611111,  0.527778,  0.444444])"
      ]
     },
     "execution_count": 37,
     "metadata": {},
     "output_type": "execute_result"
    }
   ],
   "source": [
    "iris = np.genfromtxt('iris.data.txt', delimiter=',', dtype='object')\n",
    "sepallength = np.array([row.tolist()[0] for row in iris], dtype='float')\n",
    "\n",
    "smax, smin = np.max(sepallength), np.min(sepallength)\n",
    "s = (sepallength - smin) / (smax - smin)\n",
    "s"
   ]
  },
  {
   "cell_type": "markdown",
   "metadata": {},
   "source": [
    "#### compute the softmax score"
   ]
  },
  {
   "cell_type": "code",
   "execution_count": 38,
   "metadata": {},
   "outputs": [
    {
     "data": {
      "text/plain": [
       "array([ 0.00222 ,  0.001817,  0.001488,  0.001346,  0.002008,  0.002996,\n",
       "        0.001346,  0.002008,  0.001102,  0.001817,  0.002996,  0.001644,\n",
       "        0.001644,  0.000997,  0.00447 ,  0.004044,  0.002996,  0.00222 ,\n",
       "        0.004044,  0.00222 ,  0.002996,  0.00222 ,  0.001346,  0.00222 ,\n",
       "        0.001644,  0.002008,  0.002008,  0.002453,  0.002453,  0.001488,\n",
       "        0.001644,  0.002996,  0.002453,  0.003311,  0.001817,  0.002008,\n",
       "        0.003311,  0.001817,  0.001102,  0.00222 ,  0.002008,  0.001218,\n",
       "        0.001102,  0.002008,  0.00222 ,  0.001644,  0.00222 ,  0.001346,\n",
       "        0.002711,  0.002008,  0.01484 ,  0.008144,  0.013428,  0.003311,\n",
       "        0.009001,  0.004044,  0.007369,  0.001817,  0.009947,  0.002453,\n",
       "        0.002008,  0.00494 ,  0.005459,  0.006033,  0.003659,  0.010994,\n",
       "        0.003659,  0.00447 ,  0.006668,  0.003659,  0.00494 ,  0.006033,\n",
       "        0.007369,  0.006033,  0.008144,  0.009947,  0.01215 ,  0.010994,\n",
       "        0.005459,  0.004044,  0.003311,  0.003311,  0.00447 ,  0.005459,\n",
       "        0.002996,  0.005459,  0.010994,  0.007369,  0.003659,  0.003311,\n",
       "        0.003311,  0.006033,  0.00447 ,  0.002008,  0.003659,  0.004044,\n",
       "        0.004044,  0.006668,  0.00222 ,  0.004044,  0.007369,  0.00447 ,\n",
       "        0.016401,  0.007369,  0.009001,  0.02704 ,  0.001817,  0.020032,\n",
       "        0.010994,  0.018126,  0.009001,  0.008144,  0.01215 ,  0.004044,\n",
       "        0.00447 ,  0.008144,  0.009001,  0.029884,  0.029884,  0.005459,\n",
       "        0.013428,  0.003659,  0.029884,  0.007369,  0.010994,  0.018126,\n",
       "        0.006668,  0.006033,  0.008144,  0.018126,  0.022139,  0.0365  ,\n",
       "        0.008144,  0.007369,  0.006033,  0.029884,  0.007369,  0.008144,\n",
       "        0.005459,  0.013428,  0.010994,  0.013428,  0.00447 ,  0.01215 ,\n",
       "        0.010994,  0.010994,  0.007369,  0.009001,  0.006668,  0.00494 ])"
      ]
     },
     "execution_count": 38,
     "metadata": {},
     "output_type": "execute_result"
    }
   ],
   "source": [
    "iris = np.genfromtxt('iris.data.txt', delimiter=',', dtype='object')\n",
    "sepallength = np.array([row.tolist()[0] for row in iris], dtype='float')\n",
    "\n",
    "def softmax(x):\n",
    "    return np.exp(x)/np.sum(np.exp(x), axis=0)\n",
    "\n",
    "softmax(sepallength)"
   ]
  },
  {
   "cell_type": "markdown",
   "metadata": {},
   "source": [
    "#### find the percentile scores of a numpy array"
   ]
  },
  {
   "cell_type": "code",
   "execution_count": 41,
   "metadata": {},
   "outputs": [
    {
     "data": {
      "text/plain": [
       "array([ 4.6  ,  7.255])"
      ]
     },
     "execution_count": 41,
     "metadata": {},
     "output_type": "execute_result"
    }
   ],
   "source": [
    "iris = np.genfromtxt('iris.data.txt', delimiter=',', dtype='object')\n",
    "sepallength = np.array([row.tolist()[0] for row in iris], dtype='float')\n",
    "\n",
    "np.percentile(sepallength,q=[5, 95])"
   ]
  },
  {
   "cell_type": "markdown",
   "metadata": {},
   "source": [
    "#### insert values at random positions in an array"
   ]
  },
  {
   "cell_type": "code",
   "execution_count": 44,
   "metadata": {},
   "outputs": [
    {
     "data": {
      "text/plain": [
       "(150,)"
      ]
     },
     "execution_count": 44,
     "metadata": {},
     "output_type": "execute_result"
    }
   ],
   "source": [
    "iris_2d = np.genfromtxt('iris.data.txt', delimiter=',', dtype='object')\n",
    "\n",
    "iris_2d.shape"
   ]
  },
  {
   "cell_type": "code",
   "execution_count": null,
   "metadata": {
    "collapsed": true
   },
   "outputs": [],
   "source": []
  }
 ],
 "metadata": {
  "kernelspec": {
   "display_name": "Python 3",
   "language": "python",
   "name": "python3"
  },
  "language_info": {
   "codemirror_mode": {
    "name": "ipython",
    "version": 3
   },
   "file_extension": ".py",
   "mimetype": "text/x-python",
   "name": "python",
   "nbconvert_exporter": "python",
   "pygments_lexer": "ipython3",
   "version": "3.6.3"
  },
  "toc": {
   "nav_menu": {},
   "number_sections": true,
   "sideBar": true,
   "skip_h1_title": false,
   "title_cell": "Table of Contents",
   "title_sidebar": "Contents",
   "toc_cell": false,
   "toc_position": {},
   "toc_section_display": true,
   "toc_window_display": false
  }
 },
 "nbformat": 4,
 "nbformat_minor": 2
}
