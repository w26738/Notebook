{
 "cells": [
  {
   "cell_type": "markdown",
   "metadata": {},
   "source": [
    "# 时间序列分析\n",
    "\n",
    "**参考**：   \n",
    "1. Wes McKinney, Python for Data Analysis, 2017\n",
    "2. https://www.cnblogs.com/foley/p/5582358.html   \n",
    "3. 王燕，应用时间序列分析"
   ]
  },
  {
   "cell_type": "markdown",
   "metadata": {},
   "source": [
    "### Pandas处理时间序列"
   ]
  },
  {
   "cell_type": "code",
   "execution_count": 1,
   "metadata": {
    "collapsed": true
   },
   "outputs": [],
   "source": [
    "from datetime import datetime\n",
    "import numpy as np\n",
    "import pandas as pd\n",
    "from scipy import stats\n",
    "import matplotlib.pyplot as plt\n",
    "import seaborn as sns\n",
    "\n",
    "%matplotlib inline"
   ]
  },
  {
   "cell_type": "markdown",
   "metadata": {},
   "source": [
    "#### 日期和时间数据类型转换"
   ]
  },
  {
   "cell_type": "markdown",
   "metadata": {},
   "source": [
    "**DateTime格式定义**：  \n",
    "%Y Four-digit year  \n",
    "%y Two-digit year  \n",
    "%m Two-digit month [01, 12]  \n",
    "%d Two-digit day [01, 31]   \n",
    "%H Hour (24-hour clock) [00, 23]   \n",
    "%I Hour (12-hour clock) [01, 12]     \n",
    "%M Two-digit minute [00, 59]   \n",
    "%S Second [00, 61] (seconds 60, 61 account for leap seconds)   \n",
    "%w Weekday as integer [0 (Sunday), 6]   \n",
    "%U Week number of the year [00, 53]; Sunday is considered the first day of the week, and days before the first Sunday of the year are “week 0”    \n",
    "%W Week number of the year [00, 53]; Monday is considered the first day of the week, and days before the first Monday of the year are “week 0”    \n",
    "%z UTC time zone offset as +HHMM or -HHMM; empty if time zone naive    \n",
    "%F Shortcut for %Y-%m-%d (e.g., 2012-4-18)    \n",
    "%D Shortcut for %m/%d/%y (e.g., 04/18/12)   \n",
    "\n",
    "**特定日期格式**   \n",
    "%a Abbreviated weekday name   \n",
    "%A Full weekday name   \n",
    "%b Abbreviated month name    \n",
    "%B Full month name    \n",
    "%c Full date and time (e.g., ‘Tue 01 May 2012 04:20:57 PM’)    \n",
    "%p Locale equivalent of AM or PM   \n",
    "%x Locale-appropriate formatted date (e.g., in the United States, May 1, 2012 yields ’05/01/2012’) \n",
    "%X Locale-appropriate time (e.g., ’04:24:12 PM’)    "
   ]
  },
  {
   "cell_type": "code",
   "execution_count": 2,
   "metadata": {},
   "outputs": [
    {
     "name": "stdout",
     "output_type": "stream",
     "text": [
      "<class 'datetime.datetime'> 2018-01-01 12:01:10\n",
      "2018-01-01 12:01:10\n",
      "2018-01-01 \n",
      "\n",
      "<class 'datetime.datetime'> 2019-01-03 00:00:00 \n",
      "\n",
      "<class 'datetime.datetime'> 1900-01-01 12:10:10 \n",
      "\n"
     ]
    },
    {
     "data": {
      "text/plain": [
       "DatetimeIndex(['2018-07-16', '2018-12-30'], dtype='datetime64[ns]', freq=None)"
      ]
     },
     "execution_count": 2,
     "metadata": {},
     "output_type": "execute_result"
    }
   ],
   "source": [
    "# 日期和字符串间的转化\n",
    "stamp = datetime(2018, 1, 1, 12, 1, 10)\n",
    "print(type(stamp), stamp)\n",
    "print(str(stamp))\n",
    "print(stamp.strftime('%Y-%m-%d'), '\\n')\n",
    "\n",
    "datestr = '2019-01-03'\n",
    "date = datetime.strptime(datestr, '%Y-%m-%d')\n",
    "print(type(date), date, '\\n')\n",
    "\n",
    "timestr = '12:10:10'\n",
    "time = datetime.strptime(timestr, '%H:%M:%S')\n",
    "print(type(time), time, '\\n')\n",
    "\n",
    "datestrs = ['7/16/2018', '12/30/2018']\n",
    "pd.to_datetime(datestrs)"
   ]
  },
  {
   "cell_type": "markdown",
   "metadata": {},
   "source": [
    "#### 时间序列基础"
   ]
  },
  {
   "cell_type": "code",
   "execution_count": 3,
   "metadata": {},
   "outputs": [
    {
     "name": "stdout",
     "output_type": "stream",
     "text": [
      "2019-01-02    1.321652\n",
      "2018-01-05    0.040640\n",
      "2017-01-07    1.171260\n",
      "2019-01-08   -2.601232\n",
      "2018-01-10    0.809084\n",
      "2017-01-12   -1.652322\n",
      "dtype: float64\n",
      "DatetimeIndex(['2019-01-02', '2018-01-05', '2017-01-07', '2019-01-08',\n",
      "               '2018-01-10', '2017-01-12'],\n",
      "              dtype='datetime64[ns]', freq=None)\n",
      "2018-01-05    0.04064\n",
      "dtype: float64 2017-01-07    1.17126\n",
      "dtype: float64\n",
      "1.17126025335069\n",
      "2019-01-02    1.321652\n",
      "2017-01-07    1.171260\n",
      "2018-01-10    0.809084\n",
      "dtype: float64\n"
     ]
    }
   ],
   "source": [
    "dates = [datetime(2019, 1, 2), datetime(2018, 1, 5), datetime(2017, 1, 7), \n",
    "         datetime(2019, 1, 8), datetime(2018, 1, 10), datetime(2017, 1, 12)]\n",
    "\n",
    "ts = pd.Series(np.random.randn(6), index=dates)\n",
    "print(ts)\n",
    "print(ts.index)\n",
    "# 选择\n",
    "print(ts['20180105'], ts['2017-01-7'])\n",
    "print(ts[ts.index[2]])\n",
    "# 切片\n",
    "print(ts[::2])"
   ]
  },
  {
   "cell_type": "markdown",
   "metadata": {},
   "source": [
    "#### 日期范围、频率和移动"
   ]
  },
  {
   "cell_type": "code",
   "execution_count": 4,
   "metadata": {},
   "outputs": [
    {
     "name": "stdout",
     "output_type": "stream",
     "text": [
      "DatetimeIndex(['2018-04-01', '2018-04-02', '2018-04-03', '2018-04-04',\n",
      "               '2018-04-05', '2018-04-06', '2018-04-07', '2018-04-08',\n",
      "               '2018-04-09', '2018-04-10',\n",
      "               ...\n",
      "               '2018-12-23', '2018-12-24', '2018-12-25', '2018-12-26',\n",
      "               '2018-12-27', '2018-12-28', '2018-12-29', '2018-12-30',\n",
      "               '2018-12-31', '2019-01-01'],\n",
      "              dtype='datetime64[ns]', length=276, freq='D') \n",
      " DatetimeIndex(['2018-04-01', '2018-04-02', '2018-04-03', '2018-04-04',\n",
      "               '2018-04-05', '2018-04-06', '2018-04-07', '2018-04-08',\n",
      "               '2018-04-09', '2018-04-10', '2018-04-11', '2018-04-12',\n",
      "               '2018-04-13', '2018-04-14', '2018-04-15', '2018-04-16',\n",
      "               '2018-04-17', '2018-04-18', '2018-04-19', '2018-04-20'],\n",
      "              dtype='datetime64[ns]', freq='D') \n",
      " DatetimeIndex(['2019-01-01', '2019-01-02', '2019-01-03', '2019-01-04',\n",
      "               '2019-01-05', '2019-01-06', '2019-01-07', '2019-01-08',\n",
      "               '2019-01-09', '2019-01-10', '2019-01-11', '2019-01-12',\n",
      "               '2019-01-13', '2019-01-14', '2019-01-15', '2019-01-16',\n",
      "               '2019-01-17', '2019-01-18', '2019-01-19', '2019-01-20'],\n",
      "              dtype='datetime64[ns]', freq='D') \n",
      " DatetimeIndex(['2012-05-02 12:56:31', '2012-05-03 12:56:31',\n",
      "               '2012-05-04 12:56:31', '2012-05-05 12:56:31',\n",
      "               '2012-05-06 12:56:31'],\n",
      "              dtype='datetime64[ns]', freq='D')\n"
     ]
    }
   ],
   "source": [
    "index1 = pd.date_range('2018-04-01', '2019-01-01')\n",
    "index2 = pd.date_range(start='2018-04-01', periods=20)\n",
    "index3 = pd.date_range(start='2019-01-01', periods=20)\n",
    "index4 = pd.date_range('2012-05-02 12:56:31', periods=5)\n",
    "print(index1, '\\n', index2, '\\n', index3, '\\n', index4)"
   ]
  },
  {
   "cell_type": "markdown",
   "metadata": {},
   "source": [
    "**基本时间序列频率**   \n",
    "D Day Calendar daily   \n",
    "B BusinessDay Business daily   \n",
    "H Hour Hourly   \n",
    "T or min Minute Minutely   \n",
    "S Second Secondly   \n",
    "L or ms Milli Millisecond (1/1,000 of 1 second)   \n",
    "U Micro Microsecond (1/1,000,000 of 1 second)   \n",
    "M MonthEnd Last calendar day of month   \n",
    "BM BusinessMonthEnd Last business day (weekday) of month   \n",
    "MS MonthBegin First calendar day of month   \n",
    "BMS BusinessMonthBegin First weekday of month   \n",
    "W-MON, W-TUE, ... Week Weekly on given day of week (MON, TUE, WED, THU, FRI, SAT, or SUN)   \n",
    "WOM-1MON, WOM-2MON, ... WeekOfMonth Generate weekly dates in the first, second, third, or fourth week of the month (e.g., WOM-3FRI for the third Friday of each month)   \n",
    "Q-JAN, Q-FEB, ... QuarterEnd Quarterly dates anchored on last calendar day of each month, for year ending in indicated month (JAN, FEB, MAR, APR, MAY, JUN, JUL, AUG, SEP, OCT, NOV, or DEC)   \n",
    "BQ-JAN, BQ-FEB, ... BusinessQuarterEnd Quarterly dates anchored on last weekday day of each month, for year ending in indicated month   \n",
    "QS-JAN, QS-FEB, ... QuarterBegin Quarterly dates anchored on first calendar day of each month, for year ending in indicated month   \n",
    "BQS-JAN, BQS-FEB, ... BusinessQuarterBegin Quarterly dates anchored on first weekday day of each month, for year ending in indicated month   \n",
    "A-JAN, A-FEB, ... YearEnd Annual dates anchored on last calendar day of given month (JAN, FEB, MAR, APR, MAY, JUN, JUL, AUG, SEP, OCT, NOV, or DEC)   \n",
    "BA-JAN, BA-FEB, ... BusinessYearEnd Annual dates anchored on last weekday of given month   \n",
    "AS-JAN, AS-FEB, ... YearBegin Annual dates anchored on first day of given month   \n",
    "BAS-JAN, BAS-FEB, ... BusinessYearBegin Annual dates anchored on first weekday of given month   "
   ]
  },
  {
   "cell_type": "code",
   "execution_count": 5,
   "metadata": {},
   "outputs": [
    {
     "name": "stdout",
     "output_type": "stream",
     "text": [
      "DatetimeIndex(['2019-01-01 00:00:00', '2019-01-01 01:30:00',\n",
      "               '2019-01-01 03:00:00', '2019-01-01 04:30:00',\n",
      "               '2019-01-01 06:00:00', '2019-01-01 07:30:00',\n",
      "               '2019-01-01 09:00:00', '2019-01-01 10:30:00',\n",
      "               '2019-01-01 12:00:00', '2019-01-01 13:30:00'],\n",
      "              dtype='datetime64[ns]', freq='90T')\n",
      "DatetimeIndex(['2019-01-18', '2019-02-15', '2019-03-15', '2019-04-19',\n",
      "               '2019-05-17', '2019-06-21', '2019-07-19', '2019-08-16'],\n",
      "              dtype='datetime64[ns]', freq='WOM-3FRI')\n"
     ]
    }
   ],
   "source": [
    "print(pd.date_range('2019-01-01', periods=10, freq='1h30min'))\n",
    "# WOM-3FRI: 每个月的第三个星期五\n",
    "print(pd.date_range('2019-01-01', '2019-09-01', freq='WOM-3FRI'))"
   ]
  },
  {
   "cell_type": "code",
   "execution_count": 6,
   "metadata": {},
   "outputs": [
    {
     "name": "stdout",
     "output_type": "stream",
     "text": [
      "2019-01-31    0.683586\n",
      "2019-02-28    0.364383\n",
      "2019-03-31    0.158419\n",
      "2019-04-30    0.946431\n",
      "Freq: M, dtype: float64\n",
      "2019-01-31         NaN\n",
      "2019-02-28         NaN\n",
      "2019-03-31    0.683586\n",
      "2019-04-30    0.364383\n",
      "Freq: M, dtype: float64\n",
      "2019-03-31    0.683586\n",
      "2019-04-30    0.364383\n",
      "2019-05-31    0.158419\n",
      "2019-06-30    0.946431\n",
      "Freq: M, dtype: float64\n",
      "2019-02-03    0.683586\n",
      "2019-03-03    0.364383\n",
      "2019-04-03    0.158419\n",
      "2019-05-03    0.946431\n",
      "dtype: float64\n"
     ]
    }
   ],
   "source": [
    "ts = pd.Series(np.random.randn(4), index=pd.date_range('1/1/2019', periods=4, freq='M'))\n",
    "print(ts)\n",
    "# 只对数据进行位移\n",
    "print(ts.shift(2))\n",
    "# 对数据和时间同时位移\n",
    "print(ts.shift(2, freq='M'))\n",
    "print(ts.shift(3, freq='D'))"
   ]
  },
  {
   "cell_type": "markdown",
   "metadata": {},
   "source": [
    "#### 重采样和频率转换"
   ]
  },
  {
   "cell_type": "code",
   "execution_count": 7,
   "metadata": {},
   "outputs": [
    {
     "name": "stdout",
     "output_type": "stream",
     "text": [
      "2018-01-01   -0.134305\n",
      "2018-01-02    0.762950\n",
      "2018-01-03   -1.204086\n",
      "2018-01-04   -0.077782\n",
      "2018-01-05    0.689047\n",
      "2018-01-06   -0.562200\n",
      "2018-01-07   -0.337599\n",
      "2018-01-08    1.275765\n",
      "2018-01-09    0.564055\n",
      "2018-01-10   -0.628205\n",
      "2018-01-11    0.396035\n",
      "2018-01-12   -0.888831\n",
      "2018-01-13    1.260760\n",
      "2018-01-14    1.574111\n",
      "2018-01-15    1.450724\n",
      "2018-01-16   -1.400926\n",
      "2018-01-17    0.140269\n",
      "2018-01-18   -0.850454\n",
      "2018-01-19    0.476645\n",
      "2018-01-20    0.589531\n",
      "2018-01-21   -2.228914\n",
      "2018-01-22    0.498340\n",
      "2018-01-23   -0.222507\n",
      "2018-01-24    0.502556\n",
      "2018-01-25   -0.352602\n",
      "2018-01-26    1.933529\n",
      "2018-01-27   -1.164005\n",
      "2018-01-28   -1.809125\n",
      "2018-01-29    0.348050\n",
      "2018-01-30   -0.686511\n",
      "                ...   \n",
      "2018-03-12   -0.531364\n",
      "2018-03-13    0.345146\n",
      "2018-03-14   -2.895594\n",
      "2018-03-15   -0.547575\n",
      "2018-03-16   -1.498614\n",
      "2018-03-17    1.206579\n",
      "2018-03-18    1.578069\n",
      "2018-03-19   -0.753612\n",
      "2018-03-20   -1.444166\n",
      "2018-03-21    0.261280\n",
      "2018-03-22   -0.079344\n",
      "2018-03-23   -0.389088\n",
      "2018-03-24    1.006265\n",
      "2018-03-25   -0.547337\n",
      "2018-03-26    2.855841\n",
      "2018-03-27   -1.151768\n",
      "2018-03-28    0.635625\n",
      "2018-03-29    0.491528\n",
      "2018-03-30   -1.094690\n",
      "2018-03-31    1.209551\n",
      "2018-04-01   -0.192836\n",
      "2018-04-02   -0.224309\n",
      "2018-04-03    1.280976\n",
      "2018-04-04   -0.143679\n",
      "2018-04-05    0.378407\n",
      "2018-04-06   -1.288547\n",
      "2018-04-07    2.444048\n",
      "2018-04-08   -0.137473\n",
      "2018-04-09    0.135288\n",
      "2018-04-10    0.234658\n",
      "Freq: D, Length: 100, dtype: float64\n",
      "2018-01-31   -0.051067\n",
      "2018-02-28   -0.124784\n",
      "2018-03-31   -0.066310\n",
      "2018-04-30    0.248653\n",
      "Freq: M, dtype: float64\n"
     ]
    }
   ],
   "source": [
    "rng = pd.date_range('2018-01-01', periods=100, freq='D')\n",
    "ts = pd.Series(np.random.randn(len(rng)), index=rng)\n",
    "print(ts)\n",
    "\n",
    "print(ts.resample('M').mean())"
   ]
  },
  {
   "cell_type": "markdown",
   "metadata": {},
   "source": [
    "freq: String or DateOffset indicating desired resampled frequency (e.g., ‘M', ’5min', or Second(15))    \n",
    "axis: Axis to resample on; default axis=0    \n",
    "fill_method: How to interpolate when upsampling, as in 'ffill' or 'bfill'; by default does no interpolation   \n",
    "closed: In downsampling, which end of each interval is closed (inclusive), 'right' or 'left' label In downsampling, how to label the aggregated result, with the 'right' or 'left' bin edge (e.g., the 9:30 to 9:35 five-minute interval could be labeled 9:30 or 9:35)       \n",
    "loffset: Time adjustment to the bin labels, such as '-1s' / Second(-1) to shift the aggregate labels one second earlier    \n",
    "limit: When forward or backward filling, the maximum number of periods to fill    \n",
    "kind: Aggregate to periods ('period') or timestamps ('timestamp'); defaults to the type of index the time series has   \n",
    "convention: When resampling periods, the convention ('start' or 'end') for converting the low-frequency period to high frequency; defaults to 'end'   "
   ]
  },
  {
   "cell_type": "code",
   "execution_count": 8,
   "metadata": {},
   "outputs": [
    {
     "name": "stdout",
     "output_type": "stream",
     "text": [
      "2018-01-01 00:00:00     0\n",
      "2018-01-01 00:01:00     1\n",
      "2018-01-01 00:02:00     2\n",
      "2018-01-01 00:03:00     3\n",
      "2018-01-01 00:04:00     4\n",
      "2018-01-01 00:05:00     5\n",
      "2018-01-01 00:06:00     6\n",
      "2018-01-01 00:07:00     7\n",
      "2018-01-01 00:08:00     8\n",
      "2018-01-01 00:09:00     9\n",
      "2018-01-01 00:10:00    10\n",
      "2018-01-01 00:11:00    11\n",
      "Freq: T, dtype: int32\n"
     ]
    }
   ],
   "source": [
    "rng = pd.date_range('2018-01-01', periods=12, freq='T')\n",
    "ts = pd.Series(np.arange(12), index=rng)\n",
    "print(ts)"
   ]
  },
  {
   "cell_type": "code",
   "execution_count": 9,
   "metadata": {},
   "outputs": [
    {
     "name": "stdout",
     "output_type": "stream",
     "text": [
      "2017-12-31 23:55:00     0\n",
      "2018-01-01 00:00:00    15\n",
      "2018-01-01 00:05:00    40\n",
      "2018-01-01 00:10:00    11\n",
      "Freq: 5T, dtype: int32\n",
      "2018-01-01 00:00:00    10\n",
      "2018-01-01 00:05:00    35\n",
      "2018-01-01 00:10:00    21\n",
      "Freq: 5T, dtype: int32\n",
      "2018-01-01 00:00:00     0\n",
      "2018-01-01 00:05:00    15\n",
      "2018-01-01 00:10:00    40\n",
      "2018-01-01 00:15:00    11\n",
      "Freq: 5T, dtype: int32\n",
      "2017-12-31 23:59:59     0\n",
      "2018-01-01 00:04:59    15\n",
      "2018-01-01 00:09:59    40\n",
      "2018-01-01 00:14:59    11\n",
      "Freq: 5T, dtype: int32\n"
     ]
    }
   ],
   "source": [
    "# 降采样\n",
    "print(ts.resample('5min', closed='right').sum())\n",
    "print(ts.resample('5min', closed='left').sum())\n",
    "print(ts.resample('5min', closed='right', label='right').sum())\n",
    "print(ts.resample('5min', closed='right', label='right', loffset='-1s').sum())"
   ]
  },
  {
   "cell_type": "code",
   "execution_count": 10,
   "metadata": {},
   "outputs": [
    {
     "name": "stdout",
     "output_type": "stream",
     "text": [
      "            Colorado     Texas  New York      Ohio\n",
      "2019-01-02 -1.722049  0.239592 -0.817271  1.561691\n",
      "2019-01-09  0.047291  0.160520  1.135253  0.769931\n",
      "            Colorado     Texas  New York      Ohio\n",
      "2019-01-02 -1.722049  0.239592 -0.817271  1.561691\n",
      "2019-01-03       NaN       NaN       NaN       NaN\n",
      "2019-01-04       NaN       NaN       NaN       NaN\n",
      "2019-01-05       NaN       NaN       NaN       NaN\n",
      "2019-01-06       NaN       NaN       NaN       NaN\n",
      "2019-01-07       NaN       NaN       NaN       NaN\n",
      "2019-01-08       NaN       NaN       NaN       NaN\n",
      "2019-01-09  0.047291  0.160520  1.135253  0.769931\n",
      "            Colorado     Texas  New York      Ohio\n",
      "2019-01-02 -1.722049  0.239592 -0.817271  1.561691\n",
      "2019-01-03  0.047291  0.160520  1.135253  0.769931\n",
      "2019-01-04  0.047291  0.160520  1.135253  0.769931\n",
      "2019-01-05  0.047291  0.160520  1.135253  0.769931\n",
      "2019-01-06  0.047291  0.160520  1.135253  0.769931\n",
      "2019-01-07  0.047291  0.160520  1.135253  0.769931\n",
      "2019-01-08  0.047291  0.160520  1.135253  0.769931\n",
      "2019-01-09  0.047291  0.160520  1.135253  0.769931\n",
      "            Colorado     Texas  New York      Ohio\n",
      "2019-01-03 -1.722049  0.239592 -0.817271  1.561691\n",
      "2019-01-10  0.047291  0.160520  1.135253  0.769931\n"
     ]
    }
   ],
   "source": [
    "# 升采样\n",
    "frame = pd.DataFrame(np.random.randn(2, 4), index=pd.date_range('1/1/2019', periods=2, freq='W-WED'),\n",
    "                     columns=['Colorado', 'Texas', 'New York', 'Ohio'])\n",
    "print(frame)\n",
    "df_daily = frame.resample('D').asfreq()\n",
    "print(df_daily)\n",
    "\n",
    "print(frame.resample('D').bfill())\n",
    "print(frame.resample('W-THU').ffill())"
   ]
  },
  {
   "cell_type": "markdown",
   "metadata": {},
   "source": [
    "#### 滑动窗口函数"
   ]
  },
  {
   "cell_type": "code",
   "execution_count": 11,
   "metadata": {},
   "outputs": [
    {
     "data": {
      "image/png": "[encoded data removed]",
      "text/plain": [
       "<Figure size 432x288 with 1 Axes>"
      ]
     },
     "metadata": {},
     "output_type": "display_data"
    },
    {
     "data": {
      "image/png": "[encoded data removed]",
      "text/plain": [
       "<Figure size 432x288 with 1 Axes>"
      ]
     },
     "metadata": {},
     "output_type": "display_data"
    }
   ],
   "source": [
    "close_px_all = pd.read_csv('stock_px_2.csv', parse_dates=True, index_col=0)\n",
    "close_px = close_px_all[['AAPL', 'MSFT', 'XOM']]\n",
    "close_px = close_px.resample('B').ffill()\n",
    "close_px.AAPL.plot()\n",
    "# 如果当前数据小于滑动窗口大小，可以设置指定数量的非NA的观测值，默认这个值为1\n",
    "close_px.AAPL.rolling(250).mean().plot();\n",
    "close_px.rolling(60, min_periods=10).mean().plot();"
   ]
  },
  {
   "cell_type": "markdown",
   "metadata": {},
   "source": [
    "### 时间序列预处理"
   ]
  },
  {
   "cell_type": "markdown",
   "metadata": {},
   "source": [
    "#### 平稳性检验"
   ]
  },
  {
   "cell_type": "code",
   "execution_count": 12,
   "metadata": {},
   "outputs": [],
   "source": [
    "rrc_att = [ \n",
    "    1752., 1975., 1791., 1743., 1687., 1711., 1847., 1727., 1730.,\n",
    "    1736., 1845., 1731., 1715., 1801., 1819., 1729., 1696., 1762.,\n",
    "    1806., 1755., 1657., 1754., 1785., 1724., 1652., 1885., 1787.,\n",
    "    1703., 1683., 1707., 1838., 1765., 1685., 1764., 1890., 1817.,\n",
    "    1724., 1887., 1858., 1793., 1694., 1784., 1846., 1753., 1680.,\n",
    "    1729., 1828., 1742., 1693., 1802., 1862., 1685., 1691., 1660.,\n",
    "    1828., 1710., 1663., 1685., 1883., 1717., 1674., 1790., 1873.,\n",
    "    1780., 1708., 1741., 1831., 1653., 1662., 1645., 1821., 1647.,\n",
    "    1623., 1710., 1884., 1744., 1755., 1706., 1861., 1723., 1728.,\n",
    "    1725., 1798., 1583., 1519., 1647., 1745., 1565., 1561., 1503.,\n",
    "    1908., 1715., 1745., 1702., 1877., 1732.]\n",
    "index = pd.date_range(start='2018-12-31 09:00:00', end='2019-01-01 08:45:00', freq='15min')\n",
    "rrc_att_ser = pd.Series(rrc_att, index=index)"
   ]
  },
  {
   "cell_type": "code",
   "execution_count": 13,
   "metadata": {},
   "outputs": [
    {
     "data": {
      "text/plain": [
       "<matplotlib.axes._subplots.AxesSubplot at 0x1a361588>"
      ]
     },
     "execution_count": 13,
     "metadata": {},
     "output_type": "execute_result"
    },
    {
     "data": {
      "image/png": "[encoded data removed]",
      "text/plain": [
       "<Figure size 1152x432 with 1 Axes>"
      ]
     },
     "metadata": {},
     "output_type": "display_data"
    }
   ],
   "source": [
    "rrc_att_ser.plot(figsize=(16,6))"
   ]
  },
  {
   "cell_type": "markdown",
   "metadata": {},
   "source": [
    "平稳性，正态性，独立性，周期性，趋势项"
   ]
  },
  {
   "cell_type": "markdown",
   "metadata": {},
   "source": [
    "### 平稳时间序列分析"
   ]
  },
  {
   "cell_type": "markdown",
   "metadata": {},
   "source": [
    "### 非平稳时间序列分析"
   ]
  },
  {
   "cell_type": "markdown",
   "metadata": {},
   "source": [
    "### 多元时间序列分析"
   ]
  },
  {
   "cell_type": "code",
   "execution_count": null,
   "metadata": {
    "collapsed": true
   },
   "outputs": [],
   "source": []
  }
 ],
 "metadata": {
  "kernelspec": {
   "display_name": "Python 3",
   "language": "python",
   "name": "python3"
  },
  "language_info": {
   "codemirror_mode": {
    "name": "ipython",
    "version": 3
   },
   "file_extension": ".py",
   "mimetype": "text/x-python",
   "name": "python",
   "nbconvert_exporter": "python",
   "pygments_lexer": "ipython3",
   "version": "3.6.3"
  },
  "toc": {
   "nav_menu": {},
   "number_sections": true,
   "sideBar": true,
   "skip_h1_title": true,
   "title_cell": "Table of Contents",
   "title_sidebar": "Contents",
   "toc_cell": false,
   "toc_position": {},
   "toc_section_display": true,
   "toc_window_display": true
  }
 },
 "nbformat": 4,
 "nbformat_minor": 2
}
