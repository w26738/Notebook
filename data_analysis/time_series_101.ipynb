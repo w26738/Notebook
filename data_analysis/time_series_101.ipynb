{
 "cells": [
  {
   "cell_type": "markdown",
   "metadata": {},
   "source": [
    "# 时间序列分析\n",
    "\n",
    "**参考**：   \n",
    "1. Wes McKinney, Python for Data Analysis, 2017\n",
    "2. https://www.cnblogs.com/foley/p/5582358.html   \n",
    "3. 王燕，应用时间序列分析"
   ]
  },
  {
   "cell_type": "markdown",
   "metadata": {},
   "source": [
    "### Pandas处理时间序列"
   ]
  },
  {
   "cell_type": "code",
   "execution_count": 1,
   "metadata": {
    "collapsed": true
   },
   "outputs": [],
   "source": [
    "from datetime import datetime\n",
    "import numpy as np\n",
    "import pandas as pd\n",
    "from scipy import stats\n",
    "import matplotlib.pyplot as plt\n",
    "import seaborn as sns"
   ]
  },
  {
   "cell_type": "markdown",
   "metadata": {},
   "source": [
    "#### 日期和时间数据类型转换"
   ]
  },
  {
   "cell_type": "markdown",
   "metadata": {},
   "source": [
    "**DateTime格式定义**：  \n",
    "%Y Four-digit year  \n",
    "%y Two-digit year  \n",
    "%m Two-digit month [01, 12]  \n",
    "%d Two-digit day [01, 31]   \n",
    "%H Hour (24-hour clock) [00, 23]   \n",
    "%I Hour (12-hour clock) [01, 12]     \n",
    "%M Two-digit minute [00, 59]   \n",
    "%S Second [00, 61] (seconds 60, 61 account for leap seconds)   \n",
    "%w Weekday as integer [0 (Sunday), 6]   \n",
    "%U Week number of the year [00, 53]; Sunday is considered the first day of the week, and days before the first Sunday of the year are “week 0”    \n",
    "%W Week number of the year [00, 53]; Monday is considered the first day of the week, and days before the first Monday of the year are “week 0”    \n",
    "%z UTC time zone offset as +HHMM or -HHMM; empty if time zone naive    \n",
    "%F Shortcut for %Y-%m-%d (e.g., 2012-4-18)    \n",
    "%D Shortcut for %m/%d/%y (e.g., 04/18/12)   \n",
    "\n",
    "**特定日期格式**   \n",
    "%a Abbreviated weekday name   \n",
    "%A Full weekday name   \n",
    "%b Abbreviated month name    \n",
    "%B Full month name    \n",
    "%c Full date and time (e.g., ‘Tue 01 May 2012 04:20:57 PM’)    \n",
    "%p Locale equivalent of AM or PM   \n",
    "%x Locale-appropriate formatted date (e.g., in the United States, May 1, 2012 yields ’05/01/2012’) \n",
    "%X Locale-appropriate time (e.g., ’04:24:12 PM’)    "
   ]
  },
  {
   "cell_type": "code",
   "execution_count": 2,
   "metadata": {},
   "outputs": [
    {
     "name": "stdout",
     "output_type": "stream",
     "text": [
      "<class 'datetime.datetime'> 2018-01-01 12:01:10\n",
      "2018-01-01 12:01:10\n",
      "2018-01-01 \n",
      "\n",
      "<class 'datetime.datetime'> 2019-01-03 00:00:00 \n",
      "\n",
      "<class 'datetime.datetime'> 1900-01-01 12:10:10 \n",
      "\n"
     ]
    },
    {
     "data": {
      "text/plain": [
       "DatetimeIndex(['2018-07-16', '2018-12-30'], dtype='datetime64[ns]', freq=None)"
      ]
     },
     "execution_count": 2,
     "metadata": {},
     "output_type": "execute_result"
    }
   ],
   "source": [
    "# 日期和字符串间的转化\n",
    "stamp = datetime(2018, 1, 1, 12, 1, 10)\n",
    "print(type(stamp), stamp)\n",
    "print(str(stamp))\n",
    "print(stamp.strftime('%Y-%m-%d'), '\\n')\n",
    "\n",
    "datestr = '2019-01-03'\n",
    "date = datetime.strptime(datestr, '%Y-%m-%d')\n",
    "print(type(date), date, '\\n')\n",
    "\n",
    "timestr = '12:10:10'\n",
    "time = datetime.strptime(timestr, '%H:%M:%S')\n",
    "print(type(time), time, '\\n')\n",
    "\n",
    "datestrs = ['7/16/2018', '12/30/2018']\n",
    "pd.to_datetime(datestrs)"
   ]
  },
  {
   "cell_type": "markdown",
   "metadata": {},
   "source": [
    "#### 时间序列基础"
   ]
  },
  {
   "cell_type": "code",
   "execution_count": 3,
   "metadata": {},
   "outputs": [
    {
     "name": "stdout",
     "output_type": "stream",
     "text": [
      "2019-01-02   -1.703825\n",
      "2018-01-05   -1.622203\n",
      "2017-01-07   -0.725515\n",
      "2019-01-08    0.124481\n",
      "2018-01-10    1.469449\n",
      "2017-01-12   -0.044182\n",
      "dtype: float64\n",
      "DatetimeIndex(['2019-01-02', '2018-01-05', '2017-01-07', '2019-01-08',\n",
      "               '2018-01-10', '2017-01-12'],\n",
      "              dtype='datetime64[ns]', freq=None)\n",
      "2018-01-05   -1.622203\n",
      "dtype: float64 2017-01-07   -0.725515\n",
      "dtype: float64\n",
      "-0.7255148264011163\n",
      "2019-01-02   -1.703825\n",
      "2017-01-07   -0.725515\n",
      "2018-01-10    1.469449\n",
      "dtype: float64\n"
     ]
    }
   ],
   "source": [
    "dates = [datetime(2019, 1, 2), datetime(2018, 1, 5), datetime(2017, 1, 7), \n",
    "         datetime(2019, 1, 8), datetime(2018, 1, 10), datetime(2017, 1, 12)]\n",
    "\n",
    "ts = pd.Series(np.random.randn(6), index=dates)\n",
    "print(ts)\n",
    "print(ts.index)\n",
    "# 选择\n",
    "print(ts['20180105'], ts['2017-01-7'])\n",
    "print(ts[ts.index[2]])\n",
    "# 切片\n",
    "print(ts[::2])"
   ]
  },
  {
   "cell_type": "markdown",
   "metadata": {},
   "source": [
    "#### 日期范围、频率和移动"
   ]
  },
  {
   "cell_type": "code",
   "execution_count": 4,
   "metadata": {},
   "outputs": [
    {
     "name": "stdout",
     "output_type": "stream",
     "text": [
      "DatetimeIndex(['2018-04-01', '2018-04-02', '2018-04-03', '2018-04-04',\n",
      "               '2018-04-05', '2018-04-06', '2018-04-07', '2018-04-08',\n",
      "               '2018-04-09', '2018-04-10',\n",
      "               ...\n",
      "               '2018-12-23', '2018-12-24', '2018-12-25', '2018-12-26',\n",
      "               '2018-12-27', '2018-12-28', '2018-12-29', '2018-12-30',\n",
      "               '2018-12-31', '2019-01-01'],\n",
      "              dtype='datetime64[ns]', length=276, freq='D') \n",
      " DatetimeIndex(['2018-04-01', '2018-04-02', '2018-04-03', '2018-04-04',\n",
      "               '2018-04-05', '2018-04-06', '2018-04-07', '2018-04-08',\n",
      "               '2018-04-09', '2018-04-10', '2018-04-11', '2018-04-12',\n",
      "               '2018-04-13', '2018-04-14', '2018-04-15', '2018-04-16',\n",
      "               '2018-04-17', '2018-04-18', '2018-04-19', '2018-04-20'],\n",
      "              dtype='datetime64[ns]', freq='D') \n",
      " DatetimeIndex(['2019-01-01', '2019-01-02', '2019-01-03', '2019-01-04',\n",
      "               '2019-01-05', '2019-01-06', '2019-01-07', '2019-01-08',\n",
      "               '2019-01-09', '2019-01-10', '2019-01-11', '2019-01-12',\n",
      "               '2019-01-13', '2019-01-14', '2019-01-15', '2019-01-16',\n",
      "               '2019-01-17', '2019-01-18', '2019-01-19', '2019-01-20'],\n",
      "              dtype='datetime64[ns]', freq='D') \n",
      " DatetimeIndex(['2012-05-02 12:56:31', '2012-05-03 12:56:31',\n",
      "               '2012-05-04 12:56:31', '2012-05-05 12:56:31',\n",
      "               '2012-05-06 12:56:31'],\n",
      "              dtype='datetime64[ns]', freq='D')\n"
     ]
    }
   ],
   "source": [
    "index1 = pd.date_range('2018-04-01', '2019-01-01')\n",
    "index2 = pd.date_range(start='2018-04-01', periods=20)\n",
    "index3 = pd.date_range(start='2019-01-01', periods=20)\n",
    "index4 = pd.date_range('2012-05-02 12:56:31', periods=5)\n",
    "print(index1, '\\n', index2, '\\n', index3, '\\n', index4)"
   ]
  },
  {
   "cell_type": "markdown",
   "metadata": {},
   "source": [
    "**基本时间序列频率**   \n",
    "D Day Calendar daily   \n",
    "B BusinessDay Business daily   \n",
    "H Hour Hourly   \n",
    "T or min Minute Minutely   \n",
    "S Second Secondly   \n",
    "L or ms Milli Millisecond (1/1,000 of 1 second)   \n",
    "U Micro Microsecond (1/1,000,000 of 1 second)   \n",
    "M MonthEnd Last calendar day of month   \n",
    "BM BusinessMonthEnd Last business day (weekday) of month   \n",
    "MS MonthBegin First calendar day of month   \n",
    "BMS BusinessMonthBegin First weekday of month   \n",
    "W-MON, W-TUE, ... Week Weekly on given day of week (MON, TUE, WED, THU, FRI, SAT, or SUN)   \n",
    "WOM-1MON, WOM-2MON, ... WeekOfMonth Generate weekly dates in the first, second, third, or fourth week of the month (e.g., WOM-3FRI for the third Friday of each month)   \n",
    "Q-JAN, Q-FEB, ... QuarterEnd Quarterly dates anchored on last calendar day of each month, for year ending in indicated month (JAN, FEB, MAR, APR, MAY, JUN, JUL, AUG, SEP, OCT, NOV, or DEC)   \n",
    "BQ-JAN, BQ-FEB, ... BusinessQuarterEnd Quarterly dates anchored on last weekday day of each month, for year ending in indicated month   \n",
    "QS-JAN, QS-FEB, ... QuarterBegin Quarterly dates anchored on first calendar day of each month, for year ending in indicated month   \n",
    "BQS-JAN, BQS-FEB, ... BusinessQuarterBegin Quarterly dates anchored on first weekday day of each month, for year ending in indicated month   \n",
    "A-JAN, A-FEB, ... YearEnd Annual dates anchored on last calendar day of given month (JAN, FEB, MAR, APR, MAY, JUN, JUL, AUG, SEP, OCT, NOV, or DEC)   \n",
    "BA-JAN, BA-FEB, ... BusinessYearEnd Annual dates anchored on last weekday of given month   \n",
    "AS-JAN, AS-FEB, ... YearBegin Annual dates anchored on first day of given month   \n",
    "BAS-JAN, BAS-FEB, ... BusinessYearBegin Annual dates anchored on first weekday of given month   "
   ]
  },
  {
   "cell_type": "code",
   "execution_count": 5,
   "metadata": {},
   "outputs": [
    {
     "name": "stdout",
     "output_type": "stream",
     "text": [
      "DatetimeIndex(['2019-01-01 00:00:00', '2019-01-01 01:30:00',\n",
      "               '2019-01-01 03:00:00', '2019-01-01 04:30:00',\n",
      "               '2019-01-01 06:00:00', '2019-01-01 07:30:00',\n",
      "               '2019-01-01 09:00:00', '2019-01-01 10:30:00',\n",
      "               '2019-01-01 12:00:00', '2019-01-01 13:30:00'],\n",
      "              dtype='datetime64[ns]', freq='90T')\n",
      "DatetimeIndex(['2019-01-18', '2019-02-15', '2019-03-15', '2019-04-19',\n",
      "               '2019-05-17', '2019-06-21', '2019-07-19', '2019-08-16'],\n",
      "              dtype='datetime64[ns]', freq='WOM-3FRI')\n"
     ]
    }
   ],
   "source": [
    "print(pd.date_range('2019-01-01', periods=10, freq='1h30min'))\n",
    "# WOM-3FRI: 每个月的第三个星期五\n",
    "print(pd.date_range('2019-01-01', '2019-09-01', freq='WOM-3FRI'))"
   ]
  },
  {
   "cell_type": "markdown",
   "metadata": {},
   "source": [
    "### 时间序列预处理"
   ]
  },
  {
   "cell_type": "markdown",
   "metadata": {},
   "source": [
    "平稳性，正态性，独立性，周期性，趋势项"
   ]
  },
  {
   "cell_type": "markdown",
   "metadata": {},
   "source": [
    "### 平稳时间序列分析"
   ]
  },
  {
   "cell_type": "markdown",
   "metadata": {},
   "source": [
    "### 非平稳时间序列分析"
   ]
  },
  {
   "cell_type": "markdown",
   "metadata": {},
   "source": [
    "### 多元时间序列分析"
   ]
  },
  {
   "cell_type": "code",
   "execution_count": null,
   "metadata": {
    "collapsed": true
   },
   "outputs": [],
   "source": []
  }
 ],
 "metadata": {
  "kernelspec": {
   "display_name": "Python 3",
   "language": "python",
   "name": "python3"
  },
  "language_info": {
   "codemirror_mode": {
    "name": "ipython",
    "version": 3
   },
   "file_extension": ".py",
   "mimetype": "text/x-python",
   "name": "python",
   "nbconvert_exporter": "python",
   "pygments_lexer": "ipython3",
   "version": "3.6.3"
  },
  "toc": {
   "nav_menu": {},
   "number_sections": true,
   "sideBar": true,
   "skip_h1_title": true,
   "title_cell": "Table of Contents",
   "title_sidebar": "Contents",
   "toc_cell": false,
   "toc_position": {},
   "toc_section_display": true,
   "toc_window_display": true
  }
 },
 "nbformat": 4,
 "nbformat_minor": 2
}
