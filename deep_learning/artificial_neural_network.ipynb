{
 "cells": [
  {
   "cell_type": "markdown",
   "metadata": {},
   "source": [
    "## MNIST数据集分类 - 神经网络##  \n",
    "参考: \n",
    "1. Giancarlo Zaccone, Getting Started with TensorFlow, 2016.\n",
    "2. 一文读懂tensorflow基础，https://baijiahao.baidu.com/s?id=1574555070364620&wfr=spider&for=pc\n",
    "3. 深度学习入门必须理解这25个概念, http://blog.csdn.net/pangjiuzala/article/details/72630166"
   ]
  },
  {
   "cell_type": "markdown",
   "metadata": {},
   "source": [
    "### 准备数据和定义模型变量"
   ]
  },
  {
   "cell_type": "code",
   "execution_count": 1,
   "metadata": {},
   "outputs": [
    {
     "name": "stdout",
     "output_type": "stream",
     "text": [
      "Extracting D:\\Code\\GitHub\\notebook\\datasets\\mnist\\train-images-idx3-ubyte.gz\n",
      "Extracting D:\\Code\\GitHub\\notebook\\datasets\\mnist\\train-labels-idx1-ubyte.gz\n",
      "Extracting D:\\Code\\GitHub\\notebook\\datasets\\mnist\\t10k-images-idx3-ubyte.gz\n",
      "Extracting D:\\Code\\GitHub\\notebook\\datasets\\mnist\\t10k-labels-idx1-ubyte.gz\n"
     ]
    }
   ],
   "source": [
    "import tensorflow as tf\n",
    "from tensorflow.examples.tutorials.mnist import input_data\n",
    "import matplotlib.pyplot as plt\n",
    "\n",
    "'''\n",
    "one_hot：一个长度为n的数组，只有一个元素是1，其他元素是0。\n",
    "比如为了表示0..9个数字，数字1的one hot编码为[0 1 0 0 0 0 0 0 0 0]\n",
    "数字9的one hot编码为[0 0 0 0 0 0 0 0 1 0]\n",
    "'''\n",
    "mnist = input_data.read_data_sets(r'D:\\Code\\GitHub\\notebook\\datasets\\mnist', one_hot=True)"
   ]
  },
  {
   "cell_type": "markdown",
   "metadata": {},
   "source": [
    "### 单层感知器 ###"
   ]
  },
  {
   "cell_type": "code",
   "execution_count": 2,
   "metadata": {},
   "outputs": [
    {
     "name": "stdout",
     "output_type": "stream",
     "text": [
      "Epoch: 0000 cost= 1.176939924\n",
      "Epoch: 0005 cost= 0.440896210\n",
      "Epoch: 0010 cost= 0.383355672\n",
      "Epoch: 0015 cost= 0.357253010\n",
      "Epoch: 0020 cost= 0.341465503\n",
      "Epoch: 0025 cost= 0.330545862\n",
      "Epoch: 0030 cost= 0.322304287\n",
      "Epoch: 0035 cost= 0.315921123\n",
      "Epoch: 0040 cost= 0.310714585\n",
      "Epoch: 0045 cost= 0.306378129\n",
      "Trainig phase finished!\n"
     ]
    },
    {
     "data": {
      "image/png": "[encoded data removed]",
      "text/plain": [
       "<matplotlib.figure.Figure at 0xe338a20>"
      ]
     },
     "metadata": {},
     "output_type": "display_data"
    },
    {
     "name": "stdout",
     "output_type": "stream",
     "text": [
      "Model accuracy: 0.9192\n"
     ]
    }
   ],
   "source": [
    "# 学习率\n",
    "learning_rate = 0.01\n",
    "# epoch为向前和向后传播中所有批次的单次训练迭代\n",
    "training_epochs = 50\n",
    "# 在训练神经网络的同时，不用一次发送整个输入，一般将输入分成几个随机大小相等的块。与整个数据集一次性馈送到网络时建立的模型相比，批量训练数据使得模型更加广义化。\n",
    "batch_size = 100\n",
    "# 控制输出打印频率\n",
    "display_step = 5\n",
    "\n",
    "# 定义输入图的占位符\n",
    "x = tf.placeholder('float', [None, 784])\n",
    "# 定义实际分类标签的占位符\n",
    "y_ = tf.placeholder('float', [None, 10])\n",
    "\n",
    "# 权重矩阵\n",
    "W = tf.Variable(tf.zeros([784, 10]))\n",
    "# 偏置向量\n",
    "b = tf.Variable(tf.zeros([10]))\n",
    "\n",
    "# 构建输出层\n",
    "y = tf.nn.softmax(tf.matmul(x, W) + b)\n",
    "# 交叉熵, 这里y_是实际分布，y是预测分布\n",
    "cross_entropy = y_*tf.log(y)\n",
    "# 成本函数\n",
    "cost = tf.reduce_mean(-tf.reduce_sum(cross_entropy, reduction_indices=1))\n",
    "# 优化模型算法\n",
    "optimizer = tf.train.GradientDescentOptimizer(learning_rate).minimize(cost)\n",
    "\n",
    "# 设置plot参数\n",
    "avg_set = []\n",
    "epoch_set = []\n",
    "\n",
    "# 初始化变量\n",
    "init = tf.global_variables_initializer()\n",
    "# 启动计算图\n",
    "with tf.Session() as sess:\n",
    "    sess.run(init)\n",
    "    for epoch in range(training_epochs):\n",
    "        avg_cost = 0\n",
    "        total_batch = int(mnist.train.num_examples/batch_size)\n",
    "        # 该循环的每个步骤中，都会随机抓取训练数据中的100个批处理数据点，然后用这些数据点作为参数替换之前的占位符来运行optimizer操作\n",
    "        for i in range(total_batch):\n",
    "            # 获取size为batch_size大小的数据\n",
    "            batch_xs, batch_ys = mnist.train.next_batch(batch_size)\n",
    "            # 使用batch数据训练模型\n",
    "            sess.run(optimizer, feed_dict={x: batch_xs, y_: batch_ys})\n",
    "            # 计算成本函数\n",
    "            avg_cost += sess.run(cost, feed_dict={x: batch_xs, y_: batch_ys})/total_batch\n",
    "        # 每隔display_step打印一次\n",
    "        if epoch % display_step == 0:\n",
    "            print('Epoch:', '%04d' %(epoch), 'cost=', '{:.9f}'.format(avg_cost))\n",
    "        avg_set.append(avg_cost)\n",
    "        epoch_set.append(epoch)\n",
    "    print('Trainig phase finished!')\n",
    "    # 可视化结果\n",
    "    plt.plot(epoch_set, avg_set, 'o', label='Logiistic Regression Training phase')\n",
    "    plt.ylabel('cost')\n",
    "    plt.xlabel('epoch')\n",
    "    plt.legend()\n",
    "    plt.show()\n",
    "    \n",
    "    # 测试评估模型\n",
    "    # argmax给出给定张量中在指定轴axis上的最大值的位置（索引）\n",
    "    correct_prediction = tf.equal(tf.argmax(y, 1), tf.argmax(y_, 1))\n",
    "    # 计算准确度accuracy，cast函数是类型转换函数，将索引值转换为浮点数\n",
    "    accuracy = tf.reduce_mean(tf.cast(correct_prediction, 'float'))\n",
    "    print('Model accuracy:', accuracy.eval({x: mnist.test.images, y_: mnist.test.labels}))"
   ]
  },
  {
   "cell_type": "markdown",
   "metadata": {},
   "source": [
    "### 多层感知器 ###"
   ]
  },
  {
   "cell_type": "code",
   "execution_count": 3,
   "metadata": {},
   "outputs": [
    {
     "name": "stdout",
     "output_type": "stream",
     "text": [
      "Epoch: 0001 cost= 0.716240561\n",
      "Epoch: 0002 cost= 0.215312198\n",
      "Epoch: 0003 cost= 0.130517052\n",
      "Epoch: 0004 cost= 0.089457512\n",
      "Epoch: 0005 cost= 0.063737509\n",
      "Epoch: 0006 cost= 0.049198222\n",
      "Epoch: 0007 cost= 0.040876925\n",
      "Epoch: 0008 cost= 0.031007040\n",
      "Epoch: 0009 cost= 0.027069679\n",
      "Epoch: 0010 cost= 0.023354726\n",
      "Epoch: 0011 cost= 0.021567892\n",
      "Epoch: 0012 cost= 0.017555714\n",
      "Epoch: 0013 cost= 0.017919257\n",
      "Epoch: 0014 cost= 0.016527530\n",
      "Epoch: 0015 cost= 0.016923581\n",
      "Epoch: 0016 cost= 0.014512316\n",
      "Epoch: 0017 cost= 0.013272093\n",
      "Epoch: 0018 cost= 0.012702308\n",
      "Epoch: 0019 cost= 0.012730167\n",
      "Epoch: 0020 cost= 0.011083136\n",
      "Epoch: 0021 cost= 0.011154168\n",
      "Epoch: 0022 cost= 0.009564731\n",
      "Epoch: 0023 cost= 0.008850099\n",
      "Epoch: 0024 cost= 0.010387406\n",
      "Epoch: 0025 cost= 0.007864235\n",
      "Trainig phase finished!\n"
     ]
    },
    {
     "data": {
      "image/png": "[encoded data removed]",
      "text/plain": [
       "<matplotlib.figure.Figure at 0xeaab668>"
      ]
     },
     "metadata": {},
     "output_type": "display_data"
    },
    {
     "name": "stdout",
     "output_type": "stream",
     "text": [
      "Model accuracy: 0.9683\n"
     ]
    }
   ],
   "source": [
    "# 学习率\n",
    "learning_rate = 0.005\n",
    "# epoch为向前和向后传播中所有批次的单次训练迭代\n",
    "training_epochs = 25\n",
    "# 在训练神经网络的同时，不用一次发送整个输入，一般将输入分成几个随机大小相等的块。与整个数据集一次性馈送到网络时建立的模型相比，批量训练数据使得模型更加广义化。\n",
    "batch_size = 100\n",
    "# 控制输出打印频率\n",
    "display_step = 1\n",
    "# 第一隐藏层神经元数目\n",
    "n_hidden_1 = 256\n",
    "# 第二隐藏层神经元数目\n",
    "n_hidden_2 = 256\n",
    "# 输入层节点数，这里指每个数字的像素个数28*28\n",
    "n_input = 784\n",
    "# 输出节点数，这里指MNIST标签个数0..9\n",
    "n_classes = 10\n",
    "\n",
    "# 定义输入图的占位符\n",
    "x = tf.placeholder('float', [None, n_input])\n",
    "# 定义实际分类标签的占位符\n",
    "y_ = tf.placeholder('float', [None, n_classes])\n",
    "\n",
    "# 第一隐藏层权重矩阵\n",
    "h1 = tf.Variable(tf.random_normal([n_input, n_hidden_1]))\n",
    "# 第一隐藏层偏置向量\n",
    "b1 = tf.Variable(tf.random_normal([n_hidden_1]))\n",
    "# 第一隐藏层激活函数\n",
    "l1 = tf.nn.sigmoid(tf.add(tf.matmul(x,h1), b1))\n",
    "# 第二隐藏层权重矩阵\n",
    "h2 = tf.Variable(tf.random_normal([n_hidden_1, n_hidden_2]))\n",
    "# 第二隐藏层偏置向量\n",
    "b2 = tf.Variable(tf.random_normal([n_hidden_2]))\n",
    "# 第二隐藏层激活函数\n",
    "l2 = tf.nn.sigmoid(tf.add(tf.matmul(l1,h2), b2))\n",
    "# 输出层权重矩阵\n",
    "ho = tf.Variable(tf.random_normal([n_hidden_2, n_classes]))\n",
    "# 输出层偏置向量\n",
    "bo = tf.Variable(tf.random_normal([n_classes]))\n",
    "# 输出层\n",
    "y = tf.matmul(l2, ho) + bo\n",
    "\n",
    "# 成本函数\n",
    "cost = tf.reduce_mean(tf.nn.softmax_cross_entropy_with_logits(labels=y_, logits=y))\n",
    "# 优化模型算法\n",
    "optimizer = tf.train.AdamOptimizer(learning_rate).minimize(cost)\n",
    "\n",
    "# 设置plot参数\n",
    "avg_set = []\n",
    "epoch_set = []\n",
    "\n",
    "# 初始化变量\n",
    "init = tf.global_variables_initializer()\n",
    "# 启动计算图\n",
    "with tf.Session() as sess:\n",
    "    sess.run(init)\n",
    "    for epoch in range(training_epochs):\n",
    "        avg_cost = 0\n",
    "        total_batch = int(mnist.train.num_examples/batch_size)\n",
    "        # 该循环的每个步骤中，都会随机抓取训练数据中的100个批处理数据点，然后用这些数据点作为参数替换之前的占位符来运行optimizer操作\n",
    "        for i in range(total_batch):\n",
    "            # 获取size为batch_size大小的数据\n",
    "            batch_xs, batch_ys = mnist.train.next_batch(batch_size)\n",
    "            # 使用batch数据训练模型\n",
    "            sess.run(optimizer, feed_dict={x: batch_xs, y_: batch_ys})\n",
    "            # 计算成本函数\n",
    "            avg_cost += sess.run(cost, feed_dict={x: batch_xs, y_: batch_ys})/total_batch\n",
    "        # 每隔display_step打印一次\n",
    "        if epoch % display_step == 0:\n",
    "            print('Epoch:', '%04d' %(epoch+1), 'cost=', '{:.9f}'.format(avg_cost))\n",
    "        avg_set.append(avg_cost)\n",
    "        epoch_set.append(epoch)\n",
    "    print('Trainig phase finished!')\n",
    "    # 可视化结果\n",
    "    plt.plot(epoch_set, avg_set, 'o', label='Logiistic Regression Training phase')\n",
    "    plt.ylabel('cost')\n",
    "    plt.xlabel('epoch')\n",
    "    plt.legend()\n",
    "    plt.show()\n",
    "    \n",
    "    # 测试评估模型\n",
    "    # argmax给出给定张量中在指定轴axis上的最大值的位置（索引）\n",
    "    correct_prediction = tf.equal(tf.argmax(y, 1), tf.argmax(y_, 1))\n",
    "    # 计算准确度accuracy，cast函数是类型转换函数，将索引值转换为浮点数\n",
    "    accuracy = tf.reduce_mean(tf.cast(correct_prediction, 'float'))\n",
    "    print('Model accuracy:', accuracy.eval({x: mnist.test.images, y_: mnist.test.labels}))"
   ]
  },
  {
   "cell_type": "code",
   "execution_count": null,
   "metadata": {
    "collapsed": true
   },
   "outputs": [],
   "source": []
  }
 ],
 "metadata": {
  "kernelspec": {
   "display_name": "Python 3",
   "language": "python",
   "name": "python3"
  },
  "language_info": {
   "codemirror_mode": {
    "name": "ipython",
    "version": 3
   },
   "file_extension": ".py",
   "mimetype": "text/x-python",
   "name": "python",
   "nbconvert_exporter": "python",
   "pygments_lexer": "ipython3",
   "version": "3.5.2"
  },
  "toc": {
   "colors": {
    "hover_highlight": "#DAA520",
    "navigate_num": "#000000",
    "navigate_text": "#333333",
    "running_highlight": "#FF0000",
    "selected_highlight": "#FFD700",
    "sidebar_border": "#EEEEEE",
    "wrapper_background": "#FFFFFF"
   },
   "moveMenuLeft": true,
   "nav_menu": {
    "height": "67px",
    "width": "252px"
   },
   "navigate_menu": true,
   "number_sections": true,
   "sideBar": true,
   "threshold": 4,
   "toc_cell": false,
   "toc_section_display": "block",
   "toc_window_display": false,
   "widenNotebook": false
  }
 },
 "nbformat": 4,
 "nbformat_minor": 2
}
