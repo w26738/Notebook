{
 "cells": [
  {
   "cell_type": "markdown",
   "metadata": {},
   "source": [
    "## 逻辑回归"
   ]
  },
  {
   "cell_type": "markdown",
   "metadata": {},
   "source": [
    "### 获取数据"
   ]
  },
  {
   "cell_type": "code",
   "execution_count": 1,
   "metadata": {},
   "outputs": [
    {
     "name": "stdout",
     "output_type": "stream",
     "text": [
      "      0                                                  1\n",
      "0   ham  Go until jurong point, crazy.. Available only ...\n",
      "1   ham                      Ok lar... Joking wif u oni...\n",
      "2  spam  Free entry in 2 a wkly comp to win FA Cup fina...\n",
      "3   ham  U dun say so early hor... U c already then say...\n",
      "4   ham  Nah I don't think he goes to usf, he lives aro...\n",
      "4825\n",
      "747\n"
     ]
    }
   ],
   "source": [
    "import numpy as np\n",
    "import pandas as pd\n",
    "import matplotlib.pyplot as plt\n",
    "import seaborn as sns\n",
    "\n",
    "import warnings\n",
    "warnings.filterwarnings('ignore')\n",
    "\n",
    "FILENAME = r'D:\\Code\\GitHub\\notebook\\machine_learning\\datasets\\smsspamcollection\\SMSSpamCollection'\n",
    "\n",
    "# 读取数据（http://archive.ics.uci.edu/ml/datasets/SMS+Spam+Collection）\n",
    "df = pd.read_csv(FILENAME, delimiter='\\t', header=None)\n",
    "print(df.head())\n",
    "print(df[df[0]=='ham'][0].count())\n",
    "print(df[df[0]=='spam'][0].count())"
   ]
  },
  {
   "cell_type": "markdown",
   "metadata": {},
   "source": [
    "### 逻辑回归"
   ]
  },
  {
   "cell_type": "code",
   "execution_count": 2,
   "metadata": {},
   "outputs": [
    {
     "name": "stdout",
     "output_type": "stream",
     "text": [
      "Prediction: ham. Message: Squeeeeeze!! This is christmas hug.. If u lik my frndshp den hug me back.. If u get 3 u r cute:) 6 u r luvd:* 9 u r so lucky;) None? People hate u:\n",
      "Prediction: ham. Message: And also I've sorta blown him off a couple times recently so id rather not text him out of the blue looking for weed\n",
      "Prediction: ham. Message: Mmm thats better now i got a roast down me! id b better if i had a few drinks down me 2! Good indian?\n",
      "Prediction: ham. Message: Mm have some kanji dont eat anything heavy ok\n",
      "Prediction: ham. Message: So there's a ring that comes with the guys costumes. It's there so they can gift their future yowifes. Hint hint\n"
     ]
    }
   ],
   "source": [
    "# LogisticRegression 就是一个被logistic方程归一化后的线性回归，主要用于Classification\n",
    "\n",
    "'''\n",
    "TF-IDF(Term Frequency-Inverse Document Frequency, 词频-逆文件频率)\n",
    "TF（Term Frequency）词频，某个词在文章中出现的次数或频率，如果某篇文章中的某个词出现多次，那这个词可能是比较重要的词\n",
    "IDF（inverse document frequency）逆文档频率，这是一个词语“权重”的度量，在词频的基础上，如果一个词在多篇文档中词频较低，\n",
    "也就表示这是一个比较少见的词，但在某一篇文章中却出现了很多次，则这个词IDF值越大，在这篇文章中的\"权重\"越大。所以当一个词越常见，IDF越低。\n",
    "当计算出TF和IDF的值后，两个一乘就得到TF-IDF，这个词的TF-IDF越高就表示，就表示在这篇文章中的重要性越大，越有可能就是文章的关键词\n",
    "\n",
    "Sklearn中CountVectorizer类会将文本中的词语转换为词频矩阵。矩阵中word[i][j]，它表示j词在i类文本下的词频\n",
    "TfidfTransformer类用于统计每个词语的TF-IDF值\n",
    "参考：https://zhuanlan.zhihu.com/p/27330205?utm_source=tuicool&utm_medium=referral\n",
    "'''\n",
    "\n",
    "'''\n",
    "fit_transform(traindata)对部分数据先拟合fit，找到该part的整体指标，如均值、方差、最大值最小值等等（根据具体转换的目的），\n",
    "然后对该traindata进行转换transform，从而实现数据的标准化、归一化等等。。\n",
    "根据对之前部分fit的整体指标，对剩余的数据（testdata）使用同样的均值、方差、最大最小值等指标进行转换transform(testdata)，\n",
    "从而保证traindata、testdata处理方式相同。\n",
    "必须先用fit_transform(traindata)，之后再transform(testdata)，如果直接transform(traindata)，程序会报错\n",
    "如果fit_transfrom(traindata)后，使用fit_transform(testdata)而不用transform(testdata)，虽然也能归一化，但是两个结果不是在同一个“标准”下的，\n",
    "具有明显差异。\n",
    "参考：http://m.blog.csdn.net/anecdotegyb/article/details/74857055\n",
    "'''\n",
    "\n",
    "from sklearn.feature_extraction.text import TfidfVectorizer\n",
    "from sklearn.linear_model.logistic import LogisticRegression\n",
    "from sklearn.model_selection import train_test_split, cross_val_score\n",
    "\n",
    "X_train_raw, X_test_raw, y_train, y_test = train_test_split(df[1], df[0], random_state=42)\n",
    "\n",
    "vectorizer = TfidfVectorizer()\n",
    "# 第一个fit_transform是计算tf-idf，第二个fit_transform是将文本转为词频矩阵\n",
    "X_train = vectorizer.fit_transform(X_train_raw)\n",
    "X_test = vectorizer.transform(X_test_raw)\n",
    "\n",
    "classifier = LogisticRegression()\n",
    "classifier.fit(X_train, y_train)\n",
    "predictions = classifier.predict(X_test)\n",
    "\n",
    "# 这里i取值是0..4，而X_test_raw的索引不是0..4，要先通过X_test_raw.index[i]取得X_test_raw的索引值\n",
    "for i, prediction in enumerate(predictions[:5]):\n",
    "    print('Prediction: %s. Message: %s' %(prediction, X_test_raw[X_test_raw.index[i]]))"
   ]
  },
  {
   "cell_type": "markdown",
   "metadata": {},
   "source": [
    "### 评价模型（precision、recall、f1）"
   ]
  },
  {
   "cell_type": "code",
   "execution_count": 3,
   "metadata": {
    "scrolled": true
   },
   "outputs": [
    {
     "name": "stdout",
     "output_type": "stream",
     "text": [
      "accuracy: [ 0.95340502  0.96291866  0.9437799   0.95568862  0.94491018]\n",
      "precison: [ 0.97435897  1.          1.          1.          0.97142857]\n",
      "recall: [ 0.67256637  0.72321429  0.58035714  0.66964286  0.60714286]\n",
      "f1: [ 0.79581152  0.83937824  0.73446328  0.80213904  0.74725275]\n"
     ]
    }
   ],
   "source": [
    "# cross_val_score：这个函数的返回值就是对于每次不同的的划分train_data时，在test_data上得到的分类的准确率\n",
    "# 准确率的算法可以通过score_func参数指定，如果不指定的话，是用模型默认自带的准确率算法\n",
    "# Precision = TP/(TP+FP)\n",
    "# Recall = TP/(TP+FN)\n",
    "# F1 = 2/(1/precision+1/recall) = TP/(TP+(FN+FP)/2)\n",
    "accuracy = cross_val_score(classifier, X_train, y_train, cv=5)\n",
    "print('accuracy:', accuracy)\n",
    "\n",
    "# 对于precision/recall/f1计算，需要对数据进行二进制化，否则会出错。详细可以参考：\n",
    "# https://codedump.io/share/Rufb5kFeh9m0/1/scikit-learn-script-giving-vastly-different-results-than-the-tutorial-and-gives-an-error-when-i-change-the-dataframes\n",
    "# https://stackoverflow.com/questions/27357121/scikit-calculate-precision-and-recall-using-cross-val-score-function\n",
    "from sklearn.metrics import precision_score, recall_score, f1_score, accuracy_score, make_scorer\n",
    "# Precision\n",
    "precision_scorer = make_scorer(precision_score, pos_label='spam')\n",
    "precisions = cross_val_score(classifier, X_train, y_train, cv=5, scoring=precision_scorer)\n",
    "print('precison:', precisions)\n",
    "# Recall\n",
    "recall_scorer = make_scorer(recall_score, pos_label='spam')\n",
    "recalls = cross_val_score(classifier, X_train, y_train, cv=5, scoring=recall_scorer)\n",
    "print ('recall:', recalls)\n",
    "# F1\n",
    "f1_scorer = make_scorer(f1_score, pos_label='spam')\n",
    "f1 = cross_val_score(classifier, X_train, y_train, cv=5, scoring=f1_scorer)\n",
    "print ('f1:', f1)"
   ]
  },
  {
   "cell_type": "markdown",
   "metadata": {},
   "source": [
    "### ROC"
   ]
  },
  {
   "cell_type": "code",
   "execution_count": 4,
   "metadata": {},
   "outputs": [
    {
     "data": {
      "image/png": "[encoded data removed]",
      "text/plain": [
       "<matplotlib.figure.Figure at 0xa860a20>"
      ]
     },
     "metadata": {},
     "output_type": "display_data"
    }
   ],
   "source": [
    "# 评价模型的另外一种方法：ROC曲线（只适用于Binary classification）\n",
    "# True Positive Rate(Recall) VS False Positive Rate\n",
    "from sklearn.metrics import roc_curve, auc\n",
    "\n",
    "# predict_proba返回的是一个n行k列的数组，第i行第j列上的数值是模型预测第i个预测样本的标签为j的概率。所以每一行的和应该等于1\n",
    "predictions = classifier.predict_proba(X_test)\n",
    "false_positive_rate, recall, thresholds = roc_curve(y_test, predictions[:, 1], pos_label='spam')\n",
    "roc_auc = auc(false_positive_rate, recall)\n",
    "\n",
    "plt.title('ROC')\n",
    "plt.plot(false_positive_rate, recall, label='AUC')\n",
    "plt.legend(loc='lower right')\n",
    "plt.plot([0,1], [0,1], 'r--')\n",
    "plt.xlim([0.0, 1.0])\n",
    "plt.ylim([0.0, 1.0])\n",
    "plt.ylabel('recall(true positive rate)')\n",
    "plt.xlabel('false positive rate')\n",
    "plt.show()"
   ]
  },
  {
   "cell_type": "markdown",
   "metadata": {},
   "source": [
    "### Grid Search（网格搜索）"
   ]
  },
  {
   "cell_type": "code",
   "execution_count": 5,
   "metadata": {
    "scrolled": true
   },
   "outputs": [
    {
     "name": "stdout",
     "output_type": "stream",
     "text": [
      "Fitting 5 folds for each of 1536 candidates, totalling 7680 fits\n"
     ]
    },
    {
     "name": "stderr",
     "output_type": "stream",
     "text": [
      "[Parallel(n_jobs=4)]: Done  42 tasks      | elapsed:   16.8s\n",
      "[Parallel(n_jobs=4)]: Done 192 tasks      | elapsed:   47.5s\n",
      "[Parallel(n_jobs=4)]: Done 442 tasks      | elapsed:  1.7min\n",
      "[Parallel(n_jobs=4)]: Done 792 tasks      | elapsed:  3.0min\n",
      "[Parallel(n_jobs=4)]: Done 1242 tasks      | elapsed:  4.6min\n",
      "[Parallel(n_jobs=4)]: Done 1792 tasks      | elapsed:  6.7min\n",
      "[Parallel(n_jobs=4)]: Done 2442 tasks      | elapsed:  9.3min\n",
      "[Parallel(n_jobs=4)]: Done 3192 tasks      | elapsed: 12.2min\n",
      "[Parallel(n_jobs=4)]: Done 4042 tasks      | elapsed: 15.5min\n",
      "[Parallel(n_jobs=4)]: Done 4992 tasks      | elapsed: 19.3min\n",
      "[Parallel(n_jobs=4)]: Done 6042 tasks      | elapsed: 25.6min\n",
      "[Parallel(n_jobs=4)]: Done 7192 tasks      | elapsed: 37.1min\n",
      "[Parallel(n_jobs=4)]: Done 7680 out of 7680 | elapsed: 39.1min finished\n"
     ]
    },
    {
     "name": "stdout",
     "output_type": "stream",
     "text": [
      "Best score: 0.98\n",
      "Best parameters set:\n",
      "\tclf__C: 10\n",
      "\tclf__penalty: 'l2'\n",
      "\tvect__max_df: 0.25\n",
      "\tvect__max_features: 10000\n",
      "\tvect__ngram_range: (1, 2)\n",
      "\tvect__norm: 'l2'\n",
      "\tvect__stop_words: None\n",
      "\tvect__use_idf: 'True'\n",
      "Accuracy: 0.989231873654\n",
      "Precision: 0.988571428571\n",
      "Recall: 0.930107526882\n"
     ]
    }
   ],
   "source": [
    "# 机器学习的数据输入往往需要很多数据转换步骤，Sklearn提供了pipeline类来帮助完成这些转换\n",
    "from sklearn.pipeline import Pipeline\n",
    "from sklearn.model_selection import GridSearchCV\n",
    "\n",
    "pipeline = Pipeline([\n",
    "    ('vect', TfidfVectorizer(stop_words='english')),\n",
    "    ('clf', LogisticRegression())\n",
    "])\n",
    "\n",
    "parameters = {\n",
    "    'vect__max_df': (0.25, 0.5, 0.75),\n",
    "    'vect__stop_words': ('english', None),\n",
    "    'vect__max_features': (2500, 5000, 10000, None),\n",
    "    'vect__ngram_range': ((1,1), (1,2)),\n",
    "    'vect__use_idf': ('True', 'False'),\n",
    "    'vect__norm': ('l1', 'l2'),\n",
    "    'clf__penalty': ('l1', 'l2'),\n",
    "    'clf__C': (0.01, 0.1, 1, 10),\n",
    "}\n",
    "\n",
    "X_train, X_test, y_train, y_test = train_test_split(df[1], df[0], random_state=42)\n",
    "\n",
    "# Grid Search找出提供的参数组合中对应scoring方法的最佳参数\n",
    "grid_search = GridSearchCV(pipeline, parameters, n_jobs=4, verbose=1, scoring='accuracy', cv=5)\n",
    "grid_search.fit(X_train, y_train)\n",
    "\n",
    "print('Best score: %.2f' %grid_search.best_score_)\n",
    "print('Best parameters set:')\n",
    "best_parameters = grid_search.best_estimator_.get_params()\n",
    "for param_name in sorted(parameters.keys()):\n",
    "    print('\\t%s: %r' % (param_name, best_parameters[param_name]))\n",
    "predictions = grid_search.predict(X_test)\n",
    "print('Accuracy:', accuracy_score(y_test, predictions))\n",
    "# 注意这里和上面一样，对于precision/recall/f1计算，需要加上pos_label\n",
    "print('Precision:', precision_score(y_test, predictions, pos_label='spam'))\n",
    "print('Recall:', recall_score(y_test, predictions, pos_label='spam'))"
   ]
  },
  {
   "cell_type": "markdown",
   "metadata": {},
   "source": [
    "### 多类别分类"
   ]
  },
  {
   "cell_type": "code",
   "execution_count": 6,
   "metadata": {},
   "outputs": [
    {
     "name": "stdout",
     "output_type": "stream",
     "text": [
      "<class 'pandas.core.frame.DataFrame'>\n",
      "RangeIndex: 156060 entries, 0 to 156059\n",
      "Data columns (total 4 columns):\n",
      "PhraseId      156060 non-null int64\n",
      "SentenceId    156060 non-null int64\n",
      "Phrase        156060 non-null object\n",
      "Sentiment     156060 non-null int64\n",
      "dtypes: int64(3), object(1)\n",
      "memory usage: 4.8+ MB\n",
      "   PhraseId  SentenceId                                             Phrase  \\\n",
      "0         1           1  A series of escapades demonstrating the adage ...   \n",
      "1         2           1  A series of escapades demonstrating the adage ...   \n",
      "2         3           1                                           A series   \n",
      "3         4           1                                                  A   \n",
      "4         5           1                                             series   \n",
      "\n",
      "   Sentiment  \n",
      "0          1  \n",
      "1          2  \n",
      "2          2  \n",
      "3          2  \n",
      "4          2  \n"
     ]
    },
    {
     "data": {
      "text/plain": [
       "count    156060.000000\n",
       "mean          2.063578\n",
       "std           0.893832\n",
       "min           0.000000\n",
       "25%           2.000000\n",
       "50%           2.000000\n",
       "75%           3.000000\n",
       "max           4.000000\n",
       "Name: Sentiment, dtype: float64"
      ]
     },
     "execution_count": 6,
     "metadata": {},
     "output_type": "execute_result"
    }
   ],
   "source": [
    "FILENAME = r'D:\\Code\\GitHub\\notebook\\machine_learning\\datasets\\movies\\train.tsv'\n",
    "# 读取数据\n",
    "df = pd.read_csv(FILENAME, header=0, delimiter='\\t')\n",
    "df.info()\n",
    "print(df.head())\n",
    "df['Sentiment'].describe()"
   ]
  },
  {
   "cell_type": "code",
   "execution_count": 7,
   "metadata": {},
   "outputs": [
    {
     "name": "stdout",
     "output_type": "stream",
     "text": [
      "Fitting 5 folds for each of 24 candidates, totalling 120 fits\n"
     ]
    },
    {
     "name": "stderr",
     "output_type": "stream",
     "text": [
      "[Parallel(n_jobs=4)]: Done  42 tasks      | elapsed:  2.1min\n",
      "[Parallel(n_jobs=4)]: Done 120 out of 120 | elapsed:  8.9min finished\n"
     ]
    },
    {
     "name": "stdout",
     "output_type": "stream",
     "text": [
      "Best Score: 0.629\n",
      "Best Parameters set:\n",
      "\tclf__C: 10\n",
      "\tvect__max_df: 0.25\n",
      "\tvect__ngram_range: (1, 2)\n",
      "\tvect__use_idf: False\n"
     ]
    }
   ],
   "source": [
    "# Gridsearch参数\n",
    "pipeline = Pipeline([\n",
    "    ('vect', TfidfVectorizer(stop_words='english')),\n",
    "    ('clf', LogisticRegression()),\n",
    "])\n",
    "\n",
    "parameters = {\n",
    "    'vect__max_df': (0.25, 0.5),\n",
    "    'vect__ngram_range': ((1,1), (1,2)),\n",
    "    'vect__use_idf': (True, False),\n",
    "    'clf__C': (0.1, 1, 10),\n",
    "}\n",
    "X, y = df['Phrase'], df['Sentiment'].as_matrix()\n",
    "X_train, X_test, y_train, y_test = train_test_split(X, y, train_size=0.5)\n",
    "# Grid Search找出提供的参数组合中对应scoring方法的最佳参数\n",
    "grid_search = GridSearchCV(pipeline, parameters, n_jobs=4, verbose=1, scoring='accuracy', cv=5)\n",
    "grid_search.fit(X_train, y_train)\n",
    "print('Best Score: %.3f' %grid_search.best_score_)\n",
    "print('Best Parameters set:')\n",
    "best_parameters = grid_search.best_estimator_.get_params()\n",
    "for param_name in sorted(parameters.keys()):\n",
    "    print('\\t%s: %r' %(param_name, best_parameters[param_name]))"
   ]
  },
  {
   "cell_type": "code",
   "execution_count": 8,
   "metadata": {},
   "outputs": [
    {
     "name": "stdout",
     "output_type": "stream",
     "text": [
      "Accuracy: 0.635845187748\n",
      "Confusion Matrix: [[ 1187  1540   659    89    10]\n",
      " [  997  5955  6175   569    36]\n",
      " [  230  3060 32695  3593   176]\n",
      " [   22   417  6509  8158  1342]\n",
      " [    2    33   524  2432  1620]]\n",
      "Classification Report:              precision    recall  f1-score   support\n",
      "\n",
      "          0       0.49      0.34      0.40      3485\n",
      "          1       0.54      0.43      0.48     13732\n",
      "          2       0.70      0.82      0.76     39754\n",
      "          3       0.55      0.50      0.52     16448\n",
      "          4       0.51      0.35      0.42      4611\n",
      "\n",
      "avg / total       0.62      0.64      0.62     78030\n",
      "\n"
     ]
    }
   ],
   "source": [
    "# 混淆矩阵的每一列代表了预测类别，每一列的总数表示预测为该类别的数据的数目，每一行代表了数据的真实归属类别，每一行的数据总数表示该类别的数据实例的数目\n",
    "# https://en.wikipedia.org/wiki/Confusion_matrix\n",
    "from sklearn.metrics import classification_report, confusion_matrix\n",
    "\n",
    "predictions = grid_search.predict(X_test)\n",
    "print('Accuracy:', accuracy_score(y_test, predictions))\n",
    "print('Confusion Matrix:', confusion_matrix(y_test, predictions))\n",
    "print('Classification Report:', classification_report(y_test, predictions))"
   ]
  },
  {
   "cell_type": "code",
   "execution_count": null,
   "metadata": {
    "collapsed": true
   },
   "outputs": [],
   "source": []
  }
 ],
 "metadata": {
  "kernelspec": {
   "display_name": "Python 3",
   "language": "python",
   "name": "python3"
  },
  "language_info": {
   "codemirror_mode": {
    "name": "ipython",
    "version": 3
   },
   "file_extension": ".py",
   "mimetype": "text/x-python",
   "name": "python",
   "nbconvert_exporter": "python",
   "pygments_lexer": "ipython3",
   "version": "3.5.2"
  },
  "toc": {
   "colors": {
    "hover_highlight": "#DAA520",
    "navigate_num": "#000000",
    "navigate_text": "#333333",
    "running_highlight": "#FF0000",
    "selected_highlight": "#FFD700",
    "sidebar_border": "#EEEEEE",
    "wrapper_background": "#FFFFFF"
   },
   "moveMenuLeft": true,
   "nav_menu": {
    "height": "141px",
    "width": "252px"
   },
   "navigate_menu": true,
   "number_sections": true,
   "sideBar": true,
   "threshold": 4,
   "toc_cell": false,
   "toc_section_display": "block",
   "toc_window_display": false,
   "widenNotebook": false
  }
 },
 "nbformat": 4,
 "nbformat_minor": 2
}
