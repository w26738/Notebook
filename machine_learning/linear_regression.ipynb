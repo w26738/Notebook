{
 "cells": [
  {
   "cell_type": "markdown",
   "metadata": {},
   "source": [
    "## Linear Regression\n",
    "Ref: Gavin Hackeling, Mastering Machine Learning with scikit-learn, 2014"
   ]
  },
  {
   "cell_type": "markdown",
   "metadata": {},
   "source": [
    "### Simple Linear Regression"
   ]
  },
  {
   "cell_type": "code",
   "execution_count": 1,
   "metadata": {},
   "outputs": [
    {
     "data": {
      "image/png": "[encoded data removed]",
      "text/plain": [
       "<matplotlib.figure.Figure at 0x50ac048>"
      ]
     },
     "metadata": {},
     "output_type": "display_data"
    }
   ],
   "source": [
    "# 预测不同尺寸Pizza价格\n",
    "import matplotlib.pyplot as plt\n",
    "import seaborn as sns\n",
    "import numpy as np\n",
    "import pandas as pd\n",
    "\n",
    "# 已知的Pizza价格和尺寸的数据\n",
    "X = [6, 8, 10, 14, 18]\n",
    "y = [7, 9, 13, 17.5, 18]\n",
    "# 将列表转换为dataframe\n",
    "pizza_train_data = pd.DataFrame([X,y], index=['Diameter (in inches)', 'Price (in dollars)']).T\n",
    "sns.pairplot(x_vars='Diameter (in inches)', y_vars='Price (in dollars)', data=pizza_train_data, size=4, aspect=1.3)\n",
    "plt.title('Pizza price plotted against diameter')\n",
    "plt.axis([0, 25, 0, 25])\n",
    "plt.grid()\n",
    "sns.despine(top=False, right=False)\n",
    "plt.show()"
   ]
  },
  {
   "cell_type": "code",
   "execution_count": 2,
   "metadata": {},
   "outputs": [
    {
     "name": "stdout",
     "output_type": "stream",
     "text": [
      "[ 0.9762931]\n",
      "1.96551724138\n",
      "A 12\" pizza price should be: $13.68\n"
     ]
    }
   ],
   "source": [
    "from sklearn.linear_model import LinearRegression\n",
    "\n",
    "# sklearn的线性模型是需要矩阵输入，所以需要reshape\n",
    "X_train = pizza_train_data['Diameter (in inches)'].reshape(-1,1)\n",
    "y_train = pizza_train_data['Price (in dollars)']\n",
    "model_1 = LinearRegression()\n",
    "model_1.fit(X_train, y_train)\n",
    "print(model_1.coef_)\n",
    "print(model_1.intercept_)\n",
    "print('A 12\" pizza price should be: $%.2f' %model_1.predict(12))"
   ]
  },
  {
   "cell_type": "code",
   "execution_count": 3,
   "metadata": {},
   "outputs": [
    {
     "name": "stdout",
     "output_type": "stream",
     "text": [
      "R-squared: 0.66\n",
      "RMSE: 1.96\n"
     ]
    },
    {
     "data": {
      "image/png": "[encoded data removed]",
      "text/plain": [
       "<matplotlib.figure.Figure at 0xac80390>"
      ]
     },
     "metadata": {},
     "output_type": "display_data"
    }
   ],
   "source": [
    "from sklearn.metrics import mean_squared_error\n",
    "\n",
    "X = [8, 9, 11, 16, 12]\n",
    "y = [11, 8.5, 15, 18, 11]\n",
    "pizza_test_data = pd.DataFrame([X,y], index=['Diameter (in inches)', 'Price (in dollars)']).T \n",
    "\n",
    "X_test = pizza_test_data['Diameter (in inches)'].reshape(-1,1)\n",
    "y_test = pizza_test_data['Price (in dollars)']\n",
    "\n",
    "y_predict = model_1.predict(X_test)\n",
    "score = model_1.score(X_test, y_test)\n",
    "mse = mean_squared_error(y_test, y_predict)\n",
    "rmse = np.sqrt(mse)\n",
    "print('R-squared: %.2f' %score) \n",
    "print('RMSE: %.2f' %rmse)\n",
    "\n",
    "plt.figure()\n",
    "plt.title('Pizza price plotted against diameter')\n",
    "plt.plot(X_train, y_train, 'k.', label='Train Data')\n",
    "plt.plot(X_test, y_test, 'g*', label='Test Data')\n",
    "plt.plot(X_test, y_predict, 'r', label='Predict Data')\n",
    "plt.axis([0, 25, 0, 25])\n",
    "plt.xlabel('Diameter (in inches)')\n",
    "plt.ylabel('Price (in dollars)')\n",
    "plt.grid()\n",
    "plt.legend()\n",
    "plt.show()"
   ]
  },
  {
   "cell_type": "markdown",
   "metadata": {},
   "source": [
    "### Multiple Linear Regression"
   ]
  },
  {
   "cell_type": "code",
   "execution_count": 4,
   "metadata": {},
   "outputs": [
    {
     "name": "stdout",
     "output_type": "stream",
     "text": [
      "Predicted price: 10.0625, Real Price: [11]\n",
      "Predicted price: 10.28125, Real Price: [8.5]\n",
      "Predicted price: 13.09375, Real Price: [15]\n",
      "Predicted price: 18.1458333333, Real Price: [18]\n",
      "Predicted price: 13.3125, Real Price: [11]\n",
      "R-squared: 0.77\n",
      "RMSE: 1.62\n"
     ]
    }
   ],
   "source": [
    "# 数据增加了第二列：Pizza的配料数目\n",
    "X = [[6, 2], [8, 1], [10, 0], [14, 2], [18, 0]]\n",
    "y = [7, 9, 13, 17.5, 18]\n",
    "X_train_2 = pd.DataFrame(X, columns=['Diameter (in inches)', 'Number of toppings'])\n",
    "y_train_2 = y\n",
    "\n",
    "model_2 = LinearRegression()\n",
    "model_2.fit(X_train_2, y_train_2)\n",
    "\n",
    "X = [[8, 2], [9, 0], [11, 2], [16, 2], [12, 0]]\n",
    "y = [[11], [8.5], [15], [18], [11]]\n",
    "X_test_2 = pd.DataFrame(X, columns=['Diameter (in inches)', 'Number of toppings'])\n",
    "y_test_2 = y\n",
    "\n",
    "y_predict_2 = model_2.predict(X_test_2)\n",
    "for i, pred in enumerate(y_predict_2):\n",
    "    print('Predicted price: %s, Real Price: %s' %(pred, y_test_2[i]))\n",
    "\n",
    "score = model_2.score(X_test_2, y_test_2)\n",
    "mse = mean_squared_error(y_test_2, y_predict_2)\n",
    "rmse = np.sqrt(mse)\n",
    "print('R-squared: %.2f' %score) \n",
    "print('RMSE: %.2f' %rmse)"
   ]
  },
  {
   "cell_type": "markdown",
   "metadata": {},
   "source": [
    "### Polynomial Regression"
   ]
  },
  {
   "cell_type": "code",
   "execution_count": 5,
   "metadata": {},
   "outputs": [
    {
     "name": "stdout",
     "output_type": "stream",
     "text": [
      "X_train_3:\n",
      " [[   1.    6.   36.]\n",
      " [   1.    8.   64.]\n",
      " [   1.   10.  100.]\n",
      " [   1.   14.  196.]\n",
      " [   1.   18.  324.]]\n",
      "X_test_3:\n",
      " [[   1.    6.   36.]\n",
      " [   1.    8.   64.]\n",
      " [   1.   11.  121.]\n",
      " [   1.   16.  256.]]\n"
     ]
    },
    {
     "data": {
      "image/png": "[encoded data removed]",
      "text/plain": [
       "<matplotlib.figure.Figure at 0xaf30a20>"
      ]
     },
     "metadata": {},
     "output_type": "display_data"
    },
    {
     "name": "stdout",
     "output_type": "stream",
     "text": [
      "R-squared: 0.87\n",
      "RMSE: 1.35\n"
     ]
    }
   ],
   "source": [
    "from sklearn.preprocessing import PolynomialFeatures\n",
    "\n",
    "pizza_train_data = pd.DataFrame({'Diameter (in inches)': [6, 8, 10, 14, 18],\n",
    "                          'Price (in dollars)': [7, 9, 13, 17.5, 18],\n",
    "                         })\n",
    "pizza_test_data = pd.DataFrame({'Diameter (in inches)': [6, 8, 11, 16],\n",
    "                          'Price (in dollars)': [8, 12, 15, 18]\n",
    "                         })\n",
    "\n",
    "X_train_3 = pizza_train_data['Diameter (in inches)'].reshape(-1,1)\n",
    "y_train_3 = pizza_train_data['Price (in dollars)']\n",
    "X_test_3 = pizza_test_data['Diameter (in inches)'].reshape(-1,1)\n",
    "y_test_3 = pizza_test_data['Price (in dollars)'] \n",
    "\n",
    "# 简单一次线性回归\n",
    "model_3 = LinearRegression()\n",
    "model_3.fit(X_train_3, y_train_3)\n",
    "xx = np.linspace(0, 26, 100).reshape(-1,1)\n",
    "yy = model_3.predict(xx.reshape(-1,1))\n",
    "plt.plot(xx, yy, label='Predict_Data')\n",
    "\n",
    "# 二项式线性回归，需要对输入数据进行相应变换\n",
    "# y=a+b1*x+b2*x*x\n",
    "'''\n",
    "fit_transform(traindata)对部分数据先拟合fit，找到该part的整体指标，如均值、方差、最大值最小值等等（根据具体转换的目的），\n",
    "然后对该traindata进行转换transform，从而实现数据的标准化、归一化等等。。\n",
    "根据对之前部分fit的整体指标，对剩余的数据（testdata）使用同样的均值、方差、最大最小值等指标进行转换transform(testdata)，\n",
    "从而保证traindata、testdata处理方式相同。\n",
    "必须先用fit_transform(traindata)，之后再transform(testdata)，如果直接transform(traindata)，程序会报错\n",
    "如果fit_transfrom(traindata)后，使用fit_transform(testdata)而不用transform(testdata)，虽然也能归一化，但是两个结果不是在同一个“标准”下的，\n",
    "具有明显差异。\n",
    "参考：http://m.blog.csdn.net/anecdotegyb/article/details/74857055\n",
    "'''\n",
    "quadratic_featurizer = PolynomialFeatures(degree=2)\n",
    "X_train_3_quadratic = quadratic_featurizer.fit_transform(X_train_3)\n",
    "X_test_3_quadratic = quadratic_featurizer.transform(X_test_3)\n",
    "print('X_train_3:\\n', X_train_3_quadratic)\n",
    "print('X_test_3:\\n', X_test_3_quadratic)\n",
    "\n",
    "model_3_quadratic = LinearRegression()\n",
    "model_3_quadratic.fit(X_train_3_quadratic, y_train_3)\n",
    "xx_quadratic = quadratic_featurizer.fit_transform(xx)\n",
    "yy_quadratic = model_3_quadratic.predict(xx_quadratic)\n",
    "\n",
    "y_predict_3_quadratic = model_3_quadratic.predict(X_test_3_quadratic)\n",
    "\n",
    "# 二项式线性回归曲线（注意这里x轴取值是xx二不是xx_quadratic））\n",
    "plt.plot(xx, yy_quadratic, c='r', ls='--', label='Predict_Quadratic_Data')\n",
    "# 原始训练数据散点图\n",
    "plt.scatter(X_train_3, y_train_3, c='k', label='Train Data')\n",
    "plt.title('Pizza price plotted against diameter')\n",
    "plt.axis([0, 25, 0, 25])\n",
    "plt.xlabel('Diameter (in inches)')\n",
    "plt.ylabel('Price (in dollars)')\n",
    "plt.grid()\n",
    "plt.legend()\n",
    "plt.show()\n",
    "\n",
    "score = model_3_quadratic.score(X_test_3_quadratic, y_test_3)\n",
    "mse = mean_squared_error(y_test_3, y_predict_3_quadratic)\n",
    "rmse = np.sqrt(mse)\n",
    "print('R-squared: %.2f' %score) \n",
    "print('RMSE: %.2f' %rmse)"
   ]
  },
  {
   "cell_type": "code",
   "execution_count": 6,
   "metadata": {},
   "outputs": [
    {
     "name": "stdout",
     "output_type": "stream",
     "text": [
      "0.809726797708\n",
      "0.867544365635\n",
      "0.835692415604\n",
      "0.809588079586\n",
      "0.782128610968\n",
      "0.696007790924\n",
      "0.491984605687\n",
      "0.147957797273\n",
      "-0.094356667043\n"
     ]
    },
    {
     "data": {
      "image/png": "[encoded data removed]",
      "text/plain": [
       "<matplotlib.figure.Figure at 0x50ab358>"
      ]
     },
     "metadata": {},
     "output_type": "display_data"
    }
   ],
   "source": [
    "# 对不同多项式次数模型的分析，在次数为2时，模型score最高，随着次数增加，score逐渐降低，出现过拟合情况\n",
    "\n",
    "def polynominal_model(degree, X_train, y_train, X_test, y_test):\n",
    "    polynominal_featurizer = PolynomialFeatures(degree=degree)\n",
    "    X_train_polynominal = polynominal_featurizer.fit_transform(X_train)\n",
    "    X_test_polynominal = polynominal_featurizer.transform(X_test)\n",
    "#     print('X_train_polynominal:\\n', X_train_polynominal)\n",
    "#     print('X_test_polynominal:\\n', X_test_polynominal)\n",
    "\n",
    "    model_polynominal = LinearRegression()\n",
    "    model_polynominal.fit(X_train_polynominal, y_train)\n",
    "    xx_polynominal = polynominal_featurizer.fit_transform(xx)\n",
    "    yy_polynominal = model_polynominal.predict(xx_polynominal)\n",
    "\n",
    "    y_predict_polynominal = model_polynominal.predict(X_test_polynominal)\n",
    "    score = model_polynominal.score(X_test_polynominal, y_test)\n",
    "    print(score)\n",
    "    return score\n",
    "\n",
    "degree = np.arange(1,10)\n",
    "scorelist = []\n",
    "for deg in degree:\n",
    "    score = polynominal_model(deg, X_train_3, y_train_3, X_test_3, y_test_3)\n",
    "    scorelist.append(score)\n",
    "\n",
    "plt.scatter(degree, scorelist, marker='*', c='r')\n",
    "plt.title('Model Score .VS. Polynominal Degree')\n",
    "plt.xlabel('Polynominal Degree')\n",
    "plt.ylabel('Model Score')\n",
    "plt.grid()\n",
    "plt.show()"
   ]
  },
  {
   "cell_type": "code",
   "execution_count": null,
   "metadata": {
    "collapsed": true
   },
   "outputs": [],
   "source": []
  }
 ],
 "metadata": {
  "kernelspec": {
   "display_name": "Python 3",
   "language": "python",
   "name": "python3"
  },
  "language_info": {
   "codemirror_mode": {
    "name": "ipython",
    "version": 3
   },
   "file_extension": ".py",
   "mimetype": "text/x-python",
   "name": "python",
   "nbconvert_exporter": "python",
   "pygments_lexer": "ipython3",
   "version": "3.5.2"
  },
  "toc": {
   "colors": {
    "hover_highlight": "#DAA520",
    "navigate_num": "#000000",
    "navigate_text": "#333333",
    "running_highlight": "#FF0000",
    "selected_highlight": "#FFD700",
    "sidebar_border": "#EEEEEE",
    "wrapper_background": "#FFFFFF"
   },
   "moveMenuLeft": true,
   "nav_menu": {
    "height": "86px",
    "width": "252px"
   },
   "navigate_menu": true,
   "number_sections": true,
   "sideBar": true,
   "threshold": 4,
   "toc_cell": false,
   "toc_section_display": "block",
   "toc_window_display": false,
   "widenNotebook": false
  }
 },
 "nbformat": 4,
 "nbformat_minor": 2
}
