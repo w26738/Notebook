{
 "cells": [
  {
   "cell_type": "code",
   "execution_count": 1,
   "metadata": {},
   "outputs": [],
   "source": [
    "# 参考： https://zh.wikipedia.org/wiki/%E8%92%99%E6%8F%90%E9%9C%8D%E7%88%BE%E5%95%8F%E9%A1%8C\n",
    "\n",
    "import random\n",
    "\n",
    "class monty_hall:\n",
    "    # 初始化变量\n",
    "    def __init__(self):\n",
    "        self.car_door = None\n",
    "        self.opened_door = None\n",
    "        self.selected_door = None\n",
    "    \n",
    "    # 用户随机选择一个门\n",
    "    def select_door(self):\n",
    "        self.selected_door = random.randint(1,3)\n",
    "\n",
    "    # 主持人选择打开的门\n",
    "    def open_door(self):\n",
    "        self.opened_door = random.randint(1,3)\n",
    "        while (self.opened_door ==  self.selected_door) or (self.opened_door ==  self.car_door):\n",
    "            self.opened_door = random.randint(1,3)\n",
    "    \n",
    "    # 用户转换选择\n",
    "    def change_door(self):\n",
    "        self.selected_door = 6 - self.opened_door - self.selected_door\n",
    "    \n",
    "    # 判断用户选择的门后是否有汽车\n",
    "    def is_win(self):\n",
    "        if self.selected_door == self.car_door:\n",
    "            return True\n",
    "        else:\n",
    "            return False\n",
    "    \n",
    "    def run(self, change_flag=True):\n",
    "        self.car_door = random.randint(1,3)\n",
    "        self.select_door()\n",
    "        self.open_door()\n",
    "        if change_flag:\n",
    "            self.change_door()\n",
    "        \n",
    "        return self.is_win()"
   ]
  },
  {
   "cell_type": "code",
   "execution_count": 2,
   "metadata": {},
   "outputs": [
    {
     "name": "stdout",
     "output_type": "stream",
     "text": [
      "win rate is: 0.6668188\n"
     ]
    }
   ],
   "source": [
    "win_num, lose_num = 0, 0\n",
    "total_num = 10000000\n",
    "mh = monty_hall()\n",
    "\n",
    "for i in range(total_num):\n",
    "    if mh.run(change_flag=True):\n",
    "        win_num += 1\n",
    "    else:\n",
    "        lose_num += 1\n",
    "\n",
    "print(\"win rate is:\", win_num/total_num)"
   ]
  }
 ],
 "metadata": {
  "kernelspec": {
   "display_name": "Python 3",
   "language": "python",
   "name": "python3"
  },
  "language_info": {
   "codemirror_mode": {
    "name": "ipython",
    "version": 3
   },
   "file_extension": ".py",
   "mimetype": "text/x-python",
   "name": "python",
   "nbconvert_exporter": "python",
   "pygments_lexer": "ipython3",
   "version": "3.5.2"
  },
  "toc": {
   "colors": {
    "hover_highlight": "#DAA520",
    "navigate_num": "#000000",
    "navigate_text": "#333333",
    "running_highlight": "#FF0000",
    "selected_highlight": "#FFD700",
    "sidebar_border": "#EEEEEE",
    "wrapper_background": "#FFFFFF"
   },
   "moveMenuLeft": true,
   "nav_menu": {
    "height": "12px",
    "width": "252px"
   },
   "navigate_menu": true,
   "number_sections": true,
   "sideBar": true,
   "threshold": 4,
   "toc_cell": false,
   "toc_section_display": "block",
   "toc_window_display": false,
   "widenNotebook": false
  }
 },
 "nbformat": 4,
 "nbformat_minor": 2
}
