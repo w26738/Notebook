{
 "cells": [
  {
   "cell_type": "code",
   "execution_count": 1,
   "metadata": {},
   "outputs": [
    {
     "name": "stdout",
     "output_type": "stream",
     "text": [
      "Shoot rate: 0.6172945\n"
     ]
    }
   ],
   "source": [
    "# Monte Carlo模拟二项式分布\n",
    "'''\n",
    "如果一场篮球比赛的10名参赛选手每人都投了15次篮，每次命中的概率是50%，那么一场比赛中至少有一名球员投篮命中10次的概率是多少？\n",
    "P1 = C(k n)*p^k*(1-p)^(n-k)=C(10 15)*0.5^10*(1-0.5)^(15-10)\n",
    "P = 1-(1-P1)^num = 1-(1-P1)^10\n",
    "'''\n",
    "\n",
    "import random\n",
    "\n",
    "total_num = 2000000\n",
    "\n",
    "# 模拟命中概率\n",
    "# p：命中概率\n",
    "def random_gen(p):\n",
    "    r = random.random()\n",
    "    if (r<=p):\n",
    "        return True \n",
    "    return False\n",
    "\n",
    "# 模拟投篮过程\n",
    "# num：选手人数；n：投篮次数；k：命中次数；p：命中概率\n",
    "def shoot_simulator(num, n, k, p):\n",
    "    for i in range(num):\n",
    "        score = 0\n",
    "        for j in range(n):\n",
    "            if (random_gen(p) == True):\n",
    "                score += 1\n",
    "        if score == k:\n",
    "            return True\n",
    "    \n",
    "    return False\n",
    "\n",
    "shoot_num = 0\n",
    "for i in range(total_num):\n",
    "    if shoot_simulator(10, 15, 10, 0.5):\n",
    "        shoot_num += 1\n",
    "    \n",
    "print(\"Shoot rate:\", shoot_num/total_num) "
   ]
  },
  {
   "cell_type": "code",
   "execution_count": null,
   "metadata": {},
   "outputs": [],
   "source": []
  }
 ],
 "metadata": {
  "kernelspec": {
   "display_name": "Python 3",
   "language": "python",
   "name": "python3"
  },
  "language_info": {
   "codemirror_mode": {
    "name": "ipython",
    "version": 3
   },
   "file_extension": ".py",
   "mimetype": "text/x-python",
   "name": "python",
   "nbconvert_exporter": "python",
   "pygments_lexer": "ipython3",
   "version": "3.5.2"
  },
  "toc": {
   "colors": {
    "hover_highlight": "#DAA520",
    "navigate_num": "#000000",
    "navigate_text": "#333333",
    "running_highlight": "#FF0000",
    "selected_highlight": "#FFD700",
    "sidebar_border": "#EEEEEE",
    "wrapper_background": "#FFFFFF"
   },
   "moveMenuLeft": true,
   "nav_menu": {
    "height": "12px",
    "width": "252px"
   },
   "navigate_menu": true,
   "number_sections": true,
   "sideBar": true,
   "threshold": 4,
   "toc_cell": false,
   "toc_section_display": "block",
   "toc_window_display": false,
   "widenNotebook": false
  }
 },
 "nbformat": 4,
 "nbformat_minor": 2
}
